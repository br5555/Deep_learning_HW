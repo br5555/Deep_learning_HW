{
 "cells": [
  {
   "cell_type": "code",
   "execution_count": 1,
   "metadata": {},
   "outputs": [
    {
     "name": "stdout",
     "output_type": "stream",
     "text": [
      "Populating the interactive namespace from numpy and matplotlib\n"
     ]
    },
    {
     "name": "stderr",
     "output_type": "stream",
     "text": [
      "c:\\users\\branko\\anaconda3\\lib\\site-packages\\IPython\\core\\magics\\pylab.py:161: UserWarning: pylab import has clobbered these variables: ['random']\n",
      "`%matplotlib` prevents importing * from pylab and numpy\n",
      "  \"\\n`%matplotlib` prevents importing * from pylab and numpy\"\n"
     ]
    }
   ],
   "source": [
    "import tensorflow as tf\n",
    "import numpy as np\n",
    "import matplotlib.pyplot as plt\n",
    "from sklearn.svm import SVC\n",
    "import random\n",
    "import scipy as sp\n",
    "import pandas as pd\n",
    "%pylab inline\n",
    "import pdb\n",
    "import IPython"
   ]
  },
  {
   "cell_type": "code",
   "execution_count": 2,
   "metadata": {},
   "outputs": [],
   "source": [
    "def convert_to_one_hot(Y):\n",
    "    N= Y.shape[0]\n",
    "    Yoh = np.zeros((N, 10))\n",
    "    for i in range(N):\n",
    "        Yoh[i, np.int32(Y[i])] = 1\n",
    "    \n",
    "    return Yoh"
   ]
  },
  {
   "cell_type": "code",
   "execution_count": 3,
   "metadata": {},
   "outputs": [],
   "source": [
    "import numpy as np\n",
    "import matplotlib.pyplot as plt\n",
    "from sklearn.model_selection import train_test_split\n",
    "from sklearn.datasets import make_classification\n",
    "from sklearn.neighbors import KNeighborsClassifier\n",
    "\n",
    "\n",
    "def plot_2d_clf_problem(X, y, h=None):\n",
    "    '''\n",
    "    Plots a two-dimensional labeled dataset (X,y) and, if function h(x) is given, \n",
    "    the decision surfaces.\n",
    "    '''\n",
    "    assert X.shape[1] == 2, \"Dataset is not two-dimensional\"\n",
    "    if h!=None : \n",
    "        # Create a mesh to plot in\n",
    "        r = 0.02  # mesh resolution\n",
    "        x_min, x_max = X[:, 0].min() - 1, X[:, 0].max() + 1\n",
    "        y_min, y_max = X[:, 1].min() - 1, X[:, 1].max() + 1\n",
    "        xx, yy = np.meshgrid(np.arange(x_min, x_max, r),\n",
    "                             np.arange(y_min, y_max, r))\n",
    "        XX=np.c_[xx.ravel(), yy.ravel()]\n",
    "        try:\n",
    "            Z_test = h(XX)\n",
    "            if Z_test.shape == ():\n",
    "                # h returns a scalar when applied to a matrix; map explicitly\n",
    "                Z = np.array(list(map(h,XX)))\n",
    "            else :\n",
    "                Z = Z_test\n",
    "        except ValueError:\n",
    "            # can't apply to a matrix; map explicitly\n",
    "            Z = np.array(list(map(h,XX)))\n",
    "        # Put the result into a color plot\n",
    "        Z = Z.reshape(xx.shape)\n",
    "        plt.contourf(xx, yy, Z, cmap=plt.cm.Pastel1)\n",
    "\n",
    "    # Plot the dataset\n",
    "    plt.scatter(X[:,0],X[:,1], c=y, cmap=plt.cm.tab20b, marker='o', s=50);\n",
    "\n",
    "def plot_2d_svc_problem(X, y, svc=None):\n",
    "    '''\n",
    "    Plots a two-dimensional labeled dataset (X,y) and, if SVC object is given, \n",
    "    the decision surfaces (with margin as well).\n",
    "    '''\n",
    "    assert X.shape[1] == 2, \"Dataset is not two-dimensional\"\n",
    "    if svc!=None : \n",
    "        # Create a mesh to plot in\n",
    "        r = 0.03  # mesh resolution\n",
    "        x_min, x_max = X[:, 0].min() - 1, X[:, 0].max() + 1\n",
    "        y_min, y_max = X[:, 1].min() - 1, X[:, 1].max() + 1\n",
    "        xx, yy = np.meshgrid(np.arange(x_min, x_max, r),\n",
    "                             np.arange(y_min, y_max, r))\n",
    "        XX=np.c_[xx.ravel(), yy.ravel()]\n",
    "        Z = np.array([svc_predict(svc, x) for x in XX])\n",
    "        # Put the result into a color plot\n",
    "        Z = Z.reshape(xx.shape)\n",
    "        plt.contourf(xx, yy, Z, cmap=plt.cm.Pastel1)\n",
    "\n",
    "    # Plot the dataset\n",
    "    plt.scatter(X[:,0],X[:,1], c=y, cmap=plt.cm.Paired, marker='o', s=50)\n",
    "    #plt.show()\n",
    "\n",
    "def svc_predict(svc, x) : \n",
    "    h = svc.decision_function([x])\n",
    "    if h >= -1 and h <= 1:\n",
    "        return 0.5\n",
    "    else: \n",
    "        return max(-1, min(1, h))\n",
    "\n",
    "def plot_error_surface(err, c_range=(0,5), g_range=(0,5)):\n",
    "    c1, c2 = c_range[0], c_range[1]\n",
    "    g1, g2 = g_range[0], g_range[1]\n",
    "    plt.xticks(range(0,g2-g1+1,5),range(g1,g2,5)); plt.xlabel(\"gamma\")\n",
    "    plt.yticks(range(0,c2-c1+1,5),range(c1,c2,5)); plt.ylabel(\"C\")\n",
    "    p = plt.contour(err);\n",
    "    plt.imshow(1-err, interpolation='bilinear', origin='lower',cmap=plt.cm.gray)\n",
    "    plt.clabel(p, inline=1, fontsize=10)\n",
    "    #plt.show()\n",
    "\n",
    "\n",
    "def knn_eval(n_instances=100, n_features=2, n_classes=2, n_informative=2, \n",
    "             test_size=0.3, k_range=(1, 20), n_trials=100):\n",
    "    \n",
    "    train_errors = []\n",
    "    test_errors = []\n",
    "    ks = list(range(k_range[0], k_range[1] + 1))\n",
    "\n",
    "    for i in range(0, n_trials):\n",
    "        X, y = make_classification(n_instances, n_features, n_classes=n_classes, \n",
    "                                   n_informative=n_informative, n_redundant=0, n_clusters_per_class=1)\n",
    "        X_train, X_test, y_train, y_test = train_test_split(X, y, test_size=test_size)\n",
    "        train = []\n",
    "        test = []\n",
    "        for k in ks:\n",
    "            knn = KNeighborsClassifier(n_neighbors=k)\n",
    "            knn.fit(X_train, y_train)\n",
    "            train.append(1 - knn.score(X_train, y_train))\n",
    "            test.append(1 - knn.score(X_test, y_test))\n",
    "        train_errors.append(train)\n",
    "        test_errors.append(test)\n",
    "        \n",
    "    train_errors = np.mean(np.array(train_errors), axis=0)\n",
    "    test_errors = np.mean(np.array(test_errors), axis=0)\n",
    "    best_k = ks[np.argmin(test_errors)]\n",
    "    \n",
    "    return ks, best_k, train_errors, test_errors"
   ]
  },
  {
   "cell_type": "code",
   "execution_count": 4,
   "metadata": {},
   "outputs": [],
   "source": [
    "class Random2DGaussian:\n",
    "#     \"\"\"Random bivariate normal distribution sampler\n",
    "\n",
    "#     Hardwired parameters:\n",
    "#         d0min,d0max: horizontal range for the mean\n",
    "#         d1min,d1max: vertical range for the mean\n",
    "#         scalecov: controls the covariance range \n",
    "\n",
    "#     Methods:\n",
    "#         __init__: creates a new distribution\n",
    "\n",
    "#         get_sample(n): samples n datapoints\n",
    "\n",
    "#     \"\"\"\n",
    "\n",
    "    d0min=0 \n",
    "    d0max=10\n",
    "    d1min=0 \n",
    "    d1max=10\n",
    "    scalecov=5\n",
    "  \n",
    "    def __init__(self):\n",
    "        dw0,dw1 = self.d0max-self.d0min, self.d1max-self.d1min\n",
    "        mean = (self.d0min,self.d1min)\n",
    "        mean += np.random.random_sample(2)*(dw0, dw1)\n",
    "        eigvals = np.random.random_sample(2)\n",
    "        eigvals *= (dw0/self.scalecov, dw1/self.scalecov)\n",
    "        eigvals **= 2\n",
    "        theta = np.random.random_sample()*np.pi*2\n",
    "        R = [[np.cos(theta), -np.sin(theta)], \n",
    "             [np.sin(theta), np.cos(theta)]]\n",
    "        Sigma = np.dot(np.dot(np.transpose(R), np.diag(eigvals)), R)\n",
    "        self.get_sample = lambda n: np.random.multivariate_normal(mean,Sigma,n)"
   ]
  },
  {
   "cell_type": "code",
   "execution_count": 5,
   "metadata": {},
   "outputs": [],
   "source": [
    "def graph_surface(function, rect, offset=0.5, width=256, height=256):\n",
    "    #     \"\"\"Creates a surface plot (visualize with plt.show)\n",
    "\n",
    "    #     Arguments:\n",
    "    #     function: surface to be plotted\n",
    "    #     rect:     function domain provided as:\n",
    "    #                   ([x_min,y_min], [x_max,y_max])\n",
    "    #     offset:   the level plotted as a contour plot\n",
    "\n",
    "    #     Returns:\n",
    "    #     None\n",
    "    #     \"\"\"\n",
    "\n",
    "        lsw = np.linspace(rect[0][1], rect[1][1], width) \n",
    "        lsh = np.linspace(rect[0][0], rect[1][0], height)\n",
    "        xx0,xx1 = np.meshgrid(lsh, lsw)\n",
    "        grid = np.stack((xx0.flatten(),xx1.flatten()), axis=1)\n",
    "\n",
    "        #get the values and reshape them\n",
    "        values=function(grid).reshape((width,height))\n",
    "  \n",
    "        # fix the range and offset\n",
    "        delta = offset if offset else 0\n",
    "        maxval=max(np.max(values)-delta, - (np.min(values)-delta))\n",
    "  \n",
    "        # draw the surface and the offset\n",
    "        plt.pcolormesh(xx0, xx1, values, \n",
    "                        vmin=delta-maxval, vmax=delta+maxval)\n",
    "    \n",
    "        if offset != None:\n",
    "            plt.contour(xx0, xx1, values, colors='black', levels=[offset])"
   ]
  },
  {
   "cell_type": "code",
   "execution_count": 6,
   "metadata": {},
   "outputs": [],
   "source": [
    "def graph_data(X,Y_, Y, special=[]):\n",
    "    #     \"\"\"Creates a scatter plot (visualize with plt.show)\n",
    "\n",
    "    #     Arguments:\n",
    "    #         X:       datapoints\n",
    "    #         Y_:      groundtruth classification indices\n",
    "    #         Y:       predicted class indices\n",
    "    #         special: use this to emphasize some points\n",
    "\n",
    "    #     Returns:\n",
    "    #         None\n",
    "    #     \"\"\"\n",
    "      # colors of the datapoint markers\n",
    "        palette=([0.5,0.5,0.5], [1,1,1], [0.2,0.2,0.2])\n",
    "        colors = np.tile([0.0,0.0,0.0], (Y_.shape[0],1))\n",
    "        for i in range(len(palette)):\n",
    "            colors[Y_==i] = palette[i]\n",
    "\n",
    "      # sizes of the datapoint markers\n",
    "        sizes = np.repeat(20, len(Y_))\n",
    "        sizes[special] = 40\n",
    "\n",
    "      # draw the correctly classified datapoints\n",
    "        good = (Y_==Y)\n",
    "        plt.scatter(X[good,0],X[good,1], c=colors[good], \n",
    "                  s=sizes[good], marker='o')\n",
    "\n",
    "      # draw the incorrectly classified datapoints\n",
    "        bad = (Y_!=Y)\n",
    "        plt.scatter(X[bad,0],X[bad,1], c=colors[bad], \n",
    "                  s=sizes[bad], marker='s')"
   ]
  },
  {
   "cell_type": "code",
   "execution_count": 7,
   "metadata": {},
   "outputs": [],
   "source": [
    "def class_to_onehot(Y):\n",
    "        Yoh=np.zeros((len(Y),max(Y)+1))\n",
    "        Yoh[range(len(Y)),Y] = 1\n",
    "        return Yoh"
   ]
  },
  {
   "cell_type": "code",
   "execution_count": 8,
   "metadata": {},
   "outputs": [],
   "source": [
    "def eval_perf_binary(Y, Y_):\n",
    "        tp = sum(np.logical_and(Y==Y_, Y_==True))\n",
    "        fn = sum(np.logical_and(Y!=Y_, Y_==True))\n",
    "        tn = sum(np.logical_and(Y==Y_, Y_==False))\n",
    "        fp = sum(np.logical_and(Y!=Y_, Y_==False))\n",
    "        recall = tp / (tp + fn)\n",
    "        precision = tp / (tp + fp)\n",
    "        accuracy = (tp + tn) / (tp+fn + tn+fp)\n",
    "        return accuracy, recall, precision"
   ]
  },
  {
   "cell_type": "code",
   "execution_count": 9,
   "metadata": {},
   "outputs": [],
   "source": [
    "def eval_perf_multi(Y, Y_):\n",
    "        pr = []\n",
    "        n = max(Y_)+1\n",
    "        M = np.bincount(n * Y_ + Y, minlength=n*n).reshape(n, n)\n",
    "        for i in range(n):\n",
    "            tp_i = M[i,i]\n",
    "            fn_i = np.sum(M[i,:]) - tp_i\n",
    "            fp_i = np.sum(M[:,i]) - tp_i\n",
    "            tn_i = np.sum(M) - fp_i - fn_i - tp_i\n",
    "            recall_i = tp_i / (tp_i + fn_i)\n",
    "            precision_i = tp_i / (tp_i + fp_i)\n",
    "            pr.append( (recall_i, precision_i) )\n",
    "\n",
    "        accuracy = np.trace(M)/np.sum(M)\n",
    "\n",
    "        return accuracy, pr, M"
   ]
  },
  {
   "cell_type": "code",
   "execution_count": 10,
   "metadata": {},
   "outputs": [],
   "source": [
    "def eval_AP(ranked_labels):\n",
    "    #     \"\"\"Recovers AP from ranked labels\"\"\"\n",
    "\n",
    "        n = len(ranked_labels)\n",
    "        pos = sum(ranked_labels)\n",
    "        neg = n - pos\n",
    "\n",
    "        tp = pos\n",
    "        tn = 0\n",
    "        fn = 0\n",
    "        fp = neg\n",
    "\n",
    "        sumprec=0\n",
    "        #IPython.embed()\n",
    "        for x in ranked_labels:\n",
    "            precision = tp / (tp + fp)\n",
    "            recall = tp / (tp + fn)    \n",
    "\n",
    "        if x:\n",
    "            sumprec += precision\n",
    "\n",
    "        #print (x, tp,tn,fp,fn, precision, recall, sumprec)\n",
    "        #IPython.embed()\n",
    "\n",
    "        tp -= x\n",
    "        fn += x\n",
    "        fp -= not x\n",
    "        tn += not x\n",
    "\n",
    "        return sumprec/pos"
   ]
  },
  {
   "cell_type": "code",
   "execution_count": 11,
   "metadata": {},
   "outputs": [],
   "source": [
    "def sample_gauss(nclasses, nsamples):\n",
    "      # create the distributions and groundtruth labels\n",
    "        Gs=[]\n",
    "        Ys=[]\n",
    "        for i in range(nclasses):\n",
    "            Gs.append(Random2DGaussian())\n",
    "            Ys.append(i)\n",
    "\n",
    "      # sample the dataset\n",
    "        X = np.vstack([G.get_sample(nsamples) for G in Gs])\n",
    "        Y_= np.hstack([[Y]*100 for Y in Ys])\n",
    "\n",
    "        return X,Y_"
   ]
  },
  {
   "cell_type": "code",
   "execution_count": 12,
   "metadata": {},
   "outputs": [],
   "source": [
    "def sample_gmm(ncomponents, nclasses, nsamples):\n",
    "        # create the distributions and groundtruth labels\n",
    "        Gs=[]\n",
    "        Ys=[]\n",
    "        for i in range(ncomponents):\n",
    "            Gs.append(Random2DGaussian())\n",
    "            Ys.append(np.random.randint(nclasses))\n",
    "\n",
    "          # sample the dataset\n",
    "        X = np.vstack([G.get_sample(nsamples) for G in Gs])\n",
    "        Y_= np.hstack([[Y]*nsamples for Y in Ys])\n",
    "\n",
    "        return X,Y_"
   ]
  },
  {
   "cell_type": "code",
   "execution_count": 13,
   "metadata": {},
   "outputs": [],
   "source": [
    "def myDummyDecision(X):\n",
    "        scores = X[:,0] + X[:,1] - 5\n",
    "        return scores"
   ]
  },
  {
   "cell_type": "code",
   "execution_count": 14,
   "metadata": {},
   "outputs": [
    {
     "data": {
      "image/png": "[encoded data removed]",
      "text/plain": [
       "<matplotlib.figure.Figure at 0x1e4ce3b0860>"
      ]
     },
     "metadata": {},
     "output_type": "display_data"
    }
   ],
   "source": [
    "if __name__==\"__main__\":\n",
    "        np.random.seed(100)\n",
    "        pylab.rcParams['figure.figsize'] = (20, 10)\n",
    "        # get data\n",
    "        X,Y_ = sample_gmm(4, 2, 30)\n",
    "        # X,Y_ = sample_gauss(2, 100)\n",
    "        \n",
    "        # get the class predictions\n",
    "        Y = myDummyDecision(X)>0.5  \n",
    "\n",
    "        # graph the decision surface\n",
    "        rect=(np.min(X, axis=0), np.max(X, axis=0))\n",
    "        graph_surface(myDummyDecision, rect, offset=0)\n",
    "\n",
    "        # graph the data points\n",
    "        graph_data(X, Y_, Y, special=[])\n",
    "        \n",
    "        plt.show()"
   ]
  },
  {
   "cell_type": "code",
   "execution_count": 15,
   "metadata": {},
   "outputs": [],
   "source": [
    "def sample_gmm_2d(K=1, C=1, N=1):\n",
    "    X = np.zeros((K*N,2))\n",
    "    Y = np.zeros((K*N,1))\n",
    "    for i in range(K):\n",
    "        dist_class = np.random.randint(0, C)\n",
    "        Y[i*N : i*N+N] = dist_class\n",
    "        mi = np.random.uniform(1,10)\n",
    "        sigma = np.random.uniform(1,10)\n",
    "        X[i*N : i*N + N][:] = np.transpose(np.array((np.random.normal(mi,sigma,N),np.random.normal(mi,sigma,N))))\n",
    "    \n",
    "    return X, Y"
   ]
  },
  {
   "cell_type": "code",
   "execution_count": 16,
   "metadata": {},
   "outputs": [],
   "source": [
    "def my_sample_gmm_2d(K=1, C=1, N=1):\n",
    "    X = np.zeros((K*N,2))\n",
    "    Y = []\n",
    "    nsamples = K*N\n",
    "    for i in range(K):\n",
    "        dist_class = np.random.randint(0, C)\n",
    "        for k in range(N):\n",
    "            Y.append( dist_class)\n",
    "        mi = np.random.uniform(1,10)\n",
    "        sigma = np.random.uniform(1,10)\n",
    "        X[i*N : i*N + N][:] = np.transpose(np.array((np.random.normal(mi,sigma,N),np.random.normal(mi,sigma,N))))\n",
    "    Y_= np.hstack([[Ys]*1 for Ys in Y])\n",
    "    return X, Y_"
   ]
  },
  {
   "cell_type": "code",
   "execution_count": 17,
   "metadata": {},
   "outputs": [],
   "source": [
    "def convert_Y(Y):\n",
    "    Y_ = []\n",
    "    N= Y.shape[0]\n",
    "    for i in range(N):\n",
    "        Y_.append(np.int32(Y[i][0]))\n",
    "    Ys= np.hstack([[Y1]*1 for Y1 in Y_])\n",
    "    return Ys"
   ]
  },
  {
   "cell_type": "code",
   "execution_count": 18,
   "metadata": {},
   "outputs": [
    {
     "name": "stdout",
     "output_type": "stream",
     "text": [
      "[8 8 8 8 8 8 7 7 7 7 7 7]\n"
     ]
    }
   ],
   "source": [
    "my_X , my_Y = sample_gmm_2d(2,10,6)\n",
    "\n",
    "# print(N)\n",
    "# print(my_Y.shape)\n",
    "print(convert_Y(my_Y))"
   ]
  },
  {
   "cell_type": "code",
   "execution_count": 19,
   "metadata": {},
   "outputs": [
    {
     "name": "stdout",
     "output_type": "stream",
     "text": [
      "[6 6 6 6 6 6 8 8 8 8 8 8]\n",
      "[ True  True  True  True  True  True  True False  True  True  True  True]\n"
     ]
    },
    {
     "data": {
      "image/png": "[encoded data removed]",
      "text/plain": [
       "<matplotlib.figure.Figure at 0x1e4d04374a8>"
      ]
     },
     "metadata": {},
     "output_type": "display_data"
    }
   ],
   "source": [
    "my_X , my_Y = my_sample_gmm_2d(2,10,6)\n",
    "# graph the data points\n",
    " # get the class predictions\n",
    "Y = myDummyDecision(my_X)>0.5  \n",
    "# graph the decision surface\n",
    "rect=(np.min(my_X, axis=0), np.max(my_X, axis=0))\n",
    "graph_surface(myDummyDecision, rect, offset=0)\n",
    "graph_data(my_X, my_Y, Y, special=[])\n",
    "print(my_Y)\n",
    "print(Y)\n",
    "# show the plot\n",
    "plt.show()\n"
   ]
  },
  {
   "cell_type": "code",
   "execution_count": 20,
   "metadata": {},
   "outputs": [],
   "source": [
    "def relu(X):\n",
    "    X = X.reshape(1,  np.max(A.shape))\n",
    "    B = np.concatenate((X, np.zeros((1, np.max(X.shape)))), axis=0)\n",
    "    return B.max(0)\n",
    "\n",
    "def derivative_relu(X):\n",
    "    X_ = relu(X)\n",
    "    for i in range(np.max(X_.shape)):\n",
    "        if(X_[i]>0):\n",
    "            X_[i] = 1\n",
    "    return X_\n",
    "def der_tanh(X):\n",
    "    tanh_X = np.tanh(X)\n",
    "    return np.ones((1, X.shape[1])) - np.multiply(tanh_X,tanh_X)"
   ]
  },
  {
   "cell_type": "code",
   "execution_count": 21,
   "metadata": {},
   "outputs": [],
   "source": [
    "def softmax(x):\n",
    "    \"\"\"Compute softmax values for each sets of scores in x.\"\"\"\n",
    "    return np.exp(x) / np.sum(np.exp(x), axis=0)\n",
    "\n",
    "def matrix_softmax(X):\n",
    "    N, _ = X.shape\n",
    "    percen = np.zeros(shape=[N, _], dtype=np.float32)\n",
    "    for i in range(N):\n",
    "        percen[i] = stablesoftmax(X[i])\n",
    "    return percen\n",
    "\n",
    "def stablesoftmax(x):\n",
    "    \"\"\"Compute the softmax of vector x in a numerically stable way.\"\"\"\n",
    "    shiftx = x - np.max(x)\n",
    "    exps = np.exp(shiftx)\n",
    "    return exps / np.sum(exps)"
   ]
  },
  {
   "cell_type": "code",
   "execution_count": 22,
   "metadata": {},
   "outputs": [
    {
     "name": "stdout",
     "output_type": "stream",
     "text": [
      "[-1 -2 -3  4  5 -9]\n",
      "[1. 2. 3. 0. 0. 9.]\n",
      "[1. 1. 1. 0. 0. 1.]\n",
      "0.9999999999999999\n",
      "[[ 1  2  3]\n",
      " [-4 -5  9]]\n",
      "[[0. 0. 1.]\n",
      " [0. 0. 1.]]\n",
      "1.0\n",
      "[1. 1.]\n"
     ]
    }
   ],
   "source": [
    "A = np.array([1, 2, 3, -4, -5 , 9])\n",
    "B = np.array([[1, 2, 3],[-4, -5 , 9]])\n",
    "print(-1*A)\n",
    "print(relu(A))\n",
    "print(derivative_relu(A))\n",
    "print(np.sum(stablesoftmax(A)))\n",
    "print(B)\n",
    "print(np.matrix.round(matrix_softmax(B)))\n",
    "\n",
    "print(np.sum(matrix_softmax(B)[0]))\n",
    "print(np.sum(matrix_softmax(B),axis=1))\n",
    "\n"
   ]
  },
  {
   "cell_type": "code",
   "execution_count": 23,
   "metadata": {},
   "outputs": [],
   "source": [
    "class fcann2:\n",
    "    def __init__(self, structure):\n",
    "        self.ni = structure[0]\n",
    "        self.nh = structure[1]\n",
    "        self.no = structure[2]\n",
    "\n",
    "        self.W1 = np.random.rand(structure[0], structure[1])\n",
    "        self.b1 = np.zeros(shape=[self.nh], dtype=np.float32)\n",
    "        self.W2 = np.random.rand(structure[1], structure[2])\n",
    "        self.b2 = np.zeros(shape=[self.no], dtype=np.float32)\n",
    "    \n",
    "    def fcann2_train(self, X, Y, eta_=0.01, lambda_=0.5, niter = 1000, activation = np.tanh, derivation =der_tanh):\n",
    "        N, n = X.shape\n",
    "        s = np.arange(X.shape[0])\n",
    "        Y = convert_to_one_hot(Y)\n",
    "        \n",
    "        hoGrads = np.zeros(shape=[self.nh, self.no], dtype=np.float32)\n",
    "\n",
    "        obGrads = np.zeros(shape=[self.no], dtype=np.float32)\n",
    "        ihGrads = np.zeros(shape=[self.ni, self.nh], dtype=np.float32)\n",
    "        hbGrads = np.zeros(shape=[self.nh], dtype=np.float32)\n",
    "        \n",
    "        oSignals = np.zeros(shape=[self.no], dtype=np.float32)\n",
    "        hSignals = np.zeros(shape=[self.nh], dtype=np.float32)\n",
    "        \n",
    "        \n",
    "        for epoch in range(np.int32(niter)):\n",
    "            np.random.shuffle(s)\n",
    "            X_train = X[s]\n",
    "            Y_train = Y[s]\n",
    "            for i in range(N):\n",
    "                X_train[i] = X_train[i].reshape(1,n)\n",
    "                hidden_logits = np.matmul(X_train[i] , self.W1) + self.b1\n",
    "                hidden_out = activation(hidden_logits)\n",
    "                logits = np.matmul(hidden_out , self.W2) + self.b2\n",
    "                Y_out = stablesoftmax(logits)\n",
    "                    # 1. compute output node signals\n",
    "                for k in range(self.no):\n",
    "                    derivative = (1 - Y_out[k]) * Y_out[k]\n",
    "                    oSignals[k] = derivative * (Y_out[k] - Y_train[i][k])\n",
    "                # 2. compute hidden-to-output weight gradients using output signals\n",
    "                for j in range(self.nh):\n",
    "                    for k in range(self.no):\n",
    "                        hoGrads[j, k] = oSignals[k] * hidden_out[j]\n",
    "\n",
    "                # 3. compute output node bias gradients using output signals\n",
    "                for k in range(self.no):\n",
    "                    obGrads[k] = oSignals[k] * 1.0\n",
    "                # 4. compute hidden node signals\n",
    "                for j in range(self.nh):\n",
    "                    sum = 0.0\n",
    "                    for k in range(self.no):\n",
    "                        sum += oSignals[k] * self.W2[j,k]\n",
    "                    derivative = (1 - hidden_out[j]) * (1 + hidden_out[j]) \n",
    "                    hSignals[j] = derivative * sum\n",
    "\n",
    "                # 5. compute input-to-hidden weight gradients using hidden signals\n",
    "                for ind in range(self.ni):\n",
    "                    for j in range(self.nh):\n",
    "                        ihGrads[ind, j] = hSignals[j] * X_train[i][ind]\n",
    "\n",
    "                # 6. compute hidden node bias gradients using hidden signals\n",
    "                for j in range(self.nh):\n",
    "                    hbGrads[j] = hSignals[j] * 1.0 \n",
    "\n",
    "                # 1. update input-to-hidden weights\n",
    "                for ind in range(self.ni):\n",
    "                    for j in range(self.nh):\n",
    "                        delta = -1.0 * eta_ * (ihGrads[ind,j] + lambda_ * self.W1[ind, j] )\n",
    "                        self.W1[ind, j] += delta\n",
    "                # 2. update hidden node biases\n",
    "                for j in range(self.nh):\n",
    "                    delta = -1.0 * eta_ * hbGrads[j]\n",
    "                    self.b1[j] += delta  \n",
    "\n",
    "                # 3. update hidden-to-output weights\n",
    "                for j in range(self.nh):\n",
    "                    for k in range(self.no):\n",
    "                        delta = -1.0 * eta_ * (hoGrads[j,k] + lambda_ * self.W2[j, k] )\n",
    "                        self.W2[j, k] += delta\n",
    "\n",
    "                # 4. update output node biases\n",
    "                for k in range(self.no):\n",
    "                    delta = -1.0 * eta_ * obGrads[k]\n",
    "                    self.b2[k] += delta \n",
    "            if(epoch % 100 == 0):\n",
    "                print(\"Loss is: \", np.sum((convert_to_one_hot(self.fcann2_classify(X))-Y)**2))\n",
    "    #             loss = np.multiply(Y_train,np.log(Y_out))\n",
    "\n",
    "#                 diff_loss = Y_out - Y_train[i]\n",
    "#                 print(diff_loss.shape)\n",
    "#                 print(np.max(self.b2.shape))\n",
    "#                 grad_b2 = np.matmul(diff_loss, ( -1*np.ones(( np.max(self.b2.shape),1))))\n",
    "#                 grad_W2 =np.matmul( np.transpose(diff_loss),-1*hidden_out)\n",
    "#                 print(derivation(hidden_logits  ).shape)\n",
    "#                 der = np.matmul( np.matmul(diff_loss, np.transpose(-1*self.W2)),np.transpose(derivation(hidden_logits  )))\n",
    "#                 grad_b1 = np.matmul(der, (np.ones((1, np.max(self.b1.shape) ))))\n",
    "#                 grad_W1 = np.matmul(der, X_train[i])\n",
    "\n",
    "#                 self.W2 = self.W2 - ni*(grad_W2 + lambda_*self.W2)\n",
    "#                 self.W1 = self.W1 - ni*(grad_W1 + lambda_*self.W1)\n",
    "#                 self.b2 = self.b2 - ni*grad_b2\n",
    "#                 self.b1 = self.b1 - ni*grad_b1\n",
    "\n",
    "    \n",
    "    def fcann2_classify(self, X, activation = np.tanh):\n",
    "        hidden_out = activation(np.matmul(X , self.W1) + self.b1)\n",
    "        return np.argmax(matrix_softmax(np.matmul(hidden_out , self.W2) + self.b2), axis=1)        \n",
    "    "
   ]
  },
  {
   "cell_type": "code",
   "execution_count": 24,
   "metadata": {},
   "outputs": [],
   "source": [
    "K=6\n",
    "C=2\n",
    "my_X , my_Y = sample_gmm_2d(K=6, C=2, N=10)\n"
   ]
  },
  {
   "cell_type": "code",
   "execution_count": 25,
   "metadata": {},
   "outputs": [
    {
     "name": "stdout",
     "output_type": "stream",
     "text": [
      "[9.46952227 6.0866987 ]\n"
     ]
    }
   ],
   "source": [
    "print(my_X[1])"
   ]
  },
  {
   "cell_type": "code",
   "execution_count": 63,
   "metadata": {},
   "outputs": [
    {
     "name": "stdout",
     "output_type": "stream",
     "text": [
      "Loss is:  42.0\n",
      "Loss is:  36.0\n",
      "Loss is:  32.0\n",
      "Loss is:  30.0\n",
      "Loss is:  32.0\n",
      "Loss is:  32.0\n",
      "Loss is:  36.0\n",
      "Loss is:  32.0\n",
      "Loss is:  28.0\n",
      "Loss is:  32.0\n",
      "Loss is:  32.0\n",
      "Loss is:  30.0\n",
      "Loss is:  28.0\n",
      "Loss is:  32.0\n",
      "Loss is:  32.0\n",
      "Loss is:  32.0\n",
      "Loss is:  32.0\n",
      "Loss is:  28.0\n",
      "Loss is:  28.0\n",
      "Loss is:  32.0\n",
      "Loss is:  32.0\n",
      "Loss is:  32.0\n",
      "Loss is:  32.0\n",
      "Loss is:  32.0\n",
      "Loss is:  30.0\n",
      "Loss is:  32.0\n",
      "Loss is:  32.0\n",
      "Loss is:  30.0\n",
      "Loss is:  28.0\n",
      "Loss is:  26.0\n",
      "Loss is:  30.0\n",
      "Loss is:  28.0\n",
      "Loss is:  32.0\n",
      "Loss is:  32.0\n",
      "Loss is:  34.0\n",
      "Loss is:  28.0\n",
      "Loss is:  32.0\n",
      "Loss is:  32.0\n",
      "Loss is:  28.0\n",
      "Loss is:  28.0\n",
      "Loss is:  32.0\n",
      "Loss is:  30.0\n",
      "Loss is:  28.0\n",
      "Loss is:  32.0\n",
      "Loss is:  32.0\n",
      "Loss is:  32.0\n",
      "Loss is:  32.0\n",
      "Loss is:  30.0\n",
      "Loss is:  30.0\n",
      "Loss is:  32.0\n",
      "Loss is:  30.0\n",
      "Loss is:  32.0\n",
      "Loss is:  34.0\n",
      "Loss is:  32.0\n",
      "Loss is:  32.0\n",
      "Loss is:  28.0\n",
      "Loss is:  28.0\n",
      "Loss is:  30.0\n",
      "Loss is:  32.0\n",
      "Loss is:  28.0\n",
      "Loss is:  28.0\n",
      "Loss is:  32.0\n",
      "Loss is:  32.0\n",
      "Loss is:  26.0\n",
      "Loss is:  32.0\n",
      "Loss is:  32.0\n",
      "Loss is:  36.0\n",
      "Loss is:  32.0\n",
      "Loss is:  26.0\n",
      "Loss is:  34.0\n",
      "Loss is:  32.0\n",
      "Loss is:  34.0\n",
      "Loss is:  32.0\n",
      "Loss is:  32.0\n",
      "Loss is:  32.0\n",
      "Loss is:  32.0\n",
      "Loss is:  32.0\n",
      "Loss is:  30.0\n",
      "Loss is:  30.0\n",
      "Loss is:  34.0\n",
      "Loss is:  32.0\n",
      "Loss is:  34.0\n",
      "Loss is:  32.0\n",
      "Loss is:  26.0\n",
      "Loss is:  28.0\n",
      "Loss is:  28.0\n",
      "Loss is:  32.0\n",
      "Loss is:  28.0\n",
      "Loss is:  32.0\n",
      "Loss is:  32.0\n",
      "Loss is:  32.0\n",
      "Loss is:  30.0\n",
      "Loss is:  34.0\n",
      "Loss is:  32.0\n",
      "Loss is:  32.0\n",
      "Loss is:  30.0\n",
      "Loss is:  26.0\n",
      "Loss is:  28.0\n",
      "Loss is:  32.0\n",
      "Loss is:  30.0\n",
      "Loss is:  32.0\n",
      "Loss is:  32.0\n",
      "Loss is:  32.0\n",
      "Loss is:  32.0\n",
      "Loss is:  28.0\n",
      "Loss is:  30.0\n",
      "Loss is:  32.0\n",
      "Loss is:  34.0\n",
      "Loss is:  30.0\n",
      "Loss is:  30.0\n",
      "Loss is:  32.0\n",
      "Loss is:  28.0\n",
      "Loss is:  32.0\n",
      "Loss is:  32.0\n",
      "Loss is:  32.0\n",
      "Loss is:  32.0\n",
      "Loss is:  30.0\n",
      "Loss is:  32.0\n",
      "Loss is:  32.0\n",
      "Loss is:  32.0\n",
      "Loss is:  34.0\n",
      "Loss is:  34.0\n",
      "Loss is:  32.0\n",
      "Loss is:  32.0\n",
      "Loss is:  32.0\n",
      "Loss is:  32.0\n",
      "Loss is:  32.0\n",
      "Loss is:  32.0\n",
      "Loss is:  32.0\n",
      "Loss is:  32.0\n",
      "Loss is:  30.0\n",
      "Loss is:  30.0\n",
      "Loss is:  28.0\n",
      "Loss is:  32.0\n",
      "Loss is:  28.0\n",
      "Loss is:  30.0\n",
      "Loss is:  32.0\n",
      "Loss is:  30.0\n",
      "Loss is:  32.0\n",
      "Loss is:  32.0\n",
      "Loss is:  32.0\n",
      "Loss is:  32.0\n",
      "Loss is:  30.0\n",
      "Loss is:  36.0\n",
      "Loss is:  32.0\n",
      "Loss is:  30.0\n",
      "Loss is:  32.0\n",
      "Loss is:  32.0\n",
      "Loss is:  32.0\n",
      "Loss is:  30.0\n",
      "Loss is:  30.0\n",
      "Loss is:  30.0\n",
      "Loss is:  28.0\n",
      "Loss is:  30.0\n",
      "Loss is:  32.0\n",
      "Loss is:  32.0\n",
      "Loss is:  34.0\n",
      "Loss is:  32.0\n",
      "Loss is:  34.0\n",
      "Loss is:  32.0\n",
      "Loss is:  28.0\n",
      "Loss is:  32.0\n",
      "Loss is:  32.0\n",
      "Loss is:  30.0\n",
      "Loss is:  34.0\n",
      "Loss is:  30.0\n",
      "Loss is:  26.0\n",
      "Loss is:  32.0\n",
      "Loss is:  30.0\n",
      "Loss is:  32.0\n",
      "Loss is:  32.0\n",
      "Loss is:  28.0\n",
      "Loss is:  32.0\n",
      "Loss is:  32.0\n",
      "Loss is:  32.0\n",
      "Loss is:  32.0\n",
      "Loss is:  28.0\n",
      "Loss is:  32.0\n",
      "Loss is:  32.0\n",
      "Loss is:  32.0\n",
      "Loss is:  32.0\n",
      "Loss is:  32.0\n",
      "Loss is:  28.0\n",
      "Loss is:  32.0\n",
      "Loss is:  32.0\n",
      "Loss is:  32.0\n",
      "Loss is:  32.0\n",
      "Loss is:  32.0\n",
      "Loss is:  32.0\n",
      "Loss is:  28.0\n",
      "Loss is:  30.0\n",
      "Loss is:  26.0\n",
      "Loss is:  32.0\n",
      "Loss is:  32.0\n",
      "Loss is:  32.0\n",
      "Loss is:  32.0\n",
      "Loss is:  32.0\n",
      "Loss is:  34.0\n",
      "Loss is:  32.0\n",
      "Loss is:  32.0\n",
      "Loss is:  32.0\n",
      "Loss is:  32.0\n",
      "Loss is:  36.0\n",
      "Loss is:  30.0\n",
      "Loss is:  32.0\n",
      "Loss is:  30.0\n",
      "Loss is:  32.0\n",
      "Loss is:  28.0\n",
      "Loss is:  28.0\n",
      "Loss is:  32.0\n",
      "Loss is:  34.0\n",
      "Loss is:  30.0\n",
      "Loss is:  32.0\n",
      "Loss is:  26.0\n",
      "Loss is:  32.0\n",
      "Loss is:  32.0\n",
      "Loss is:  32.0\n",
      "Loss is:  32.0\n",
      "Loss is:  34.0\n",
      "Loss is:  32.0\n",
      "Loss is:  34.0\n",
      "Loss is:  34.0\n",
      "Loss is:  32.0\n",
      "Loss is:  28.0\n",
      "Loss is:  32.0\n",
      "Loss is:  32.0\n",
      "Loss is:  34.0\n",
      "Loss is:  32.0\n",
      "Loss is:  28.0\n",
      "Loss is:  32.0\n",
      "Loss is:  32.0\n",
      "Loss is:  32.0\n",
      "Loss is:  32.0\n",
      "Loss is:  28.0\n",
      "Loss is:  32.0\n",
      "Loss is:  32.0\n",
      "Loss is:  30.0\n",
      "Loss is:  28.0\n",
      "Loss is:  28.0\n",
      "Loss is:  36.0\n",
      "Loss is:  32.0\n",
      "Loss is:  32.0\n",
      "Loss is:  32.0\n",
      "Loss is:  28.0\n",
      "Loss is:  32.0\n",
      "Loss is:  30.0\n",
      "Loss is:  36.0\n",
      "Loss is:  26.0\n",
      "Loss is:  32.0\n",
      "Loss is:  32.0\n",
      "Loss is:  32.0\n",
      "Loss is:  32.0\n",
      "Loss is:  30.0\n",
      "Loss is:  32.0\n",
      "Loss is:  26.0\n",
      "Loss is:  26.0\n",
      "Loss is:  32.0\n",
      "Loss is:  30.0\n",
      "Loss is:  32.0\n",
      "Loss is:  30.0\n",
      "Loss is:  32.0\n",
      "Loss is:  28.0\n",
      "Loss is:  28.0\n",
      "Loss is:  30.0\n",
      "Loss is:  32.0\n",
      "Loss is:  28.0\n",
      "Loss is:  28.0\n",
      "Loss is:  30.0\n",
      "Loss is:  34.0\n",
      "Loss is:  32.0\n",
      "Loss is:  36.0\n",
      "Loss is:  30.0\n",
      "Loss is:  32.0\n",
      "Loss is:  30.0\n",
      "Loss is:  34.0\n",
      "Loss is:  28.0\n",
      "Loss is:  26.0\n",
      "Loss is:  30.0\n",
      "Loss is:  30.0\n",
      "Loss is:  32.0\n",
      "Loss is:  32.0\n",
      "Loss is:  28.0\n",
      "Loss is:  30.0\n",
      "Loss is:  30.0\n",
      "Loss is:  32.0\n",
      "Loss is:  32.0\n",
      "Loss is:  30.0\n",
      "Loss is:  32.0\n",
      "Loss is:  30.0\n",
      "Loss is:  30.0\n",
      "Loss is:  32.0\n",
      "Loss is:  32.0\n",
      "Loss is:  30.0\n",
      "Loss is:  34.0\n",
      "Loss is:  32.0\n",
      "Loss is:  28.0\n",
      "Loss is:  32.0\n",
      "Loss is:  30.0\n",
      "Loss is:  30.0\n",
      "Loss is:  32.0\n",
      "Loss is:  32.0\n",
      "Loss is:  32.0\n",
      "Loss is:  28.0\n",
      "Loss is:  34.0\n",
      "Loss is:  36.0\n",
      "Loss is:  32.0\n",
      "Loss is:  32.0\n",
      "Loss is:  32.0\n",
      "Loss is:  32.0\n",
      "Loss is:  30.0\n",
      "Loss is:  34.0\n",
      "Loss is:  32.0\n",
      "Loss is:  32.0\n",
      "Loss is:  32.0\n",
      "Loss is:  32.0\n",
      "Loss is:  32.0\n",
      "Loss is:  30.0\n",
      "Loss is:  30.0\n",
      "Loss is:  34.0\n",
      "Loss is:  32.0\n",
      "Loss is:  30.0\n",
      "Loss is:  30.0\n",
      "Loss is:  28.0\n",
      "Loss is:  32.0\n",
      "Loss is:  32.0\n",
      "Loss is:  30.0\n",
      "Loss is:  32.0\n",
      "Loss is:  26.0\n",
      "Loss is:  34.0\n",
      "Loss is:  32.0\n",
      "Loss is:  32.0\n",
      "Loss is:  30.0\n",
      "Loss is:  32.0\n",
      "Loss is:  32.0\n",
      "Loss is:  32.0\n",
      "Loss is:  32.0\n",
      "Loss is:  32.0\n",
      "Loss is:  32.0\n",
      "Loss is:  30.0\n",
      "Loss is:  32.0\n",
      "Loss is:  32.0\n",
      "Loss is:  28.0\n",
      "Loss is:  32.0\n",
      "Loss is:  32.0\n",
      "Loss is:  30.0\n",
      "Loss is:  32.0\n",
      "Loss is:  28.0\n",
      "Loss is:  32.0\n",
      "Loss is:  32.0\n",
      "Loss is:  32.0\n",
      "Loss is:  32.0\n",
      "Loss is:  28.0\n",
      "Loss is:  32.0\n",
      "Loss is:  32.0\n",
      "Loss is:  26.0\n",
      "Loss is:  28.0\n",
      "Loss is:  26.0\n",
      "Loss is:  32.0\n",
      "Loss is:  34.0\n",
      "Loss is:  32.0\n",
      "Loss is:  32.0\n",
      "Loss is:  32.0\n",
      "Loss is:  32.0\n",
      "Loss is:  26.0\n",
      "Loss is:  32.0\n",
      "Loss is:  28.0\n",
      "Loss is:  32.0\n",
      "Loss is:  32.0\n",
      "Loss is:  30.0\n",
      "Loss is:  32.0\n",
      "Loss is:  30.0\n",
      "Loss is:  34.0\n",
      "Loss is:  34.0\n",
      "Loss is:  28.0\n",
      "Loss is:  32.0\n",
      "Loss is:  28.0\n",
      "Loss is:  32.0\n",
      "Loss is:  28.0\n",
      "Loss is:  28.0\n",
      "Loss is:  32.0\n",
      "Loss is:  32.0\n",
      "Loss is:  28.0\n",
      "Loss is:  32.0\n",
      "Loss is:  34.0\n",
      "Loss is:  32.0\n",
      "Loss is:  32.0\n",
      "Loss is:  32.0\n",
      "Loss is:  28.0\n",
      "Loss is:  26.0\n",
      "Loss is:  32.0\n",
      "Loss is:  32.0\n",
      "Loss is:  32.0\n",
      "Loss is:  28.0\n",
      "Loss is:  30.0\n",
      "Loss is:  34.0\n",
      "Loss is:  30.0\n",
      "Loss is:  32.0\n",
      "Loss is:  32.0\n",
      "Loss is:  32.0\n",
      "Loss is:  32.0\n",
      "Loss is:  28.0\n",
      "Loss is:  32.0\n",
      "Loss is:  30.0\n",
      "Loss is:  32.0\n",
      "Loss is:  32.0\n",
      "Loss is:  30.0\n",
      "Loss is:  32.0\n",
      "Loss is:  32.0\n",
      "Loss is:  28.0\n",
      "Loss is:  28.0\n",
      "Loss is:  34.0\n",
      "Loss is:  32.0\n",
      "Loss is:  32.0\n",
      "Loss is:  28.0\n",
      "Loss is:  28.0\n",
      "Loss is:  32.0\n",
      "Loss is:  32.0\n",
      "Loss is:  32.0\n",
      "Loss is:  32.0\n",
      "Loss is:  28.0\n",
      "Loss is:  32.0\n",
      "Loss is:  34.0\n",
      "Loss is:  30.0\n",
      "Loss is:  34.0\n",
      "Loss is:  32.0\n",
      "Loss is:  26.0\n",
      "Loss is:  30.0\n",
      "Loss is:  32.0\n",
      "Loss is:  28.0\n",
      "Loss is:  34.0\n",
      "Loss is:  28.0\n",
      "Loss is:  32.0\n",
      "Loss is:  32.0\n",
      "Loss is:  32.0\n",
      "Loss is:  36.0\n",
      "Loss is:  30.0\n",
      "Loss is:  32.0\n",
      "Loss is:  32.0\n",
      "Loss is:  32.0\n",
      "Loss is:  32.0\n",
      "Loss is:  28.0\n",
      "Loss is:  36.0\n",
      "Loss is:  32.0\n",
      "Loss is:  30.0\n",
      "Loss is:  28.0\n",
      "Loss is:  34.0\n",
      "Loss is:  34.0\n",
      "Loss is:  28.0\n",
      "Loss is:  32.0\n",
      "Loss is:  34.0\n",
      "Loss is:  32.0\n",
      "Loss is:  36.0\n",
      "Loss is:  32.0\n",
      "Loss is:  32.0\n",
      "Loss is:  32.0\n",
      "Loss is:  32.0\n",
      "Loss is:  30.0\n",
      "Loss is:  30.0\n",
      "Loss is:  30.0\n",
      "Loss is:  28.0\n",
      "Loss is:  30.0\n",
      "Loss is:  32.0\n",
      "Loss is:  30.0\n",
      "Loss is:  28.0\n",
      "Loss is:  32.0\n",
      "Loss is:  32.0\n",
      "Loss is:  28.0\n",
      "Loss is:  34.0\n",
      "Loss is:  34.0\n",
      "Loss is:  32.0\n",
      "Loss is:  32.0\n",
      "Loss is:  30.0\n",
      "Loss is:  36.0\n",
      "Loss is:  34.0\n",
      "Loss is:  32.0\n",
      "Loss is:  32.0\n",
      "Loss is:  26.0\n",
      "Loss is:  32.0\n",
      "Loss is:  34.0\n",
      "Loss is:  32.0\n",
      "Loss is:  34.0\n",
      "Loss is:  30.0\n",
      "Loss is:  28.0\n",
      "Loss is:  30.0\n",
      "Loss is:  28.0\n",
      "Loss is:  34.0\n",
      "Loss is:  32.0\n",
      "Loss is:  32.0\n",
      "Loss is:  36.0\n",
      "Loss is:  32.0\n",
      "Loss is:  32.0\n",
      "Loss is:  30.0\n",
      "Loss is:  28.0\n",
      "Loss is:  28.0\n",
      "Loss is:  28.0\n",
      "Loss is:  32.0\n",
      "Loss is:  32.0\n",
      "Loss is:  28.0\n",
      "Loss is:  32.0\n",
      "Loss is:  32.0\n",
      "Loss is:  32.0\n",
      "Loss is:  28.0\n",
      "Loss is:  36.0\n",
      "Loss is:  30.0\n",
      "Loss is:  32.0\n",
      "Loss is:  28.0\n",
      "Loss is:  32.0\n",
      "Loss is:  34.0\n",
      "Loss is:  32.0\n",
      "Loss is:  32.0\n",
      "Loss is:  32.0\n",
      "Loss is:  32.0\n",
      "Loss is:  32.0\n",
      "Loss is:  32.0\n",
      "Loss is:  36.0\n",
      "Loss is:  32.0\n",
      "Loss is:  28.0\n",
      "Loss is:  28.0\n",
      "Loss is:  30.0\n",
      "Loss is:  32.0\n",
      "Loss is:  30.0\n",
      "Loss is:  32.0\n",
      "Loss is:  26.0\n",
      "Loss is:  28.0\n",
      "Loss is:  32.0\n",
      "Loss is:  34.0\n",
      "Loss is:  30.0\n",
      "Loss is:  36.0\n",
      "Loss is:  32.0\n",
      "Loss is:  26.0\n",
      "Loss is:  32.0\n",
      "Loss is:  32.0\n",
      "Loss is:  32.0\n",
      "Loss is:  28.0\n",
      "Loss is:  32.0\n",
      "Loss is:  32.0\n",
      "Loss is:  30.0\n",
      "Loss is:  30.0\n",
      "Loss is:  32.0\n",
      "Loss is:  32.0\n",
      "Loss is:  32.0\n",
      "Loss is:  30.0\n",
      "Loss is:  28.0\n",
      "Loss is:  32.0\n",
      "Loss is:  32.0\n",
      "Loss is:  32.0\n",
      "Loss is:  32.0\n"
     ]
    },
    {
     "name": "stdout",
     "output_type": "stream",
     "text": [
      "Loss is:  32.0\n",
      "Loss is:  32.0\n",
      "Loss is:  36.0\n",
      "Loss is:  32.0\n",
      "Loss is:  32.0\n",
      "Loss is:  32.0\n",
      "Loss is:  28.0\n",
      "Loss is:  28.0\n",
      "Loss is:  36.0\n",
      "Loss is:  32.0\n",
      "Loss is:  32.0\n",
      "Loss is:  34.0\n",
      "Loss is:  32.0\n",
      "Loss is:  32.0\n",
      "Loss is:  28.0\n",
      "Loss is:  30.0\n",
      "Loss is:  32.0\n",
      "Loss is:  32.0\n",
      "Loss is:  28.0\n"
     ]
    },
    {
     "ename": "KeyboardInterrupt",
     "evalue": "",
     "output_type": "error",
     "traceback": [
      "\u001b[0;31m---------------------------------------------------------------------------\u001b[0m",
      "\u001b[0;31mKeyboardInterrupt\u001b[0m                         Traceback (most recent call last)",
      "\u001b[0;32m<ipython-input-63-0e84c7b488ed>\u001b[0m in \u001b[0;36m<module>\u001b[0;34m()\u001b[0m\n\u001b[1;32m      3\u001b[0m \u001b[0mfcann_clas1\u001b[0m \u001b[1;33m=\u001b[0m \u001b[0mfcann2\u001b[0m\u001b[1;33m(\u001b[0m\u001b[0mstructure\u001b[0m\u001b[1;33m=\u001b[0m\u001b[0mstruc\u001b[0m\u001b[1;33m)\u001b[0m\u001b[1;33m\u001b[0m\u001b[0m\n\u001b[1;32m      4\u001b[0m \u001b[1;31m# fcann_clas.fcann2_train(my_X , my_Y, eta_=0.05, lambda_=1e-3, niter = 11 )\u001b[0m\u001b[1;33m\u001b[0m\u001b[1;33m\u001b[0m\u001b[0m\n\u001b[0;32m----> 5\u001b[0;31m \u001b[0mfcann_clas1\u001b[0m\u001b[1;33m.\u001b[0m\u001b[0mfcann2_train\u001b[0m\u001b[1;33m(\u001b[0m\u001b[0mmy_X\u001b[0m \u001b[1;33m,\u001b[0m \u001b[0mmy_Y\u001b[0m\u001b[1;33m,\u001b[0m \u001b[0meta_\u001b[0m\u001b[1;33m=\u001b[0m\u001b[1;36m0.1\u001b[0m\u001b[1;33m,\u001b[0m \u001b[0mlambda_\u001b[0m\u001b[1;33m=\u001b[0m\u001b[1;36m1e-3\u001b[0m\u001b[1;33m,\u001b[0m \u001b[0mniter\u001b[0m \u001b[1;33m=\u001b[0m \u001b[1;36m1e5\u001b[0m \u001b[1;33m)\u001b[0m\u001b[1;33m\u001b[0m\u001b[0m\n\u001b[0m",
      "\u001b[0;32m<ipython-input-59-9d9e809888cb>\u001b[0m in \u001b[0;36mfcann2_train\u001b[0;34m(self, X, Y, eta_, lambda_, niter, activation, derivation)\u001b[0m\n\u001b[1;32m     31\u001b[0m             \u001b[1;32mfor\u001b[0m \u001b[0mi\u001b[0m \u001b[1;32min\u001b[0m \u001b[0mrange\u001b[0m\u001b[1;33m(\u001b[0m\u001b[0mN\u001b[0m\u001b[1;33m)\u001b[0m\u001b[1;33m:\u001b[0m\u001b[1;33m\u001b[0m\u001b[0m\n\u001b[1;32m     32\u001b[0m                 \u001b[0mX_train\u001b[0m\u001b[1;33m[\u001b[0m\u001b[0mi\u001b[0m\u001b[1;33m]\u001b[0m \u001b[1;33m=\u001b[0m \u001b[0mX_train\u001b[0m\u001b[1;33m[\u001b[0m\u001b[0mi\u001b[0m\u001b[1;33m]\u001b[0m\u001b[1;33m.\u001b[0m\u001b[0mreshape\u001b[0m\u001b[1;33m(\u001b[0m\u001b[1;36m1\u001b[0m\u001b[1;33m,\u001b[0m\u001b[0mn\u001b[0m\u001b[1;33m)\u001b[0m\u001b[1;33m\u001b[0m\u001b[0m\n\u001b[0;32m---> 33\u001b[0;31m                 \u001b[0mhidden_logits\u001b[0m \u001b[1;33m=\u001b[0m \u001b[0mnp\u001b[0m\u001b[1;33m.\u001b[0m\u001b[0mmatmul\u001b[0m\u001b[1;33m(\u001b[0m\u001b[0mX_train\u001b[0m\u001b[1;33m[\u001b[0m\u001b[0mi\u001b[0m\u001b[1;33m]\u001b[0m \u001b[1;33m,\u001b[0m \u001b[0mself\u001b[0m\u001b[1;33m.\u001b[0m\u001b[0mW1\u001b[0m\u001b[1;33m)\u001b[0m \u001b[1;33m+\u001b[0m \u001b[0mself\u001b[0m\u001b[1;33m.\u001b[0m\u001b[0mb1\u001b[0m\u001b[1;33m\u001b[0m\u001b[0m\n\u001b[0m\u001b[1;32m     34\u001b[0m                 \u001b[0mhidden_out\u001b[0m \u001b[1;33m=\u001b[0m \u001b[0mactivation\u001b[0m\u001b[1;33m(\u001b[0m\u001b[0mhidden_logits\u001b[0m\u001b[1;33m)\u001b[0m\u001b[1;33m\u001b[0m\u001b[0m\n\u001b[1;32m     35\u001b[0m                 \u001b[0mlogits\u001b[0m \u001b[1;33m=\u001b[0m \u001b[0mnp\u001b[0m\u001b[1;33m.\u001b[0m\u001b[0mmatmul\u001b[0m\u001b[1;33m(\u001b[0m\u001b[0mhidden_out\u001b[0m \u001b[1;33m,\u001b[0m \u001b[0mself\u001b[0m\u001b[1;33m.\u001b[0m\u001b[0mW2\u001b[0m\u001b[1;33m)\u001b[0m \u001b[1;33m+\u001b[0m \u001b[0mself\u001b[0m\u001b[1;33m.\u001b[0m\u001b[0mb2\u001b[0m\u001b[1;33m\u001b[0m\u001b[0m\n",
      "\u001b[0;31mKeyboardInterrupt\u001b[0m: "
     ]
    }
   ],
   "source": [
    "\n",
    "struc = [2,5,10]\n",
    "fcann_clas1 = fcann2(structure=struc)\n",
    "# fcann_clas.fcann2_train(my_X , my_Y, eta_=0.05, lambda_=1e-3, niter = 11 )\n",
    "fcann_clas1.fcann2_train(my_X , my_Y, eta_=0.1, lambda_=1e-3, niter = 1e5 )"
   ]
  },
  {
   "cell_type": "code",
   "execution_count": 669,
   "metadata": {},
   "outputs": [
    {
     "name": "stderr",
     "output_type": "stream",
     "text": [
      "c:\\users\\branko\\anaconda3\\lib\\site-packages\\matplotlib\\contour.py:1180: UserWarning: No contour levels were found within the data range.\n",
      "  warnings.warn(\"No contour levels were found\"\n"
     ]
    },
    {
     "data": {
      "image/png": "[encoded data removed]",
      "text/plain": [
       "<matplotlib.figure.Figure at 0x23de69885f8>"
      ]
     },
     "metadata": {},
     "output_type": "display_data"
    }
   ],
   "source": [
    "# graph the decision surface\n",
    "\n",
    "bbox=(np.min(my_X, axis=0), np.max(my_X, axis=0))\n",
    "Y = fcann_clas1.fcann2_classify(my_X)\n",
    "Y_ = convert_Y(my_Y)\n",
    "graph_surface(fcann_clas1.fcann2_classify, bbox, offset=0.5)\n",
    "# graph the data points\n",
    "graph_data(my_X, Y_, Y, special=[])\n",
    "# show the plot\n",
    "plt.show()"
   ]
  },
  {
   "cell_type": "code",
   "execution_count": 612,
   "metadata": {},
   "outputs": [],
   "source": [
    "class fcann2_:\n",
    "    def __init__(self, structure):\n",
    "        self.ni = structure[0]\n",
    "        self.nh = structure[1]\n",
    "        self.no = structure[2]\n",
    "\n",
    "        self.W1 = np.random.rand(structure[0], structure[1])\n",
    "        self.b1 = np.zeros(shape=[self.nh], dtype=np.float32)\n",
    "        self.W2 = np.random.rand(structure[1], structure[2])\n",
    "        self.b2 = np.zeros(shape=[self.no], dtype=np.float32)\n",
    "    \n",
    "    def fcann2_train(self, X, Y, eta_=0.01, lambda_=0.5, niter = 1000, activation = np.tanh, derivation =der_tanh):\n",
    "        N, n = X.shape\n",
    "        s = np.arange(X.shape[0])\n",
    "        \n",
    "        hoGrads = np.zeros(shape=[self.nh, self.no], dtype=np.float32)\n",
    "\n",
    "        obGrads = np.zeros(shape=[self.no], dtype=np.float32)\n",
    "        ihGrads = np.zeros(shape=[self.ni, self.nh], dtype=np.float32)\n",
    "        hbGrads = np.zeros(shape=[self.nh], dtype=np.float32)\n",
    "        \n",
    "        oSignals = np.zeros(shape=[self.no], dtype=np.float32)\n",
    "        hSignals = np.zeros(shape=[self.nh], dtype=np.float32)\n",
    "        \n",
    "        \n",
    "        for epoch in range(np.int32(niter)):\n",
    "            np.random.shuffle(s)\n",
    "            X_train = X[s]\n",
    "            Y_train = Y[s]\n",
    "            for i in range(N):\n",
    "                X_train[i] = X_train[i].reshape(1,n)\n",
    "                hidden_logits = np.matmul(X_train[i] , self.W1) + self.b1\n",
    "                hidden_out = activation(hidden_logits)\n",
    "                logits = np.matmul(hidden_out , self.W2) + self.b2\n",
    "                Y_out = stablesoftmax(logits)\n",
    "                \n",
    "                    # 1. compute output node signals\n",
    "                for k in range(self.no):\n",
    "                    derivative = (1 - Y_out[k]) * Y_out[k]\n",
    "                    oSignals[k] = derivative * (Y_out[k] - Y_train[k])\n",
    "                # 2. compute hidden-to-output weight gradients using output signals\n",
    "                for j in range(self.nh):\n",
    "                    for k in range(self.no):\n",
    "                        hoGrads[j, k] = oSignals[k] * hidden_out[j]\n",
    "\n",
    "                # 3. compute output node bias gradients using output signals\n",
    "                for k in range(self.no):\n",
    "                    obGrads[k] = oSignals[k] * 1.0\n",
    "                # 4. compute hidden node signals\n",
    "                for j in range(self.nh):\n",
    "                    sum = 0.0\n",
    "                    for k in range(self.no):\n",
    "                        sum += oSignals[k] * self.W2[j,k]\n",
    "                    derivative = (1 - hidden_out[j]) * (1 + hidden_out[j]) \n",
    "                    hSignals[j] = derivative * sum\n",
    "\n",
    "                # 5. compute input-to-hidden weight gradients using hidden signals\n",
    "                for ind in range(self.ni):\n",
    "                    for j in range(self.nh):\n",
    "                        ihGrads[ind, j] = hSignals[j] * X_train[i][0]\n",
    "\n",
    "                # 6. compute hidden node bias gradients using hidden signals\n",
    "                for j in range(self.nh):\n",
    "                    hbGrads[j] = hSignals[j] * 1.0 \n",
    "\n",
    "                # 1. update input-to-hidden weights\n",
    "                for ind in range(self.ni):\n",
    "                    for j in range(self.nh):\n",
    "                        delta = -1.0 * eta_ * (ihGrads[ind,j] + lambda_ * self.W1[ind, j] )\n",
    "                        self.W1[ind, j] += delta\n",
    "                # 2. update hidden node biases\n",
    "                for j in range(self.nh):\n",
    "                    delta = -1.0 * eta_ * hbGrads[j]\n",
    "                    self.b1[j] += delta  \n",
    "\n",
    "                # 3. update hidden-to-output weights\n",
    "                for j in range(self.nh):\n",
    "                    for k in range(self.no):\n",
    "                        delta = -1.0 * eta_ * (hoGrads[j,k] + lambda_ * self.W2[j, k] )\n",
    "                        self.W2[j, k] += delta\n",
    "\n",
    "                # 4. update output node biases\n",
    "                for k in range(self.no):\n",
    "                    delta = -1.0 * eta_ * obGrads[k]\n",
    "                    self.b2[k] += delta \n",
    "            if(epoch % 100 == 0):\n",
    "                print(\"Loss is: \", np.sum((self.fcann2_classify(X)-Y)**2))\n",
    "    #             loss = np.multiply(Y_train,np.log(Y_out))\n",
    "\n",
    "#                 diff_loss = Y_out - Y_train[i]\n",
    "#                 print(diff_loss.shape)\n",
    "#                 print(np.max(self.b2.shape))\n",
    "#                 grad_b2 = np.matmul(diff_loss, ( -1*np.ones(( np.max(self.b2.shape),1))))\n",
    "#                 grad_W2 =np.matmul( np.transpose(diff_loss),-1*hidden_out)\n",
    "#                 print(derivation(hidden_logits  ).shape)\n",
    "#                 der = np.matmul( np.matmul(diff_loss, np.transpose(-1*self.W2)),np.transpose(derivation(hidden_logits  )))\n",
    "#                 grad_b1 = np.matmul(der, (np.ones((1, np.max(self.b1.shape) ))))\n",
    "#                 grad_W1 = np.matmul(der, X_train[i])\n",
    "\n",
    "#                 self.W2 = self.W2 - ni*(grad_W2 + lambda_*self.W2)\n",
    "#                 self.W1 = self.W1 - ni*(grad_W1 + lambda_*self.W1)\n",
    "#                 self.b2 = self.b2 - ni*grad_b2\n",
    "#                 self.b1 = self.b1 - ni*grad_b1\n",
    "\n",
    "    \n",
    "    def fcann2_classify(self, X, activation = np.tanh):\n",
    "        print()\n",
    "        hidden_out = activation(np.matmul(X , self.W1) + self.b1)\n",
    "        return matrix_softmax(np.matmul(hidden_out , self.W2) + self.b2)        \n",
    "    "
   ]
  },
  {
   "cell_type": "code",
   "execution_count": 105,
   "metadata": {},
   "outputs": [],
   "source": [
    "def get_points(strat, finish):\n",
    "    x_axis = np.linspace(start, finish, finish-start)\n",
    "    y_axis = 1*x_axis +2.0\n",
    "    return x_axis, y_axis"
   ]
  },
  {
   "cell_type": "code",
   "execution_count": 198,
   "metadata": {},
   "outputs": [
    {
     "name": "stdout",
     "output_type": "stream",
     "text": [
      "0 [ 1.        5.444444 13.444445 24.999998] 0.0 0.0\n",
      "\n",
      "(-41.77778, -24.0) -41.77778 -24.0\n",
      "\n",
      "1 [ 7.7160487  2.1294384 32.447784  98.67109  ] 4.177778 2.4\n",
      "\n",
      "(85.11604, 28.622223) 85.11604 28.62222\n",
      "\n",
      "2 [  8.246114  17.978989 128.86638  340.90836 ] -4.3338265 -0.46222186\n",
      "\n",
      "(-157.19199, -62.36839) -157.19199 -62.36839\n",
      "\n"
     ]
    }
   ],
   "source": [
    "tf.reset_default_graph()\n",
    "## 1. definicija računskog grafa\n",
    "#podatci i parametri\n",
    "X = tf.placeholder(tf.float32, [None])\n",
    "Y_ = tf.placeholder(tf.float32, [None])\n",
    "a = tf.Variable(0.0)\n",
    "b = tf.Variable(0.0)\n",
    "\n",
    "learning_rate = 0.1\n",
    "\n",
    "#afini regresijski model\n",
    "Y = a * X + b\n",
    "\n",
    "#analiticki grad za a i b\n",
    "ana_grad = []\n",
    "ana_grads_b = tf.reduce_sum(2*(Y - Y_))\n",
    "ana_grads_a = tf.reduce_sum(2*(Y - Y_)*X)\n",
    "ana_grad = [ana_grads_a, ana_grads_b]\n",
    "# kvadratni gubitak\n",
    "loss = (Y - Y_)**2\n",
    "\n",
    "#optimizacijski postupak gradijentnog spusta\n",
    "trainer = tf.train.GradientDescentOptimizer(learning_rate)\n",
    "# train_op = trainer.minimize(loss)\n",
    "grads_and_vars = trainer.compute_gradients(loss)\n",
    "# gradients = [grad for grad, variable in grads_and_vars]\n",
    "# variables = [variable for grad, variable in grads_and_vars]\n",
    "gradients, variables = zip(*grads_and_vars)\n",
    "grad_print = tf.Print(gradients, [gradients], message=\"Gradients are: \")\n",
    "\n",
    "train_op = trainer.apply_gradients(zip(ana_grad,variables))\n",
    "\n",
    "\n",
    "\n",
    "#getting points\n",
    "x_axis, y_axis = get_points(-3,3)\n",
    "\n",
    "## 2. inicijalizacija parametara\n",
    "sess = tf.InteractiveSession()\n",
    "sess.run(tf.initialize_all_variables())\n",
    "\n",
    "for i in range(3):\n",
    "    mm, tf_grads,grad_a, grad_b, val_loss, grads, _, val_a, val_b = sess.run([grad_print,gradients, ana_grads_a,\n",
    "                                                                              ana_grads_b, loss,gradients,train_op, a, b],\n",
    "                                         feed_dict={X: x_axis, Y_: y_axis})\n",
    "    print(i,val_loss, val_a,val_b)\n",
    "    print()\n",
    "    print(tf_grads, grad_a, grad_b)\n",
    "    print()\n",
    "\n",
    "sess.close()"
   ]
  },
  {
   "cell_type": "code",
   "execution_count": 24,
   "metadata": {},
   "outputs": [],
   "source": [
    "class TFLogreg:\n",
    "    def __init__(self, D, C, param_delta=0.5, param_lambda=0):\n",
    "        \"\"\"Arguments:\n",
    "            -D: dimension of each datapoint\n",
    "            -C: number of classes\n",
    "            - param_delta: training step\n",
    "        \"\"\"\n",
    "        tf.reset_default_graph()\n",
    "        self.X = tf.placeholder(tf.float32, [None, D])\n",
    "        self.Yoh_ = tf.placeholder(tf.float32, [None,C])\n",
    "        initializer = tf.contrib.layers.variance_scaling_initializer()\n",
    "        weights_init = initializer([D, C])\n",
    "        self.W = tf.Variable(weights_init, name=\"weights\")\n",
    "        self.b = tf.Variable(tf.zeros([C]), name=\"biases\")\n",
    "        self.z = tf.matmul(self.X, self.W) + self.b\n",
    "        self.outputs = tf.nn.softmax(self.z)\n",
    "        \n",
    "#         L = tf.matmul(self.Yoh_,tf.log(self.outputs)) + tf.matmul(tf.ones(tf.shape(self.Yoh_)) - self.Yoh_,tf.ones(tf.shape(self.outputs)) - tf.log(self.outputs))\n",
    "#         self.loss = tf.reduce_mean(tf.reduce_sum(-L))\n",
    "        \n",
    "        base_loss = tf.reduce_sum(\n",
    "            tf.nn.sigmoid_cross_entropy_with_logits(labels=self.Yoh_, logits=self.z))\n",
    "        \n",
    "        l2_reg = 0.001\n",
    "        regularizer = tf.contrib.layers.l2_regularizer(l2_reg)\n",
    "        \n",
    "        self.loss = base_loss + regularizer(self.W)\n",
    "        \n",
    "        learning_rate = 0.002\n",
    "        \n",
    "        self.trainer = tf.train.GradientDescentOptimizer( learning_rate=learning_rate )\n",
    "        self.train_step = self.trainer.minimize( self.loss )\n",
    "        \n",
    "        self.glob_init = tf.global_variables_initializer()\n",
    "        self.saver = tf.train.Saver()\n",
    "\n",
    "        \n",
    "        self.session = tf.Session()\n",
    "        \n",
    "    def train(self, X, Yoh_, param_niter):\n",
    "        \"\"\"Arguments:\n",
    "           - X: actual datapoints [NxD]\n",
    "           - Yoh_ : one_hot encoded labels [NxC]\n",
    "           - param_niter: number of iterations\n",
    "        \"\"\"\n",
    "        \n",
    "        with tf.Session() as sess:\n",
    "            sess.run(self.glob_init)\n",
    "            for i in range(param_niter):\n",
    "                train, loss = sess.run([self.train_step, self.loss], feed_dict={self.X: X, self.Yoh_: Yoh_})\n",
    "                if i % 500 == 0:\n",
    "                    save_path = self.saver.save(sess, \"./tflogreg_lab1.ckpt\")\n",
    "                    print(loss)\n",
    "    def eval(self, X):\n",
    "        \"\"\"Arguments:\n",
    "           - X: actual datapoints [NxD]\n",
    "           Returns: predicted class probabilities [NxC]\n",
    "        \"\"\"\n",
    "        with tf.Session() as sess:\n",
    "            self.saver.restore(sess, \"./tflogreg_lab1.ckpt\")\n",
    "            sess.run(self.glob_init)\n",
    "            return sess.run(self.outputs, feed_dict={self.X: X})"
   ]
  },
  {
   "cell_type": "code",
   "execution_count": 25,
   "metadata": {},
   "outputs": [
    {
     "name": "stdout",
     "output_type": "stream",
     "text": [
      "[6 6 2 2]\n",
      "[[0. 0. 0. 0. 0. 0. 1. 0. 0. 0.]\n",
      " [0. 0. 0. 0. 0. 0. 1. 0. 0. 0.]\n",
      " [0. 0. 1. 0. 0. 0. 0. 0. 0. 0.]\n",
      " [0. 0. 1. 0. 0. 0. 0. 0. 0. 0.]]\n"
     ]
    }
   ],
   "source": [
    "my_X1 , my_Y1 = my_sample_gmm_2d(2,10,2)\n",
    "print(my_Y1)\n",
    "print(convert_to_one_hot(my_Y1))"
   ]
  },
  {
   "cell_type": "code",
   "execution_count": 29,
   "metadata": {},
   "outputs": [
    {
     "name": "stdout",
     "output_type": "stream",
     "text": [
      "444.40176\n",
      "11.0672035\n",
      "9.103\n",
      "8.156784\n",
      "7.607868\n",
      "7.2530456\n",
      "7.0065174\n",
      "6.8262367\n",
      "6.6893144\n",
      "6.5822663\n",
      "6.4966493\n",
      "6.4269085\n",
      "6.3692403\n",
      "6.3209586\n",
      "6.2801056\n",
      "6.245226\n",
      "6.215211\n",
      "6.1892076\n",
      "6.166543\n",
      "6.1466846\n",
      "INFO:tensorflow:Restoring parameters from ./tflogreg_lab1.ckpt\n"
     ]
    }
   ],
   "source": [
    "if __name__ == \"__main__\":\n",
    "    #inicijaliziraj generator slučajnih brojeva\n",
    "    np.random.seed(100)\n",
    "    tf.set_random_seed(100)\n",
    "    \n",
    "    X , my_Y = sample_gmm_2d(2,10,6)\n",
    "    Yoh_ = convert_to_one_hot(my_Y)\n",
    "    \n",
    "    #izgradi graf:\n",
    "    tflr = TFLogreg(X.shape[1], Yoh_.shape[1], 0.5)\n",
    "    \n",
    "    #nauči parametre:\n",
    "    tflr.train(X, Yoh_,  10000)\n",
    "    \n",
    "    #dohvati vjerojatnosti na skupu za učenje\n",
    "    probs = tflr.eval(X)\n",
    "    \n",
    "#     #ispiši performansu (preciznost i odziv po razredima)\n",
    "    \n",
    "#     #iscrtaj rezultate, decizijsku plohu"
   ]
  },
  {
   "cell_type": "code",
   "execution_count": 30,
   "metadata": {},
   "outputs": [
    {
     "name": "stdout",
     "output_type": "stream",
     "text": [
      "[3 3 8 8 8 3 0 0 0 8 0 3]\n",
      "Accuracy  0.25\n",
      "Precision  [(nan, 0.0), (0.0, nan), (nan, nan), (nan, 0.0), (nan, nan), (nan, nan), (nan, nan), (nan, nan), (0.5, 0.75)]\n",
      "Confusion matrix [[0 0 0 0 0 0 0 0 0]\n",
      " [4 0 0 1 0 0 0 0 1]\n",
      " [0 0 0 0 0 0 0 0 0]\n",
      " [0 0 0 0 0 0 0 0 0]\n",
      " [0 0 0 0 0 0 0 0 0]\n",
      " [0 0 0 0 0 0 0 0 0]\n",
      " [0 0 0 0 0 0 0 0 0]\n",
      " [0 0 0 0 0 0 0 0 0]\n",
      " [0 0 0 3 0 0 0 0 3]]\n"
     ]
    },
    {
     "name": "stderr",
     "output_type": "stream",
     "text": [
      "c:\\users\\branko\\anaconda3\\lib\\site-packages\\ipykernel\\__main__.py:10: RuntimeWarning: invalid value encountered in longlong_scalars\n",
      "c:\\users\\branko\\anaconda3\\lib\\site-packages\\ipykernel\\__main__.py:11: RuntimeWarning: invalid value encountered in longlong_scalars\n"
     ]
    }
   ],
   "source": [
    "Y2=np.argmax(probs,axis=1)\n",
    "Y2_=convert_Y(my_Y)\n",
    "print(Y2)\n",
    "accuracy, pr, M = eval_perf_multi(Y2, Y2_)\n",
    "print(\"Accuracy \", accuracy)\n",
    "print(\"Precision \", pr)\n",
    "print(\"Confusion matrix\", M)"
   ]
  },
  {
   "cell_type": "code",
   "execution_count": 685,
   "metadata": {},
   "outputs": [
    {
     "name": "stdout",
     "output_type": "stream",
     "text": [
      "INFO:tensorflow:Restoring parameters from ./tflogreg_lab1.ckpt\n"
     ]
    },
    {
     "ename": "ValueError",
     "evalue": "cannot reshape array of size 655360 into shape (256,256)",
     "output_type": "error",
     "traceback": [
      "\u001b[0;31m---------------------------------------------------------------------------\u001b[0m",
      "\u001b[0;31mValueError\u001b[0m                                Traceback (most recent call last)",
      "\u001b[0;32m<ipython-input-685-a467f3853b23>\u001b[0m in \u001b[0;36m<module>\u001b[0;34m()\u001b[0m\n\u001b[1;32m      1\u001b[0m \u001b[0mbbox\u001b[0m\u001b[1;33m=\u001b[0m\u001b[1;33m(\u001b[0m\u001b[0mnp\u001b[0m\u001b[1;33m.\u001b[0m\u001b[0mmin\u001b[0m\u001b[1;33m(\u001b[0m\u001b[0mX\u001b[0m\u001b[1;33m,\u001b[0m \u001b[0maxis\u001b[0m\u001b[1;33m=\u001b[0m\u001b[1;36m0\u001b[0m\u001b[1;33m)\u001b[0m\u001b[1;33m,\u001b[0m \u001b[0mnp\u001b[0m\u001b[1;33m.\u001b[0m\u001b[0mmax\u001b[0m\u001b[1;33m(\u001b[0m\u001b[0mX\u001b[0m\u001b[1;33m,\u001b[0m \u001b[0maxis\u001b[0m\u001b[1;33m=\u001b[0m\u001b[1;36m0\u001b[0m\u001b[1;33m)\u001b[0m\u001b[1;33m)\u001b[0m\u001b[1;33m\u001b[0m\u001b[0m\n\u001b[1;32m      2\u001b[0m \u001b[1;33m\u001b[0m\u001b[0m\n\u001b[0;32m----> 3\u001b[0;31m \u001b[0mgraph_surface\u001b[0m\u001b[1;33m(\u001b[0m\u001b[0mtflr\u001b[0m\u001b[1;33m.\u001b[0m\u001b[0meval\u001b[0m\u001b[1;33m,\u001b[0m \u001b[0mbbox\u001b[0m\u001b[1;33m,\u001b[0m \u001b[0moffset\u001b[0m\u001b[1;33m=\u001b[0m\u001b[1;36m0.5\u001b[0m\u001b[1;33m)\u001b[0m\u001b[1;33m\u001b[0m\u001b[0m\n\u001b[0m\u001b[1;32m      4\u001b[0m \u001b[1;31m# graph the data points\u001b[0m\u001b[1;33m\u001b[0m\u001b[1;33m\u001b[0m\u001b[0m\n\u001b[1;32m      5\u001b[0m \u001b[0mgraph_data\u001b[0m\u001b[1;33m(\u001b[0m\u001b[0mmy_X\u001b[0m\u001b[1;33m,\u001b[0m \u001b[0mY2_\u001b[0m\u001b[1;33m,\u001b[0m \u001b[0mY2\u001b[0m\u001b[1;33m,\u001b[0m \u001b[0mspecial\u001b[0m\u001b[1;33m=\u001b[0m\u001b[1;33m[\u001b[0m\u001b[1;33m]\u001b[0m\u001b[1;33m)\u001b[0m\u001b[1;33m\u001b[0m\u001b[0m\n",
      "\u001b[0;32m<ipython-input-473-740003a50c39>\u001b[0m in \u001b[0;36mgraph_surface\u001b[0;34m(function, rect, offset, width, height)\u001b[0m\n\u001b[1;32m     18\u001b[0m \u001b[1;33m\u001b[0m\u001b[0m\n\u001b[1;32m     19\u001b[0m         \u001b[1;31m#get the values and reshape them\u001b[0m\u001b[1;33m\u001b[0m\u001b[1;33m\u001b[0m\u001b[0m\n\u001b[0;32m---> 20\u001b[0;31m         \u001b[0mvalues\u001b[0m\u001b[1;33m=\u001b[0m\u001b[0mfunction\u001b[0m\u001b[1;33m(\u001b[0m\u001b[0mgrid\u001b[0m\u001b[1;33m)\u001b[0m\u001b[1;33m.\u001b[0m\u001b[0mreshape\u001b[0m\u001b[1;33m(\u001b[0m\u001b[1;33m(\u001b[0m\u001b[0mwidth\u001b[0m\u001b[1;33m,\u001b[0m\u001b[0mheight\u001b[0m\u001b[1;33m)\u001b[0m\u001b[1;33m)\u001b[0m\u001b[1;33m\u001b[0m\u001b[0m\n\u001b[0m\u001b[1;32m     21\u001b[0m \u001b[1;33m\u001b[0m\u001b[0m\n\u001b[1;32m     22\u001b[0m         \u001b[1;31m# fix the range and offset\u001b[0m\u001b[1;33m\u001b[0m\u001b[1;33m\u001b[0m\u001b[0m\n",
      "\u001b[0;31mValueError\u001b[0m: cannot reshape array of size 655360 into shape (256,256)"
     ]
    }
   ],
   "source": [
    "bbox=(np.min(X, axis=0), np.max(X, axis=0))\n",
    "\n",
    "graph_surface(tflr.eval, bbox, offset=0.5)\n",
    "# graph the data points\n",
    "graph_data(my_X, Y2_, Y2, special=[])\n",
    "# show the plot\n",
    "plt.show()"
   ]
  },
  {
   "cell_type": "code",
   "execution_count": 65,
   "metadata": {},
   "outputs": [],
   "source": [
    "from tensorflow.contrib.layers import batch_norm\n",
    "from tensorflow.contrib.layers import dropout\n",
    "from tensorflow.contrib.layers import fully_connected\n",
    "\n",
    "\n",
    "class TFDeep:\n",
    "    def __init__(self, structure, initial_learning_rate = 0.1,activation_func = tf.nn.sigmoid\n",
    "               ,batch_flag = False ,keep_prob = 0.7, trainer_flag = \"adam\"):\n",
    "        \n",
    "        tf.reset_default_graph()\n",
    "        self.X = tf.placeholder(dtype=tf.float32, shape=[None, structure[0]], name=\"input\")\n",
    "        self.Y_ = tf.placeholder(dtype=tf.float32, shape=[None, structure[np.max(np.shape(structure))-1]], name=\"output\")\n",
    "        self.layers = []\n",
    "        \n",
    "        \n",
    "        self.is_training = tf.placeholder(tf.bool, shape=(), name='is_training')\n",
    "        self.X_drop = dropout(self.X, keep_prob, is_training=self.is_training)\n",
    "        self.layers.append(self.X_drop)\n",
    "        \n",
    "        bn_params = None\n",
    "        normalizer_func = None\n",
    "        self.batch_flag = batch_flag\n",
    "        \n",
    "        if batch_flag:\n",
    "            \n",
    "            bn_params = {\n",
    "             'is_training': self.is_training,\n",
    "             'decay': 0.99,\n",
    "             'updates_collections': None\n",
    "            }\n",
    "            normalizer_func = batch_norm\n",
    "            activation_func = tf.nn.relu\n",
    "        \n",
    "        with tf.contrib.framework.arg_scope(\n",
    "                    [fully_connected],\n",
    "                    activation_fn=activation_func,\n",
    "                    normalizer_fn=normalizer_func,\n",
    "                    normalizer_params=bn_params):\n",
    "            \n",
    "            for i in range(1 , np.max(np.shape(structure))):\n",
    "                s = \"hidden\"+str(i)\n",
    "                hidden = fully_connected(self.layers[i-1], structure[i], scope=s)\n",
    "                hidden_drop = dropout(hidden, keep_prob, is_training=self.is_training)\n",
    "                self.layers.append(hidden_drop)\n",
    "        \n",
    "        self.logits = fully_connected(self.layers[np.max(np.shape(structure))-1],\n",
    "                                     structure[np.max(np.shape(structure))-1],\n",
    "                                     scope = \"output\",\n",
    "                                     activation_fn=None)\n",
    "        \n",
    "        self.outputs = tf.nn.softmax(self.logits)\n",
    "        \n",
    "        self.loss  = tf.reduce_sum(\n",
    "            tf.nn.sigmoid_cross_entropy_with_logits(labels=self.Y_, logits=self.logits))\n",
    "        \n",
    "        \n",
    "        \n",
    "        learning_rate = initial_learning_rate\n",
    "        self.trainer = None\n",
    "        global_step = None\n",
    "        self.saver = tf.train.Saver()\n",
    "        \n",
    "        if trainer_flag ==\"grad\":\n",
    "            global_step = tf.Variable(0, trainable=False)\n",
    "            learning_rate = tf.train.exponential_decay(initial_learning_rate, global_step,\n",
    "                                                    decay_rate=1-1e-4 , decay_stepsi=1)\n",
    "            self.trainer = tf.train.GradientDescentOptimizer( learning_rate )\n",
    "        else:\n",
    "        \n",
    "            self.trainer = tf.train.AdamOptimizer( learning_rate )\n",
    "\n",
    "        self.train_step = self.trainer.minimize( self.loss, global_step=global_step )\n",
    "        \n",
    "        self.trainable_vars = tf.get_collection(tf.GraphKeys.TRAINABLE_VARIABLES)\n",
    "        \n",
    "        self.glob_init = tf.global_variables_initializer()\n",
    "        \n",
    "        self.session = tf.Session()\n",
    "        \n",
    "    def train(self, X, Yoh_, param_niter):\n",
    "        \"\"\"Arguments:\n",
    "           - X: actual datapoints [NxD]\n",
    "           - Yoh_ : one_hot encoded labels [NxC]\n",
    "           - param_niter: number of iterations\n",
    "        \"\"\"\n",
    "\n",
    "        with tf.Session() as sess:\n",
    "            sess.run(self.glob_init)\n",
    "            for i in range(param_niter):\n",
    "                train, loss= sess.run([self.train_step, self.loss ], feed_dict={self.X: X, self.Y_: Yoh_, self.is_training: True})\n",
    "                if i % 500 == 0:\n",
    "                    save_path = self.saver.save(sess, \"./tfdeep_lab1.ckpt\")\n",
    "                    print(loss)\n",
    "           \n",
    "    def eval_data(self, X):\n",
    "        \"\"\"Arguments:\n",
    "           - X: actual datapoints [NxD]\n",
    "           Returns: predicted class probabilities [NxC]\n",
    "        \"\"\"\n",
    "        s = None\n",
    "        if self.batch_flag:\n",
    "            s = \"./tfdeep_batch_lab1.ckpt\"\n",
    "        else:\n",
    "            s = \"./tfdeep_lab1.ckpt\"\n",
    "        with tf.Session() as sess:\n",
    "            self.saver.restore(sess, s)\n",
    "            sess.run(self.glob_init)\n",
    "            return sess.run(self.outputs, feed_dict={self.X: X, self.is_training: False})\n",
    "    def class_data(self, X):\n",
    "        return(np.argmax(self.eval_data(X),axis=1))\n",
    "    \n",
    "    def count_params(self):\n",
    "            s = None\n",
    "            if self.batch_flag:\n",
    "                s = \"./tfdeep_batch_lab1.ckpt\"\n",
    "            else:\n",
    "                s = \"./tfdeep_lab1.ckpt\"\n",
    "                \n",
    "            with tf.Session() as sess:\n",
    "                self.saver.restore(sess, s)\n",
    "                sess.run(self.glob_init)\n",
    "                train_vars = sess.run(self.trainable_vars)\n",
    "                print(\"Trainable variables \\n\", train_vars)\n",
    "            return train_vars\n",
    "    \n",
    "    def find_max_loss(self, X, Yoh_):\n",
    "        s = None\n",
    "        if self.batch_flag:\n",
    "            s = \"./tfdeep_batch_lab1.ckpt\"\n",
    "        else:\n",
    "            s = \"./tfdeep_lab1.ckpt\"\n",
    "            \n",
    "        max_loss = 0\n",
    "        loss_index = 0\n",
    "        with tf.Session() as sess:\n",
    "            self.saver.restore(sess, s)\n",
    "            sess.run(self.glob_init)\n",
    "            for i in range(param_niter):\n",
    "                loss= sess.run([ self.loss ], feed_dict={self.X: X, self.Y_: Yoh_, self.is_training: False})\n",
    "                \n",
    "                if(i == 0):\n",
    "                    max_loss = loss\n",
    "                if max_loss < loss:\n",
    "                    max_loss = loss\n",
    "                    loss_index = i\n",
    "        return loss_index\n",
    "                \n",
    "    def early_stopping(self, X, Yoh_, param_niter):\n",
    "        \"\"\"Arguments:\n",
    "           - X: actual datapoints [NxD]\n",
    "           - Yoh_ : one_hot encoded labels [NxC]\n",
    "           - param_niter: number of iterations\n",
    "        \"\"\"\n",
    "        s = np.arange(X.shape[0])\n",
    "        valid_index = X.shape[0] //5\n",
    "        \n",
    "        with tf.Session() as sess:\n",
    "            \n",
    "            sess.run(self.glob_init)\n",
    "            early_st = 0\n",
    "            for i in range(param_niter):\n",
    "                np.random.shuffle(s)\n",
    "                X = X[s]\n",
    "                Yoh_ = Yoh_[s]\n",
    "                X_valid = X[0:valid_index]\n",
    "                X_train = X[valid_index:]\n",
    "                Y_valid = Yoh_[0:valid_index]\n",
    "                Y_train = Yoh_[valid_index:]\n",
    "                \n",
    "                train, loss= sess.run([self.train_step, self.loss ], feed_dict={self.X: X_train, self.Y_: Y_train, self.is_training: True})\n",
    "                save_path = self.saver.save(sess, \"./tfdeep_lab1.ckpt\")\n",
    "                loss_valid = tf.reduce_sum((self.eval_data(X_valid)-Y_valid)**2)\n",
    "                if i == 0:\n",
    "                    early_st = loss_valid\n",
    "                if early_st > loss_valid:\n",
    "                    early_st = loss_valid\n",
    "                else:\n",
    "                    break\n",
    "                    \n",
    "    def train_mb(self, X, Yoh_, n_epochs= 1000):\n",
    "        batch_size = 150\n",
    "        s = np.arange(X.shape[0])\n",
    "        N, n = X.shape\n",
    "        \n",
    "        with tf.Session() as sess:\n",
    "            sess.run(self.glob_init)\n",
    "            for epoch in range(n_epochs):\n",
    "                np.random.shuffle(s)\n",
    "                X = X[s]\n",
    "                Yoh_ = Yoh_[s]\n",
    "                n_batches = N // batch_size\n",
    "                for iteration in range(1,n_batches):\n",
    "                    X_batch = X[(iteration-1)*batch_size : iteration*batch_size]\n",
    "                    y_batch = Yoh_[(iteration-1)*batch_size : iteration*batch_size]\n",
    "                    train, loss= sess.run([self.train_step, self.loss ], feed_dict={self.X: X, self.Y_: Yoh_, self.is_training: True})\n",
    "                print(\"Loss is\", loss)\n",
    "                if epoch % 100 == 0:\n",
    "                    save_path = self.saver.save(sess, \"./tfdeep_batch_lab1.ckpt\")"
   ]
  },
  {
   "cell_type": "code",
   "execution_count": 27,
   "metadata": {},
   "outputs": [
    {
     "name": "stdout",
     "output_type": "stream",
     "text": [
      "81.14941\n",
      "4.3664455\n",
      "14.904567\n",
      "13.199554\n",
      "9.806031\n",
      "11.992236\n",
      "9.25676\n",
      "6.0301104\n",
      "9.678316\n",
      "5.5989633\n",
      "9.317894\n",
      "8.471473\n",
      "13.4593935\n",
      "5.20512\n",
      "16.27179\n",
      "8.483083\n",
      "16.010708\n",
      "8.516099\n",
      "7.3364377\n",
      "2.8141088\n",
      "INFO:tensorflow:Restoring parameters from ./tfdeep_lab1.ckpt\n"
     ]
    }
   ],
   "source": [
    "if __name__ == \"__main__\":\n",
    "    #inicijaliziraj generator slučajnih brojeva\n",
    "    np.random.seed(100)\n",
    "    tf.set_random_seed(100)\n",
    "    \n",
    "    X , my_Y = sample_gmm_2d(2,9,6)\n",
    "    Yoh_ = convert_to_one_hot(my_Y)\n",
    "\n",
    "    #izgradi graf:\n",
    "    tflr = TFDeep(structure=[2, 10,10],batch_flag=False)\n",
    "    \n",
    "    #nauči parametre:\n",
    "    tflr.train(X, Yoh_,  10000)\n",
    "    \n",
    "    #dohvati vjerojatnosti na skupu za učenje\n",
    "    probs = tflr.eval_data(X)\n",
    "    \n",
    "\n",
    "#     #ispiši performansu (preciznost i odziv po razredima)\n",
    "    \n",
    "#     #iscrtaj rezultate, decizijsku plohu"
   ]
  },
  {
   "cell_type": "code",
   "execution_count": 61,
   "metadata": {},
   "outputs": [
    {
     "name": "stdout",
     "output_type": "stream",
     "text": [
      "Accuracy  0\n",
      "Precision  0.0\n",
      "Confusion matrix [[0 0 6]\n",
      " [0 0 6]\n",
      " [0 0 0]]\n"
     ]
    }
   ],
   "source": [
    "from sklearn.metrics import recall_score\n",
    "from sklearn.metrics import accuracy_score\n",
    "from sklearn.metrics import confusion_matrix\n",
    "# accuracy, pr, M = eval_perf_multi(np.argmax(probs, axis=1), convert_Y(my_Y))\n",
    "print(\"Accuracy \", accuracy_score(convert_Y(my_Y), np.argmax(probs, axis=1), normalize=False))\n",
    "print(\"Precision \", recall_score(convert_Y(my_Y), np.argmax(probs, axis=1), average='micro') )\n",
    "print(\"Confusion matrix\", confusion_matrix(convert_Y(my_Y), np.argmax(probs, axis=1)))\n"
   ]
  },
  {
   "cell_type": "code",
   "execution_count": 34,
   "metadata": {},
   "outputs": [
    {
     "name": "stdout",
     "output_type": "stream",
     "text": [
      "INFO:tensorflow:Restoring parameters from ./tfdeep_lab1.ckpt\n",
      "Trainable variables \n",
      "\n"
     ]
    },
    {
     "ename": "AttributeError",
     "evalue": "'numpy.ndarray' object has no attribute 'eval'",
     "output_type": "error",
     "traceback": [
      "\u001b[0;31m---------------------------------------------------------------------------\u001b[0m",
      "\u001b[0;31mAttributeError\u001b[0m                            Traceback (most recent call last)",
      "\u001b[0;32m<ipython-input-34-99076ba2bee9>\u001b[0m in \u001b[0;36m<module>\u001b[0;34m()\u001b[0m\n\u001b[0;32m----> 1\u001b[0;31m \u001b[0mtflr\u001b[0m\u001b[1;33m.\u001b[0m\u001b[0mcount_params\u001b[0m\u001b[1;33m(\u001b[0m\u001b[1;33m)\u001b[0m\u001b[1;33m\u001b[0m\u001b[0m\n\u001b[0m",
      "\u001b[0;32m<ipython-input-32-9d6daa770506>\u001b[0m in \u001b[0;36mcount_params\u001b[0;34m(self)\u001b[0m\n\u001b[1;32m    121\u001b[0m                 \u001b[0mprint\u001b[0m\u001b[1;33m(\u001b[0m\u001b[1;34m\"Trainable variables \\n\"\u001b[0m\u001b[1;33m)\u001b[0m\u001b[1;33m\u001b[0m\u001b[0m\n\u001b[1;32m    122\u001b[0m                 \u001b[1;32mfor\u001b[0m \u001b[0mi\u001b[0m \u001b[1;32min\u001b[0m \u001b[0mtrain_vars\u001b[0m\u001b[1;33m:\u001b[0m\u001b[1;33m\u001b[0m\u001b[0m\n\u001b[0;32m--> 123\u001b[0;31m                     \u001b[0mprint\u001b[0m\u001b[1;33m(\u001b[0m\u001b[0mstr\u001b[0m\u001b[1;33m(\u001b[0m\u001b[0mi\u001b[0m\u001b[1;33m)\u001b[0m \u001b[1;33m+\u001b[0m \u001b[1;34m'  -->  '\u001b[0m\u001b[1;33m+\u001b[0m \u001b[0mstr\u001b[0m\u001b[1;33m(\u001b[0m\u001b[0mi\u001b[0m\u001b[1;33m.\u001b[0m\u001b[0meval\u001b[0m\u001b[1;33m(\u001b[0m\u001b[1;33m)\u001b[0m\u001b[1;33m)\u001b[0m\u001b[1;33m)\u001b[0m\u001b[1;33m\u001b[0m\u001b[0m\n\u001b[0m\u001b[1;32m    124\u001b[0m \u001b[1;33m\u001b[0m\u001b[0m\n\u001b[1;32m    125\u001b[0m     \u001b[1;32mdef\u001b[0m \u001b[0mtrain_mb\u001b[0m\u001b[1;33m(\u001b[0m\u001b[0mself\u001b[0m\u001b[1;33m,\u001b[0m \u001b[0mX\u001b[0m\u001b[1;33m,\u001b[0m \u001b[0mYoh_\u001b[0m\u001b[1;33m,\u001b[0m \u001b[0mn_epochs\u001b[0m\u001b[1;33m=\u001b[0m \u001b[1;36m1000\u001b[0m\u001b[1;33m)\u001b[0m\u001b[1;33m:\u001b[0m\u001b[1;33m\u001b[0m\u001b[0m\n",
      "\u001b[0;31mAttributeError\u001b[0m: 'numpy.ndarray' object has no attribute 'eval'"
     ]
    }
   ],
   "source": [
    "tflr.count_params()"
   ]
  },
  {
   "cell_type": "code",
   "execution_count": 67,
   "metadata": {},
   "outputs": [
    {
     "name": "stdout",
     "output_type": "stream",
     "text": [
      "[8 8 8 8 8 8 1 1 1 1 1 1]\n",
      "[9 9 9 9 9 9 9 9 9 9 9 9]\n",
      "[False False False False False False False False False False False False]\n",
      "INFO:tensorflow:Restoring parameters from ./tfdeep_lab1.ckpt\n"
     ]
    },
    {
     "ename": "ValueError",
     "evalue": "cannot reshape array of size 655360 into shape (256,256)",
     "output_type": "error",
     "traceback": [
      "\u001b[0;31m---------------------------------------------------------------------------\u001b[0m",
      "\u001b[0;31mValueError\u001b[0m                                Traceback (most recent call last)",
      "\u001b[0;32m<ipython-input-67-0525c958a789>\u001b[0m in \u001b[0;36m<module>\u001b[0;34m()\u001b[0m\n\u001b[1;32m      3\u001b[0m \u001b[0mprint\u001b[0m\u001b[1;33m(\u001b[0m\u001b[0mnp\u001b[0m\u001b[1;33m.\u001b[0m\u001b[0margmax\u001b[0m\u001b[1;33m(\u001b[0m\u001b[0mprobs\u001b[0m\u001b[1;33m,\u001b[0m \u001b[0maxis\u001b[0m\u001b[1;33m=\u001b[0m\u001b[1;36m1\u001b[0m\u001b[1;33m)\u001b[0m\u001b[1;33m)\u001b[0m\u001b[1;33m\u001b[0m\u001b[0m\n\u001b[1;32m      4\u001b[0m \u001b[0mprint\u001b[0m\u001b[1;33m(\u001b[0m\u001b[0mconvert_Y\u001b[0m\u001b[1;33m(\u001b[0m\u001b[0mmy_Y\u001b[0m\u001b[1;33m)\u001b[0m\u001b[1;33m==\u001b[0m\u001b[0mnp\u001b[0m\u001b[1;33m.\u001b[0m\u001b[0margmax\u001b[0m\u001b[1;33m(\u001b[0m\u001b[0mprobs\u001b[0m\u001b[1;33m,\u001b[0m \u001b[0maxis\u001b[0m\u001b[1;33m=\u001b[0m\u001b[1;36m1\u001b[0m\u001b[1;33m)\u001b[0m\u001b[1;33m)\u001b[0m\u001b[1;33m\u001b[0m\u001b[0m\n\u001b[0;32m----> 5\u001b[0;31m \u001b[0mgraph_surface\u001b[0m\u001b[1;33m(\u001b[0m\u001b[0mtflr\u001b[0m\u001b[1;33m.\u001b[0m\u001b[0meval_data\u001b[0m\u001b[1;33m,\u001b[0m \u001b[0mbbox\u001b[0m\u001b[1;33m,\u001b[0m \u001b[0moffset\u001b[0m\u001b[1;33m=\u001b[0m\u001b[1;36m0.5\u001b[0m\u001b[1;33m)\u001b[0m\u001b[1;33m\u001b[0m\u001b[0m\n\u001b[0m\u001b[1;32m      6\u001b[0m \u001b[1;31m# graph the data points\u001b[0m\u001b[1;33m\u001b[0m\u001b[1;33m\u001b[0m\u001b[0m\n\u001b[1;32m      7\u001b[0m \u001b[0mgraph_data\u001b[0m\u001b[1;33m(\u001b[0m\u001b[0mX\u001b[0m\u001b[1;33m,\u001b[0m \u001b[0mconvert_Y\u001b[0m\u001b[1;33m(\u001b[0m\u001b[0mmy_Y\u001b[0m\u001b[1;33m)\u001b[0m\u001b[1;33m,\u001b[0m \u001b[0mconvert_Y\u001b[0m\u001b[1;33m(\u001b[0m\u001b[0mmy_Y\u001b[0m\u001b[1;33m)\u001b[0m\u001b[1;33m==\u001b[0m\u001b[0mnp\u001b[0m\u001b[1;33m.\u001b[0m\u001b[0margmax\u001b[0m\u001b[1;33m(\u001b[0m\u001b[0mprobs\u001b[0m\u001b[1;33m,\u001b[0m \u001b[0maxis\u001b[0m\u001b[1;33m=\u001b[0m\u001b[1;36m1\u001b[0m\u001b[1;33m)\u001b[0m\u001b[1;33m,\u001b[0m \u001b[0mspecial\u001b[0m\u001b[1;33m=\u001b[0m\u001b[1;33m[\u001b[0m\u001b[1;33m]\u001b[0m\u001b[1;33m)\u001b[0m\u001b[1;33m\u001b[0m\u001b[0m\n",
      "\u001b[0;32m<ipython-input-5-740003a50c39>\u001b[0m in \u001b[0;36mgraph_surface\u001b[0;34m(function, rect, offset, width, height)\u001b[0m\n\u001b[1;32m     18\u001b[0m \u001b[1;33m\u001b[0m\u001b[0m\n\u001b[1;32m     19\u001b[0m         \u001b[1;31m#get the values and reshape them\u001b[0m\u001b[1;33m\u001b[0m\u001b[1;33m\u001b[0m\u001b[0m\n\u001b[0;32m---> 20\u001b[0;31m         \u001b[0mvalues\u001b[0m\u001b[1;33m=\u001b[0m\u001b[0mfunction\u001b[0m\u001b[1;33m(\u001b[0m\u001b[0mgrid\u001b[0m\u001b[1;33m)\u001b[0m\u001b[1;33m.\u001b[0m\u001b[0mreshape\u001b[0m\u001b[1;33m(\u001b[0m\u001b[1;33m(\u001b[0m\u001b[0mwidth\u001b[0m\u001b[1;33m,\u001b[0m\u001b[0mheight\u001b[0m\u001b[1;33m)\u001b[0m\u001b[1;33m)\u001b[0m\u001b[1;33m\u001b[0m\u001b[0m\n\u001b[0m\u001b[1;32m     21\u001b[0m \u001b[1;33m\u001b[0m\u001b[0m\n\u001b[1;32m     22\u001b[0m         \u001b[1;31m# fix the range and offset\u001b[0m\u001b[1;33m\u001b[0m\u001b[1;33m\u001b[0m\u001b[0m\n",
      "\u001b[0;31mValueError\u001b[0m: cannot reshape array of size 655360 into shape (256,256)"
     ]
    }
   ],
   "source": [
    "bbox=(np.min(X, axis=0), np.max(X, axis=0))\n",
    "print(convert_Y(my_Y))\n",
    "print(np.argmax(probs, axis=1))\n",
    "print(convert_Y(my_Y)==np.argmax(probs, axis=1))\n",
    "graph_surface(tflr.eval_data, bbox, offset=0.5)\n",
    "# graph the data points\n",
    "graph_data(X, convert_Y(my_Y), convert_Y(my_Y)==np.argmax(probs, axis=1), special=[])\n",
    "# show the plot\n",
    "plt.show()"
   ]
  },
  {
   "cell_type": "code",
   "execution_count": 702,
   "metadata": {},
   "outputs": [],
   "source": [
    "X4 , Y4 = sample_gmm_2d(4,2,40)\n",
    "Y4oh_ = class_to_onehot(convert_Y(Y4))\n",
    "X5, Y5 = sample_gmm_2d(6, 2, 10)\n",
    "Y5oh_ = class_to_onehot(convert_Y(Y5))"
   ]
  },
  {
   "cell_type": "code",
   "execution_count": 708,
   "metadata": {},
   "outputs": [
    {
     "name": "stdout",
     "output_type": "stream",
     "text": [
      "224.23743\n",
      "173.78473\n",
      "173.3925\n",
      "175.12822\n",
      "172.22896\n",
      "174.67593\n",
      "175.54025\n",
      "171.07655\n",
      "172.15688\n",
      "176.84535\n",
      "175.61292\n",
      "170.72203\n",
      "180.20158\n",
      "176.7616\n",
      "170.38841\n",
      "172.61317\n",
      "172.58176\n",
      "175.78418\n",
      "180.18085\n",
      "169.91376\n",
      "INFO:tensorflow:Restoring parameters from ./tfdeep_lab1.ckpt\n"
     ]
    }
   ],
   "source": [
    "tflr4 = TFDeep(structure=[2, 2],batch_flag=False)\n",
    "    \n",
    "#nauči parametre:\n",
    "tflr4.train(X4, Y4oh_,  10000)\n",
    "    \n",
    "#dohvati vjerojatnosti na skupu za učenje\n",
    "probs4 = tflr4.eval_data(X4)"
   ]
  },
  {
   "cell_type": "code",
   "execution_count": 709,
   "metadata": {},
   "outputs": [
    {
     "name": "stdout",
     "output_type": "stream",
     "text": [
      "Accuracy  0.75\n",
      "Precision  [(1.0, 0.75), (0.0, nan)]\n",
      "Confusion matrix [[120   0]\n",
      " [ 40   0]]\n"
     ]
    },
    {
     "name": "stderr",
     "output_type": "stream",
     "text": [
      "c:\\users\\branko\\anaconda3\\lib\\site-packages\\ipykernel\\__main__.py:11: RuntimeWarning: invalid value encountered in longlong_scalars\n"
     ]
    }
   ],
   "source": [
    "Y4_p1=np.argmax(probs4,axis=1)\n",
    "Y4_=convert_Y(Y4)\n",
    "accuracy, pr, M = eval_perf_multi(Y4_p1, Y4_)\n",
    "print(\"Accuracy \", accuracy)\n",
    "print(\"Precision \", pr)\n",
    "print(\"Confusion matrix\", M)"
   ]
  },
  {
   "cell_type": "code",
   "execution_count": 711,
   "metadata": {},
   "outputs": [
    {
     "name": "stdout",
     "output_type": "stream",
     "text": [
      "INFO:tensorflow:Restoring parameters from ./tfdeep_lab1.ckpt\n"
     ]
    },
    {
     "ename": "ValueError",
     "evalue": "cannot reshape array of size 131072 into shape (256,256)",
     "output_type": "error",
     "traceback": [
      "\u001b[0;31m---------------------------------------------------------------------------\u001b[0m",
      "\u001b[0;31mValueError\u001b[0m                                Traceback (most recent call last)",
      "\u001b[0;32m<ipython-input-711-46ec5dbfb979>\u001b[0m in \u001b[0;36m<module>\u001b[0;34m()\u001b[0m\n\u001b[1;32m      1\u001b[0m \u001b[0mbbox\u001b[0m\u001b[1;33m=\u001b[0m\u001b[1;33m(\u001b[0m\u001b[0mnp\u001b[0m\u001b[1;33m.\u001b[0m\u001b[0mmin\u001b[0m\u001b[1;33m(\u001b[0m\u001b[0mX4\u001b[0m\u001b[1;33m,\u001b[0m \u001b[0maxis\u001b[0m\u001b[1;33m=\u001b[0m\u001b[1;36m0\u001b[0m\u001b[1;33m)\u001b[0m\u001b[1;33m,\u001b[0m \u001b[0mnp\u001b[0m\u001b[1;33m.\u001b[0m\u001b[0mmax\u001b[0m\u001b[1;33m(\u001b[0m\u001b[0mX4\u001b[0m\u001b[1;33m,\u001b[0m \u001b[0maxis\u001b[0m\u001b[1;33m=\u001b[0m\u001b[1;36m0\u001b[0m\u001b[1;33m)\u001b[0m\u001b[1;33m)\u001b[0m\u001b[1;33m\u001b[0m\u001b[0m\n\u001b[1;32m      2\u001b[0m \u001b[1;33m\u001b[0m\u001b[0m\n\u001b[0;32m----> 3\u001b[0;31m \u001b[0mgraph_surface\u001b[0m\u001b[1;33m(\u001b[0m\u001b[0mtflr4\u001b[0m\u001b[1;33m.\u001b[0m\u001b[0meval_data\u001b[0m\u001b[1;33m,\u001b[0m \u001b[0mbbox\u001b[0m\u001b[1;33m,\u001b[0m \u001b[0moffset\u001b[0m\u001b[1;33m=\u001b[0m\u001b[1;36m0.5\u001b[0m\u001b[1;33m)\u001b[0m\u001b[1;33m\u001b[0m\u001b[0m\n\u001b[0m\u001b[1;32m      4\u001b[0m \u001b[1;31m# graph the data points\u001b[0m\u001b[1;33m\u001b[0m\u001b[1;33m\u001b[0m\u001b[0m\n\u001b[1;32m      5\u001b[0m \u001b[0mgraph_data\u001b[0m\u001b[1;33m(\u001b[0m\u001b[0mX4\u001b[0m\u001b[1;33m,\u001b[0m \u001b[0mY4_\u001b[0m\u001b[1;33m,\u001b[0m \u001b[0mY4_p1\u001b[0m\u001b[1;33m,\u001b[0m \u001b[0mspecial\u001b[0m\u001b[1;33m=\u001b[0m\u001b[1;33m[\u001b[0m\u001b[1;33m]\u001b[0m\u001b[1;33m)\u001b[0m\u001b[1;33m\u001b[0m\u001b[0m\n",
      "\u001b[0;32m<ipython-input-473-740003a50c39>\u001b[0m in \u001b[0;36mgraph_surface\u001b[0;34m(function, rect, offset, width, height)\u001b[0m\n\u001b[1;32m     18\u001b[0m \u001b[1;33m\u001b[0m\u001b[0m\n\u001b[1;32m     19\u001b[0m         \u001b[1;31m#get the values and reshape them\u001b[0m\u001b[1;33m\u001b[0m\u001b[1;33m\u001b[0m\u001b[0m\n\u001b[0;32m---> 20\u001b[0;31m         \u001b[0mvalues\u001b[0m\u001b[1;33m=\u001b[0m\u001b[0mfunction\u001b[0m\u001b[1;33m(\u001b[0m\u001b[0mgrid\u001b[0m\u001b[1;33m)\u001b[0m\u001b[1;33m.\u001b[0m\u001b[0mreshape\u001b[0m\u001b[1;33m(\u001b[0m\u001b[1;33m(\u001b[0m\u001b[0mwidth\u001b[0m\u001b[1;33m,\u001b[0m\u001b[0mheight\u001b[0m\u001b[1;33m)\u001b[0m\u001b[1;33m)\u001b[0m\u001b[1;33m\u001b[0m\u001b[0m\n\u001b[0m\u001b[1;32m     21\u001b[0m \u001b[1;33m\u001b[0m\u001b[0m\n\u001b[1;32m     22\u001b[0m         \u001b[1;31m# fix the range and offset\u001b[0m\u001b[1;33m\u001b[0m\u001b[1;33m\u001b[0m\u001b[0m\n",
      "\u001b[0;31mValueError\u001b[0m: cannot reshape array of size 131072 into shape (256,256)"
     ]
    }
   ],
   "source": [
    "bbox=(np.min(X4, axis=0), np.max(X4, axis=0))\n",
    "\n",
    "graph_surface(tflr4.eval_data, bbox, offset=0.5)\n",
    "# graph the data points\n",
    "graph_data(X4, Y4_, Y4_p1, special=[])\n",
    "# show the plot\n",
    "plt.show()"
   ]
  },
  {
   "cell_type": "code",
   "execution_count": 712,
   "metadata": {},
   "outputs": [
    {
     "name": "stdout",
     "output_type": "stream",
     "text": [
      "195.96638\n",
      "170.39005\n",
      "167.42699\n",
      "172.7617\n",
      "169.70222\n",
      "169.66304\n",
      "173.32486\n",
      "170.65659\n",
      "164.50014\n",
      "175.6533\n",
      "173.17134\n",
      "176.30084\n",
      "172.61447\n",
      "169.25067\n",
      "174.32152\n",
      "166.83986\n",
      "171.21971\n",
      "164.60123\n",
      "167.5725\n",
      "172.35571\n",
      "INFO:tensorflow:Restoring parameters from ./tfdeep_lab1.ckpt\n"
     ]
    }
   ],
   "source": [
    "tflr5 = TFDeep(structure=[2,10, 2],batch_flag=False)\n",
    "    \n",
    "#nauči parametre:\n",
    "tflr5.train(X4, Y4oh_,  10000)\n",
    "    \n",
    "#dohvati vjerojatnosti na skupu za učenje\n",
    "probs5 = tflr5.eval_data(X4)"
   ]
  },
  {
   "cell_type": "code",
   "execution_count": 713,
   "metadata": {},
   "outputs": [
    {
     "name": "stdout",
     "output_type": "stream",
     "text": [
      "Accuracy  0.75\n",
      "Precision  [(1.0, 0.75), (0.0, nan)]\n",
      "Confusion matrix [[120   0]\n",
      " [ 40   0]]\n"
     ]
    },
    {
     "name": "stderr",
     "output_type": "stream",
     "text": [
      "c:\\users\\branko\\anaconda3\\lib\\site-packages\\ipykernel\\__main__.py:11: RuntimeWarning: invalid value encountered in longlong_scalars\n"
     ]
    }
   ],
   "source": [
    "Y4_p2=np.argmax(probs5,axis=1)\n",
    "Y4_=convert_Y(Y4)\n",
    "accuracy, pr, M = eval_perf_multi(Y4_p2, Y4_)\n",
    "print(\"Accuracy \", accuracy)\n",
    "print(\"Precision \", pr)\n",
    "print(\"Confusion matrix\", M)"
   ]
  },
  {
   "cell_type": "code",
   "execution_count": 714,
   "metadata": {},
   "outputs": [
    {
     "name": "stdout",
     "output_type": "stream",
     "text": [
      "INFO:tensorflow:Restoring parameters from ./tfdeep_lab1.ckpt\n"
     ]
    },
    {
     "ename": "ValueError",
     "evalue": "cannot reshape array of size 131072 into shape (256,256)",
     "output_type": "error",
     "traceback": [
      "\u001b[0;31m---------------------------------------------------------------------------\u001b[0m",
      "\u001b[0;31mValueError\u001b[0m                                Traceback (most recent call last)",
      "\u001b[0;32m<ipython-input-714-93f4a0d05b02>\u001b[0m in \u001b[0;36m<module>\u001b[0;34m()\u001b[0m\n\u001b[1;32m      1\u001b[0m \u001b[0mbbox\u001b[0m\u001b[1;33m=\u001b[0m\u001b[1;33m(\u001b[0m\u001b[0mnp\u001b[0m\u001b[1;33m.\u001b[0m\u001b[0mmin\u001b[0m\u001b[1;33m(\u001b[0m\u001b[0mX4\u001b[0m\u001b[1;33m,\u001b[0m \u001b[0maxis\u001b[0m\u001b[1;33m=\u001b[0m\u001b[1;36m0\u001b[0m\u001b[1;33m)\u001b[0m\u001b[1;33m,\u001b[0m \u001b[0mnp\u001b[0m\u001b[1;33m.\u001b[0m\u001b[0mmax\u001b[0m\u001b[1;33m(\u001b[0m\u001b[0mX4\u001b[0m\u001b[1;33m,\u001b[0m \u001b[0maxis\u001b[0m\u001b[1;33m=\u001b[0m\u001b[1;36m0\u001b[0m\u001b[1;33m)\u001b[0m\u001b[1;33m)\u001b[0m\u001b[1;33m\u001b[0m\u001b[0m\n\u001b[1;32m      2\u001b[0m \u001b[1;33m\u001b[0m\u001b[0m\n\u001b[0;32m----> 3\u001b[0;31m \u001b[0mgraph_surface\u001b[0m\u001b[1;33m(\u001b[0m\u001b[0mtflr5\u001b[0m\u001b[1;33m.\u001b[0m\u001b[0meval_data\u001b[0m\u001b[1;33m,\u001b[0m \u001b[0mbbox\u001b[0m\u001b[1;33m,\u001b[0m \u001b[0moffset\u001b[0m\u001b[1;33m=\u001b[0m\u001b[1;36m0.5\u001b[0m\u001b[1;33m)\u001b[0m\u001b[1;33m\u001b[0m\u001b[0m\n\u001b[0m\u001b[1;32m      4\u001b[0m \u001b[1;31m# graph the data points\u001b[0m\u001b[1;33m\u001b[0m\u001b[1;33m\u001b[0m\u001b[0m\n\u001b[1;32m      5\u001b[0m \u001b[0mgraph_data\u001b[0m\u001b[1;33m(\u001b[0m\u001b[0mX4\u001b[0m\u001b[1;33m,\u001b[0m \u001b[0mY4_\u001b[0m\u001b[1;33m,\u001b[0m \u001b[0mY4_p2\u001b[0m\u001b[1;33m,\u001b[0m \u001b[0mspecial\u001b[0m\u001b[1;33m=\u001b[0m\u001b[1;33m[\u001b[0m\u001b[1;33m]\u001b[0m\u001b[1;33m)\u001b[0m\u001b[1;33m\u001b[0m\u001b[0m\n",
      "\u001b[0;32m<ipython-input-473-740003a50c39>\u001b[0m in \u001b[0;36mgraph_surface\u001b[0;34m(function, rect, offset, width, height)\u001b[0m\n\u001b[1;32m     18\u001b[0m \u001b[1;33m\u001b[0m\u001b[0m\n\u001b[1;32m     19\u001b[0m         \u001b[1;31m#get the values and reshape them\u001b[0m\u001b[1;33m\u001b[0m\u001b[1;33m\u001b[0m\u001b[0m\n\u001b[0;32m---> 20\u001b[0;31m         \u001b[0mvalues\u001b[0m\u001b[1;33m=\u001b[0m\u001b[0mfunction\u001b[0m\u001b[1;33m(\u001b[0m\u001b[0mgrid\u001b[0m\u001b[1;33m)\u001b[0m\u001b[1;33m.\u001b[0m\u001b[0mreshape\u001b[0m\u001b[1;33m(\u001b[0m\u001b[1;33m(\u001b[0m\u001b[0mwidth\u001b[0m\u001b[1;33m,\u001b[0m\u001b[0mheight\u001b[0m\u001b[1;33m)\u001b[0m\u001b[1;33m)\u001b[0m\u001b[1;33m\u001b[0m\u001b[0m\n\u001b[0m\u001b[1;32m     21\u001b[0m \u001b[1;33m\u001b[0m\u001b[0m\n\u001b[1;32m     22\u001b[0m         \u001b[1;31m# fix the range and offset\u001b[0m\u001b[1;33m\u001b[0m\u001b[1;33m\u001b[0m\u001b[0m\n",
      "\u001b[0;31mValueError\u001b[0m: cannot reshape array of size 131072 into shape (256,256)"
     ]
    }
   ],
   "source": [
    "bbox=(np.min(X4, axis=0), np.max(X4, axis=0))\n",
    "\n",
    "graph_surface(tflr5.eval_data, bbox, offset=0.5)\n",
    "# graph the data points\n",
    "graph_data(X4, Y4_, Y4_p2, special=[])\n",
    "# show the plot\n",
    "plt.show()"
   ]
  },
  {
   "cell_type": "code",
   "execution_count": 715,
   "metadata": {},
   "outputs": [
    {
     "name": "stdout",
     "output_type": "stream",
     "text": [
      "279.07986\n",
      "180.0064\n",
      "180.03716\n",
      "178.73329\n",
      "178.21332\n",
      "178.2232\n",
      "178.21675\n",
      "178.22502\n",
      "178.21037\n",
      "179.38321\n",
      "179.95456\n",
      "179.4298\n",
      "179.94865\n",
      "178.80457\n",
      "179.39827\n",
      "179.02599\n",
      "179.3887\n",
      "178.84625\n",
      "179.454\n",
      "178.78964\n",
      "INFO:tensorflow:Restoring parameters from ./tfdeep_lab1.ckpt\n"
     ]
    }
   ],
   "source": [
    "tflr6 = TFDeep(structure=[2,10,10, 2],batch_flag=False)\n",
    "    \n",
    "#nauči parametre:\n",
    "tflr6.train(X4, Y4oh_,  10000)\n",
    "    \n",
    "#dohvati vjerojatnosti na skupu za učenje\n",
    "probs6 = tflr6.eval_data(X4)"
   ]
  },
  {
   "cell_type": "code",
   "execution_count": 716,
   "metadata": {},
   "outputs": [
    {
     "name": "stdout",
     "output_type": "stream",
     "text": [
      "Accuracy  0.25\n",
      "Precision  [(0.0, nan), (1.0, 0.25)]\n",
      "Confusion matrix [[  0 120]\n",
      " [  0  40]]\n"
     ]
    },
    {
     "name": "stderr",
     "output_type": "stream",
     "text": [
      "c:\\users\\branko\\anaconda3\\lib\\site-packages\\ipykernel\\__main__.py:11: RuntimeWarning: invalid value encountered in longlong_scalars\n"
     ]
    }
   ],
   "source": [
    "Y4_p3=np.argmax(probs6,axis=1)\n",
    "Y4_=convert_Y(Y4)\n",
    "accuracy, pr, M = eval_perf_multi(Y4_p3, Y4_)\n",
    "print(\"Accuracy \", accuracy)\n",
    "print(\"Precision \", pr)\n",
    "print(\"Confusion matrix\", M)"
   ]
  },
  {
   "cell_type": "code",
   "execution_count": 717,
   "metadata": {},
   "outputs": [
    {
     "name": "stdout",
     "output_type": "stream",
     "text": [
      "INFO:tensorflow:Restoring parameters from ./tfdeep_lab1.ckpt\n"
     ]
    },
    {
     "ename": "ValueError",
     "evalue": "cannot reshape array of size 131072 into shape (256,256)",
     "output_type": "error",
     "traceback": [
      "\u001b[0;31m---------------------------------------------------------------------------\u001b[0m",
      "\u001b[0;31mValueError\u001b[0m                                Traceback (most recent call last)",
      "\u001b[0;32m<ipython-input-717-409d1083b8d7>\u001b[0m in \u001b[0;36m<module>\u001b[0;34m()\u001b[0m\n\u001b[1;32m      1\u001b[0m \u001b[0mbbox\u001b[0m\u001b[1;33m=\u001b[0m\u001b[1;33m(\u001b[0m\u001b[0mnp\u001b[0m\u001b[1;33m.\u001b[0m\u001b[0mmin\u001b[0m\u001b[1;33m(\u001b[0m\u001b[0mX4\u001b[0m\u001b[1;33m,\u001b[0m \u001b[0maxis\u001b[0m\u001b[1;33m=\u001b[0m\u001b[1;36m0\u001b[0m\u001b[1;33m)\u001b[0m\u001b[1;33m,\u001b[0m \u001b[0mnp\u001b[0m\u001b[1;33m.\u001b[0m\u001b[0mmax\u001b[0m\u001b[1;33m(\u001b[0m\u001b[0mX4\u001b[0m\u001b[1;33m,\u001b[0m \u001b[0maxis\u001b[0m\u001b[1;33m=\u001b[0m\u001b[1;36m0\u001b[0m\u001b[1;33m)\u001b[0m\u001b[1;33m)\u001b[0m\u001b[1;33m\u001b[0m\u001b[0m\n\u001b[1;32m      2\u001b[0m \u001b[1;33m\u001b[0m\u001b[0m\n\u001b[0;32m----> 3\u001b[0;31m \u001b[0mgraph_surface\u001b[0m\u001b[1;33m(\u001b[0m\u001b[0mtflr6\u001b[0m\u001b[1;33m.\u001b[0m\u001b[0meval_data\u001b[0m\u001b[1;33m,\u001b[0m \u001b[0mbbox\u001b[0m\u001b[1;33m,\u001b[0m \u001b[0moffset\u001b[0m\u001b[1;33m=\u001b[0m\u001b[1;36m0.5\u001b[0m\u001b[1;33m)\u001b[0m\u001b[1;33m\u001b[0m\u001b[0m\n\u001b[0m\u001b[1;32m      4\u001b[0m \u001b[1;31m# graph the data points\u001b[0m\u001b[1;33m\u001b[0m\u001b[1;33m\u001b[0m\u001b[0m\n\u001b[1;32m      5\u001b[0m \u001b[0mgraph_data\u001b[0m\u001b[1;33m(\u001b[0m\u001b[0mX4\u001b[0m\u001b[1;33m,\u001b[0m \u001b[0mY4_\u001b[0m\u001b[1;33m,\u001b[0m \u001b[0mY4_p3\u001b[0m\u001b[1;33m,\u001b[0m \u001b[0mspecial\u001b[0m\u001b[1;33m=\u001b[0m\u001b[1;33m[\u001b[0m\u001b[1;33m]\u001b[0m\u001b[1;33m)\u001b[0m\u001b[1;33m\u001b[0m\u001b[0m\n",
      "\u001b[0;32m<ipython-input-473-740003a50c39>\u001b[0m in \u001b[0;36mgraph_surface\u001b[0;34m(function, rect, offset, width, height)\u001b[0m\n\u001b[1;32m     18\u001b[0m \u001b[1;33m\u001b[0m\u001b[0m\n\u001b[1;32m     19\u001b[0m         \u001b[1;31m#get the values and reshape them\u001b[0m\u001b[1;33m\u001b[0m\u001b[1;33m\u001b[0m\u001b[0m\n\u001b[0;32m---> 20\u001b[0;31m         \u001b[0mvalues\u001b[0m\u001b[1;33m=\u001b[0m\u001b[0mfunction\u001b[0m\u001b[1;33m(\u001b[0m\u001b[0mgrid\u001b[0m\u001b[1;33m)\u001b[0m\u001b[1;33m.\u001b[0m\u001b[0mreshape\u001b[0m\u001b[1;33m(\u001b[0m\u001b[1;33m(\u001b[0m\u001b[0mwidth\u001b[0m\u001b[1;33m,\u001b[0m\u001b[0mheight\u001b[0m\u001b[1;33m)\u001b[0m\u001b[1;33m)\u001b[0m\u001b[1;33m\u001b[0m\u001b[0m\n\u001b[0m\u001b[1;32m     21\u001b[0m \u001b[1;33m\u001b[0m\u001b[0m\n\u001b[1;32m     22\u001b[0m         \u001b[1;31m# fix the range and offset\u001b[0m\u001b[1;33m\u001b[0m\u001b[1;33m\u001b[0m\u001b[0m\n",
      "\u001b[0;31mValueError\u001b[0m: cannot reshape array of size 131072 into shape (256,256)"
     ]
    }
   ],
   "source": [
    "bbox=(np.min(X4, axis=0), np.max(X4, axis=0))\n",
    "\n",
    "graph_surface(tflr6.eval_data, bbox, offset=0.5)\n",
    "# graph the data points\n",
    "graph_data(X4, Y4_, Y4_p3, special=[])\n",
    "# show the plot\n",
    "plt.show()"
   ]
  },
  {
   "cell_type": "code",
   "execution_count": 718,
   "metadata": {},
   "outputs": [
    {
     "name": "stdout",
     "output_type": "stream",
     "text": [
      "91.196014\n",
      "75.52538\n",
      "73.63226\n",
      "73.99201\n",
      "74.04766\n",
      "74.9229\n",
      "75.013794\n",
      "73.72432\n",
      "74.10146\n",
      "76.6194\n",
      "74.97995\n",
      "71.953636\n",
      "78.56569\n",
      "76.60039\n",
      "74.03473\n",
      "74.38808\n",
      "73.77125\n",
      "71.921745\n",
      "73.688835\n",
      "74.26497\n",
      "INFO:tensorflow:Restoring parameters from ./tfdeep_lab1.ckpt\n"
     ]
    }
   ],
   "source": [
    "tflr7 = TFDeep(structure=[2, 2],batch_flag=False)\n",
    "    \n",
    "#nauči parametre:\n",
    "tflr7.train(X5, Y5oh_,  10000)\n",
    "    \n",
    "#dohvati vjerojatnosti na skupu za učenje\n",
    "probs7 = tflr7.eval_data(X5)"
   ]
  },
  {
   "cell_type": "code",
   "execution_count": 719,
   "metadata": {},
   "outputs": [
    {
     "name": "stdout",
     "output_type": "stream",
     "text": [
      "Accuracy  0.6666666666666666\n",
      "Precision  [(1.0, 0.6666666666666666), (0.0, nan)]\n",
      "Confusion matrix [[40  0]\n",
      " [20  0]]\n"
     ]
    },
    {
     "name": "stderr",
     "output_type": "stream",
     "text": [
      "c:\\users\\branko\\anaconda3\\lib\\site-packages\\ipykernel\\__main__.py:11: RuntimeWarning: invalid value encountered in longlong_scalars\n"
     ]
    }
   ],
   "source": [
    "Y5_p1=np.argmax(probs7,axis=1)\n",
    "Y5_=convert_Y(Y5)\n",
    "accuracy, pr, M = eval_perf_multi(Y5_p1, Y5_)\n",
    "print(\"Accuracy \", accuracy)\n",
    "print(\"Precision \", pr)\n",
    "print(\"Confusion matrix\", M)"
   ]
  },
  {
   "cell_type": "code",
   "execution_count": 720,
   "metadata": {},
   "outputs": [
    {
     "name": "stdout",
     "output_type": "stream",
     "text": [
      "INFO:tensorflow:Restoring parameters from ./tfdeep_lab1.ckpt\n"
     ]
    },
    {
     "ename": "ValueError",
     "evalue": "cannot reshape array of size 131072 into shape (256,256)",
     "output_type": "error",
     "traceback": [
      "\u001b[0;31m---------------------------------------------------------------------------\u001b[0m",
      "\u001b[0;31mValueError\u001b[0m                                Traceback (most recent call last)",
      "\u001b[0;32m<ipython-input-720-2c91828b9eff>\u001b[0m in \u001b[0;36m<module>\u001b[0;34m()\u001b[0m\n\u001b[1;32m      1\u001b[0m \u001b[0mbbox\u001b[0m\u001b[1;33m=\u001b[0m\u001b[1;33m(\u001b[0m\u001b[0mnp\u001b[0m\u001b[1;33m.\u001b[0m\u001b[0mmin\u001b[0m\u001b[1;33m(\u001b[0m\u001b[0mX5\u001b[0m\u001b[1;33m,\u001b[0m \u001b[0maxis\u001b[0m\u001b[1;33m=\u001b[0m\u001b[1;36m0\u001b[0m\u001b[1;33m)\u001b[0m\u001b[1;33m,\u001b[0m \u001b[0mnp\u001b[0m\u001b[1;33m.\u001b[0m\u001b[0mmax\u001b[0m\u001b[1;33m(\u001b[0m\u001b[0mX5\u001b[0m\u001b[1;33m,\u001b[0m \u001b[0maxis\u001b[0m\u001b[1;33m=\u001b[0m\u001b[1;36m0\u001b[0m\u001b[1;33m)\u001b[0m\u001b[1;33m)\u001b[0m\u001b[1;33m\u001b[0m\u001b[0m\n\u001b[1;32m      2\u001b[0m \u001b[1;33m\u001b[0m\u001b[0m\n\u001b[0;32m----> 3\u001b[0;31m \u001b[0mgraph_surface\u001b[0m\u001b[1;33m(\u001b[0m\u001b[0mtflr7\u001b[0m\u001b[1;33m.\u001b[0m\u001b[0meval_data\u001b[0m\u001b[1;33m,\u001b[0m \u001b[0mbbox\u001b[0m\u001b[1;33m,\u001b[0m \u001b[0moffset\u001b[0m\u001b[1;33m=\u001b[0m\u001b[1;36m0.5\u001b[0m\u001b[1;33m)\u001b[0m\u001b[1;33m\u001b[0m\u001b[0m\n\u001b[0m\u001b[1;32m      4\u001b[0m \u001b[1;31m# graph the data points\u001b[0m\u001b[1;33m\u001b[0m\u001b[1;33m\u001b[0m\u001b[0m\n\u001b[1;32m      5\u001b[0m \u001b[0mgraph_data\u001b[0m\u001b[1;33m(\u001b[0m\u001b[0mX5\u001b[0m\u001b[1;33m,\u001b[0m \u001b[0mY5_\u001b[0m\u001b[1;33m,\u001b[0m \u001b[0mY5_p1\u001b[0m\u001b[1;33m,\u001b[0m \u001b[0mspecial\u001b[0m\u001b[1;33m=\u001b[0m\u001b[1;33m[\u001b[0m\u001b[1;33m]\u001b[0m\u001b[1;33m)\u001b[0m\u001b[1;33m\u001b[0m\u001b[0m\n",
      "\u001b[0;32m<ipython-input-473-740003a50c39>\u001b[0m in \u001b[0;36mgraph_surface\u001b[0;34m(function, rect, offset, width, height)\u001b[0m\n\u001b[1;32m     18\u001b[0m \u001b[1;33m\u001b[0m\u001b[0m\n\u001b[1;32m     19\u001b[0m         \u001b[1;31m#get the values and reshape them\u001b[0m\u001b[1;33m\u001b[0m\u001b[1;33m\u001b[0m\u001b[0m\n\u001b[0;32m---> 20\u001b[0;31m         \u001b[0mvalues\u001b[0m\u001b[1;33m=\u001b[0m\u001b[0mfunction\u001b[0m\u001b[1;33m(\u001b[0m\u001b[0mgrid\u001b[0m\u001b[1;33m)\u001b[0m\u001b[1;33m.\u001b[0m\u001b[0mreshape\u001b[0m\u001b[1;33m(\u001b[0m\u001b[1;33m(\u001b[0m\u001b[0mwidth\u001b[0m\u001b[1;33m,\u001b[0m\u001b[0mheight\u001b[0m\u001b[1;33m)\u001b[0m\u001b[1;33m)\u001b[0m\u001b[1;33m\u001b[0m\u001b[0m\n\u001b[0m\u001b[1;32m     21\u001b[0m \u001b[1;33m\u001b[0m\u001b[0m\n\u001b[1;32m     22\u001b[0m         \u001b[1;31m# fix the range and offset\u001b[0m\u001b[1;33m\u001b[0m\u001b[1;33m\u001b[0m\u001b[0m\n",
      "\u001b[0;31mValueError\u001b[0m: cannot reshape array of size 131072 into shape (256,256)"
     ]
    }
   ],
   "source": [
    "bbox=(np.min(X5, axis=0), np.max(X5, axis=0))\n",
    "\n",
    "graph_surface(tflr7.eval_data, bbox, offset=0.5)\n",
    "# graph the data points\n",
    "graph_data(X5, Y5_, Y5_p1, special=[])\n",
    "# show the plot\n",
    "plt.show()"
   ]
  },
  {
   "cell_type": "code",
   "execution_count": 721,
   "metadata": {},
   "outputs": [
    {
     "name": "stdout",
     "output_type": "stream",
     "text": [
      "76.65528\n",
      "72.91181\n",
      "72.012375\n",
      "72.142624\n",
      "72.17133\n",
      "72.105865\n",
      "74.15917\n",
      "74.00387\n",
      "73.910805\n",
      "73.95922\n",
      "72.0513\n",
      "73.11926\n",
      "72.08944\n",
      "72.10098\n",
      "72.10867\n",
      "72.11694\n",
      "72.09784\n",
      "72.98639\n",
      "72.999054\n",
      "72.15315\n",
      "INFO:tensorflow:Restoring parameters from ./tfdeep_lab1.ckpt\n"
     ]
    }
   ],
   "source": [
    "tflr8 = TFDeep(structure=[2,10, 2],batch_flag=False)\n",
    "    \n",
    "#nauči parametre:\n",
    "tflr8.train(X5, Y5oh_,  10000)\n",
    "    \n",
    "#dohvati vjerojatnosti na skupu za učenje\n",
    "probs8 = tflr8.eval_data(X5)"
   ]
  },
  {
   "cell_type": "code",
   "execution_count": 722,
   "metadata": {},
   "outputs": [
    {
     "name": "stdout",
     "output_type": "stream",
     "text": [
      "Accuracy  0.6666666666666666\n",
      "Precision  [(1.0, 0.6666666666666666), (0.0, nan)]\n",
      "Confusion matrix [[40  0]\n",
      " [20  0]]\n"
     ]
    },
    {
     "name": "stderr",
     "output_type": "stream",
     "text": [
      "c:\\users\\branko\\anaconda3\\lib\\site-packages\\ipykernel\\__main__.py:11: RuntimeWarning: invalid value encountered in longlong_scalars\n"
     ]
    }
   ],
   "source": [
    "Y5_p2=np.argmax(probs8,axis=1)\n",
    "Y5_=convert_Y(Y5)\n",
    "accuracy, pr, M = eval_perf_multi(Y5_p2, Y5_)\n",
    "print(\"Accuracy \", accuracy)\n",
    "print(\"Precision \", pr)\n",
    "print(\"Confusion matrix\", M)"
   ]
  },
  {
   "cell_type": "code",
   "execution_count": 723,
   "metadata": {},
   "outputs": [
    {
     "name": "stdout",
     "output_type": "stream",
     "text": [
      "INFO:tensorflow:Restoring parameters from ./tfdeep_lab1.ckpt\n"
     ]
    },
    {
     "ename": "ValueError",
     "evalue": "cannot reshape array of size 131072 into shape (256,256)",
     "output_type": "error",
     "traceback": [
      "\u001b[0;31m---------------------------------------------------------------------------\u001b[0m",
      "\u001b[0;31mValueError\u001b[0m                                Traceback (most recent call last)",
      "\u001b[0;32m<ipython-input-723-35c8c79eabd8>\u001b[0m in \u001b[0;36m<module>\u001b[0;34m()\u001b[0m\n\u001b[1;32m      1\u001b[0m \u001b[0mbbox\u001b[0m\u001b[1;33m=\u001b[0m\u001b[1;33m(\u001b[0m\u001b[0mnp\u001b[0m\u001b[1;33m.\u001b[0m\u001b[0mmin\u001b[0m\u001b[1;33m(\u001b[0m\u001b[0mX5\u001b[0m\u001b[1;33m,\u001b[0m \u001b[0maxis\u001b[0m\u001b[1;33m=\u001b[0m\u001b[1;36m0\u001b[0m\u001b[1;33m)\u001b[0m\u001b[1;33m,\u001b[0m \u001b[0mnp\u001b[0m\u001b[1;33m.\u001b[0m\u001b[0mmax\u001b[0m\u001b[1;33m(\u001b[0m\u001b[0mX5\u001b[0m\u001b[1;33m,\u001b[0m \u001b[0maxis\u001b[0m\u001b[1;33m=\u001b[0m\u001b[1;36m0\u001b[0m\u001b[1;33m)\u001b[0m\u001b[1;33m)\u001b[0m\u001b[1;33m\u001b[0m\u001b[0m\n\u001b[1;32m      2\u001b[0m \u001b[1;33m\u001b[0m\u001b[0m\n\u001b[0;32m----> 3\u001b[0;31m \u001b[0mgraph_surface\u001b[0m\u001b[1;33m(\u001b[0m\u001b[0mtflr8\u001b[0m\u001b[1;33m.\u001b[0m\u001b[0meval_data\u001b[0m\u001b[1;33m,\u001b[0m \u001b[0mbbox\u001b[0m\u001b[1;33m,\u001b[0m \u001b[0moffset\u001b[0m\u001b[1;33m=\u001b[0m\u001b[1;36m0.5\u001b[0m\u001b[1;33m)\u001b[0m\u001b[1;33m\u001b[0m\u001b[0m\n\u001b[0m\u001b[1;32m      4\u001b[0m \u001b[1;31m# graph the data points\u001b[0m\u001b[1;33m\u001b[0m\u001b[1;33m\u001b[0m\u001b[0m\n\u001b[1;32m      5\u001b[0m \u001b[0mgraph_data\u001b[0m\u001b[1;33m(\u001b[0m\u001b[0mX5\u001b[0m\u001b[1;33m,\u001b[0m \u001b[0mY5_\u001b[0m\u001b[1;33m,\u001b[0m \u001b[0mY5_p2\u001b[0m\u001b[1;33m,\u001b[0m \u001b[0mspecial\u001b[0m\u001b[1;33m=\u001b[0m\u001b[1;33m[\u001b[0m\u001b[1;33m]\u001b[0m\u001b[1;33m)\u001b[0m\u001b[1;33m\u001b[0m\u001b[0m\n",
      "\u001b[0;32m<ipython-input-473-740003a50c39>\u001b[0m in \u001b[0;36mgraph_surface\u001b[0;34m(function, rect, offset, width, height)\u001b[0m\n\u001b[1;32m     18\u001b[0m \u001b[1;33m\u001b[0m\u001b[0m\n\u001b[1;32m     19\u001b[0m         \u001b[1;31m#get the values and reshape them\u001b[0m\u001b[1;33m\u001b[0m\u001b[1;33m\u001b[0m\u001b[0m\n\u001b[0;32m---> 20\u001b[0;31m         \u001b[0mvalues\u001b[0m\u001b[1;33m=\u001b[0m\u001b[0mfunction\u001b[0m\u001b[1;33m(\u001b[0m\u001b[0mgrid\u001b[0m\u001b[1;33m)\u001b[0m\u001b[1;33m.\u001b[0m\u001b[0mreshape\u001b[0m\u001b[1;33m(\u001b[0m\u001b[1;33m(\u001b[0m\u001b[0mwidth\u001b[0m\u001b[1;33m,\u001b[0m\u001b[0mheight\u001b[0m\u001b[1;33m)\u001b[0m\u001b[1;33m)\u001b[0m\u001b[1;33m\u001b[0m\u001b[0m\n\u001b[0m\u001b[1;32m     21\u001b[0m \u001b[1;33m\u001b[0m\u001b[0m\n\u001b[1;32m     22\u001b[0m         \u001b[1;31m# fix the range and offset\u001b[0m\u001b[1;33m\u001b[0m\u001b[1;33m\u001b[0m\u001b[0m\n",
      "\u001b[0;31mValueError\u001b[0m: cannot reshape array of size 131072 into shape (256,256)"
     ]
    }
   ],
   "source": [
    "bbox=(np.min(X5, axis=0), np.max(X5, axis=0))\n",
    "\n",
    "graph_surface(tflr8.eval_data, bbox, offset=0.5)\n",
    "# graph the data points\n",
    "graph_data(X5, Y5_, Y5_p2, special=[])\n",
    "# show the plot\n",
    "plt.show()"
   ]
  },
  {
   "cell_type": "code",
   "execution_count": 724,
   "metadata": {},
   "outputs": [
    {
     "name": "stdout",
     "output_type": "stream",
     "text": [
      "86.20916\n",
      "67.90765\n",
      "71.71705\n",
      "71.34013\n",
      "74.15024\n",
      "66.96494\n",
      "69.98154\n",
      "70.52085\n",
      "72.48677\n",
      "73.84083\n",
      "75.83741\n",
      "77.04521\n",
      "73.27078\n",
      "69.61742\n",
      "67.95859\n",
      "71.233696\n",
      "62.411083\n",
      "65.20692\n",
      "76.53388\n",
      "68.78145\n",
      "INFO:tensorflow:Restoring parameters from ./tfdeep_lab1.ckpt\n"
     ]
    }
   ],
   "source": [
    "tflr9 = TFDeep(structure=[2,10,10, 2],batch_flag=False)\n",
    "    \n",
    "#nauči parametre:\n",
    "tflr9.train(X5, Y5oh_,  10000)\n",
    "    \n",
    "#dohvati vjerojatnosti na skupu za učenje\n",
    "probs9 = tflr9.eval_data(X5)"
   ]
  },
  {
   "cell_type": "code",
   "execution_count": 725,
   "metadata": {},
   "outputs": [
    {
     "name": "stdout",
     "output_type": "stream",
     "text": [
      "Accuracy  0.6666666666666666\n",
      "Precision  [(1.0, 0.6666666666666666), (0.0, nan)]\n",
      "Confusion matrix [[40  0]\n",
      " [20  0]]\n"
     ]
    },
    {
     "name": "stderr",
     "output_type": "stream",
     "text": [
      "c:\\users\\branko\\anaconda3\\lib\\site-packages\\ipykernel\\__main__.py:11: RuntimeWarning: invalid value encountered in longlong_scalars\n"
     ]
    }
   ],
   "source": [
    "Y5_p3=np.argmax(probs9,axis=1)\n",
    "Y5_=convert_Y(Y5)\n",
    "accuracy, pr, M = eval_perf_multi(Y5_p3, Y5_)\n",
    "print(\"Accuracy \", accuracy)\n",
    "print(\"Precision \", pr)\n",
    "print(\"Confusion matrix\", M)"
   ]
  },
  {
   "cell_type": "code",
   "execution_count": 726,
   "metadata": {},
   "outputs": [
    {
     "name": "stdout",
     "output_type": "stream",
     "text": [
      "INFO:tensorflow:Restoring parameters from ./tfdeep_lab1.ckpt\n"
     ]
    },
    {
     "ename": "ValueError",
     "evalue": "cannot reshape array of size 131072 into shape (256,256)",
     "output_type": "error",
     "traceback": [
      "\u001b[0;31m---------------------------------------------------------------------------\u001b[0m",
      "\u001b[0;31mValueError\u001b[0m                                Traceback (most recent call last)",
      "\u001b[0;32m<ipython-input-726-df66de1ec3ce>\u001b[0m in \u001b[0;36m<module>\u001b[0;34m()\u001b[0m\n\u001b[1;32m      1\u001b[0m \u001b[0mbbox\u001b[0m\u001b[1;33m=\u001b[0m\u001b[1;33m(\u001b[0m\u001b[0mnp\u001b[0m\u001b[1;33m.\u001b[0m\u001b[0mmin\u001b[0m\u001b[1;33m(\u001b[0m\u001b[0mX5\u001b[0m\u001b[1;33m,\u001b[0m \u001b[0maxis\u001b[0m\u001b[1;33m=\u001b[0m\u001b[1;36m0\u001b[0m\u001b[1;33m)\u001b[0m\u001b[1;33m,\u001b[0m \u001b[0mnp\u001b[0m\u001b[1;33m.\u001b[0m\u001b[0mmax\u001b[0m\u001b[1;33m(\u001b[0m\u001b[0mX5\u001b[0m\u001b[1;33m,\u001b[0m \u001b[0maxis\u001b[0m\u001b[1;33m=\u001b[0m\u001b[1;36m0\u001b[0m\u001b[1;33m)\u001b[0m\u001b[1;33m)\u001b[0m\u001b[1;33m\u001b[0m\u001b[0m\n\u001b[1;32m      2\u001b[0m \u001b[1;33m\u001b[0m\u001b[0m\n\u001b[0;32m----> 3\u001b[0;31m \u001b[0mgraph_surface\u001b[0m\u001b[1;33m(\u001b[0m\u001b[0mtflr9\u001b[0m\u001b[1;33m.\u001b[0m\u001b[0meval_data\u001b[0m\u001b[1;33m,\u001b[0m \u001b[0mbbox\u001b[0m\u001b[1;33m,\u001b[0m \u001b[0moffset\u001b[0m\u001b[1;33m=\u001b[0m\u001b[1;36m0.5\u001b[0m\u001b[1;33m)\u001b[0m\u001b[1;33m\u001b[0m\u001b[0m\n\u001b[0m\u001b[1;32m      4\u001b[0m \u001b[1;31m# graph the data points\u001b[0m\u001b[1;33m\u001b[0m\u001b[1;33m\u001b[0m\u001b[0m\n\u001b[1;32m      5\u001b[0m \u001b[0mgraph_data\u001b[0m\u001b[1;33m(\u001b[0m\u001b[0mX5\u001b[0m\u001b[1;33m,\u001b[0m \u001b[0mY5_\u001b[0m\u001b[1;33m,\u001b[0m \u001b[0mY5_p3\u001b[0m\u001b[1;33m,\u001b[0m \u001b[0mspecial\u001b[0m\u001b[1;33m=\u001b[0m\u001b[1;33m[\u001b[0m\u001b[1;33m]\u001b[0m\u001b[1;33m)\u001b[0m\u001b[1;33m\u001b[0m\u001b[0m\n",
      "\u001b[0;32m<ipython-input-473-740003a50c39>\u001b[0m in \u001b[0;36mgraph_surface\u001b[0;34m(function, rect, offset, width, height)\u001b[0m\n\u001b[1;32m     18\u001b[0m \u001b[1;33m\u001b[0m\u001b[0m\n\u001b[1;32m     19\u001b[0m         \u001b[1;31m#get the values and reshape them\u001b[0m\u001b[1;33m\u001b[0m\u001b[1;33m\u001b[0m\u001b[0m\n\u001b[0;32m---> 20\u001b[0;31m         \u001b[0mvalues\u001b[0m\u001b[1;33m=\u001b[0m\u001b[0mfunction\u001b[0m\u001b[1;33m(\u001b[0m\u001b[0mgrid\u001b[0m\u001b[1;33m)\u001b[0m\u001b[1;33m.\u001b[0m\u001b[0mreshape\u001b[0m\u001b[1;33m(\u001b[0m\u001b[1;33m(\u001b[0m\u001b[0mwidth\u001b[0m\u001b[1;33m,\u001b[0m\u001b[0mheight\u001b[0m\u001b[1;33m)\u001b[0m\u001b[1;33m)\u001b[0m\u001b[1;33m\u001b[0m\u001b[0m\n\u001b[0m\u001b[1;32m     21\u001b[0m \u001b[1;33m\u001b[0m\u001b[0m\n\u001b[1;32m     22\u001b[0m         \u001b[1;31m# fix the range and offset\u001b[0m\u001b[1;33m\u001b[0m\u001b[1;33m\u001b[0m\u001b[0m\n",
      "\u001b[0;31mValueError\u001b[0m: cannot reshape array of size 131072 into shape (256,256)"
     ]
    }
   ],
   "source": [
    "bbox=(np.min(X5, axis=0), np.max(X5, axis=0))\n",
    "\n",
    "graph_surface(tflr9.eval_data, bbox, offset=0.5)\n",
    "# graph the data points\n",
    "graph_data(X5, Y5_, Y5_p3, special=[])\n",
    "# show the plot\n",
    "plt.show()"
   ]
  },
  {
   "cell_type": "code",
   "execution_count": 62,
   "metadata": {},
   "outputs": [],
   "source": [
    "class KSVMWrap:\n",
    "    def __init__(self, X, Y_, param_svm_c = 1, param_svm_gamma='auto', kernel_flag = 'rbf'):\n",
    "        \"\"\"Arguments:\n",
    "            X - podatci\n",
    "            Y_ - točni indeksi razreda\n",
    "            param_svm_c: relativni značaj podatkovne cijene\n",
    "            param_svm_gamma : širirna RBF jezgre\n",
    "        \"\"\"\n",
    "        self.svm = SVC(C = param_svm_c, gamma = param_svm_gamma, decision_function_shape='ovo',kernel =kernel_flag )\n",
    "        self.svm = self.svm.fit(X, Y_)\n",
    "    \n",
    "    def predict(self, X):\n",
    "        return self.svm.predict(X)\n",
    "    \n",
    "    def get_scores(self, X, Y_):\n",
    "        return eval_perf_multi(self.predict(X), Y_)\n",
    "    \n",
    "    def svm_vect(self):\n",
    "        return self.svm.support_\n"
   ]
  },
  {
   "cell_type": "code",
   "execution_count": 52,
   "metadata": {},
   "outputs": [
    {
     "name": "stdout",
     "output_type": "stream",
     "text": [
      "[0 1 2 3]\n"
     ]
    }
   ],
   "source": [
    "svm_X1 , svm_Y1 = my_sample_gmm_2d(2,9,2)\n",
    "\n",
    "svm_clas = KSVMWrap(svm_X1 , svm_Y1)\n",
    "\n",
    "print(svm_clas.svm_vect())"
   ]
  },
  {
   "cell_type": "code",
   "execution_count": 53,
   "metadata": {},
   "outputs": [
    {
     "name": "stdout",
     "output_type": "stream",
     "text": [
      "[5 5 8 8]\n",
      "[5 5 8 8]\n",
      "Accuracy  1.0\n",
      "Precision  [(nan, nan), (nan, nan), (nan, nan), (nan, nan), (nan, nan), (1.0, 1.0), (nan, nan), (nan, nan), (1.0, 1.0)]\n",
      "Confusion matrix [[0 0 0 0 0 0 0 0 0]\n",
      " [0 0 0 0 0 0 0 0 0]\n",
      " [0 0 0 0 0 0 0 0 0]\n",
      " [0 0 0 0 0 0 0 0 0]\n",
      " [0 0 0 0 0 0 0 0 0]\n",
      " [0 0 0 0 0 2 0 0 0]\n",
      " [0 0 0 0 0 0 0 0 0]\n",
      " [0 0 0 0 0 0 0 0 0]\n",
      " [0 0 0 0 0 0 0 0 2]]\n"
     ]
    },
    {
     "name": "stderr",
     "output_type": "stream",
     "text": [
      "c:\\users\\branko\\anaconda3\\lib\\site-packages\\ipykernel\\__main__.py:10: RuntimeWarning: invalid value encountered in longlong_scalars\n",
      "c:\\users\\branko\\anaconda3\\lib\\site-packages\\ipykernel\\__main__.py:11: RuntimeWarning: invalid value encountered in longlong_scalars\n",
      "c:\\users\\branko\\anaconda3\\lib\\site-packages\\matplotlib\\contour.py:1180: UserWarning: No contour levels were found within the data range.\n",
      "  warnings.warn(\"No contour levels were found\"\n"
     ]
    },
    {
     "data": {
      "image/png": "[encoded data removed]",
      "text/plain": [
       "<matplotlib.figure.Figure at 0x1e6500fd860>"
      ]
     },
     "metadata": {},
     "output_type": "display_data"
    }
   ],
   "source": [
    "print(svm_clas.predict(svm_X1))\n",
    "print(svm_Y1)\n",
    "accuracy, pr, M = svm_clas.get_scores(svm_X1 , svm_Y1)#eval_perf_multi(svm_clas.predict(svm_X1), svm_Y1)\n",
    "print(\"Accuracy \", accuracy)\n",
    "print(\"Precision \", pr)\n",
    "print(\"Confusion matrix\", M)\n",
    "\n",
    "bbox=(np.min(svm_X1, axis=0), np.max(svm_X1, axis=0))\n",
    "\n",
    "graph_surface(svm_clas.predict, bbox, offset=0.5)\n",
    "# graph the data points\n",
    "graph_data(svm_X1, svm_Y1, svm_clas.predict(svm_X1), special=svm_clas.svm_vect())\n",
    "# show the plot\n",
    "plt.show()"
   ]
  },
  {
   "cell_type": "code",
   "execution_count": 54,
   "metadata": {},
   "outputs": [
    {
     "name": "stderr",
     "output_type": "stream",
     "text": [
      "c:\\users\\branko\\anaconda3\\lib\\site-packages\\ipykernel\\__main__.py:10: RuntimeWarning: invalid value encountered in longlong_scalars\n",
      "c:\\users\\branko\\anaconda3\\lib\\site-packages\\ipykernel\\__main__.py:11: RuntimeWarning: invalid value encountered in longlong_scalars\n",
      "c:\\users\\branko\\anaconda3\\lib\\site-packages\\matplotlib\\contour.py:1180: UserWarning: No contour levels were found within the data range.\n",
      "  warnings.warn(\"No contour levels were found\"\n"
     ]
    },
    {
     "name": "stdout",
     "output_type": "stream",
     "text": [
      "Accuracy  0.1388888888888889\n",
      "Precision  [(nan, nan), (nan, nan), (nan, nan), (0.0, nan), (0.0, nan), (0.6666666666666666, 0.25), (0.0, nan), (0.0, nan), (0.16666666666666666, 0.05)]\n",
      "Confusion matrix [[0 0 0 0 0 0 0 0 0]\n",
      " [0 0 0 0 0 0 0 0 0]\n",
      " [0 0 0 0 0 0 0 0 0]\n",
      " [0 0 0 0 0 0 0 0 6]\n",
      " [0 0 0 0 0 4 0 0 2]\n",
      " [0 0 0 0 0 4 0 0 2]\n",
      " [0 0 0 0 0 1 0 0 5]\n",
      " [0 0 0 0 0 2 0 0 4]\n",
      " [0 0 0 0 0 5 0 0 1]]\n"
     ]
    },
    {
     "data": {
      "image/png": "[encoded data removed]",
      "text/plain": [
       "<matplotlib.figure.Figure at 0x1e667645ac8>"
      ]
     },
     "metadata": {},
     "output_type": "display_data"
    }
   ],
   "source": [
    "svm_X2 , svm_Y2 = my_sample_gmm_2d(6,9,6)\n",
    "\n",
    "svm_clas1 = KSVMWrap(svm_X2 , svm_Y2)\n",
    "\n",
    "\n",
    "accuracy, pr, M = svm_clas.get_scores(svm_X2 , svm_Y2)#eval_perf_multi(svm_clas.predict(svm_X1), svm_Y1)\n",
    "print(\"Accuracy \", accuracy)\n",
    "print(\"Precision \", pr)\n",
    "print(\"Confusion matrix\", M)\n",
    "\n",
    "bbox=(np.min(svm_X2, axis=0), np.max(svm_X2, axis=0))\n",
    "\n",
    "graph_surface(svm_clas1.predict, bbox, offset=0.5)\n",
    "# graph the data points\n",
    "graph_data(svm_X2, svm_Y2, svm_clas1.predict(svm_X2), special=svm_clas1.svm_vect())\n",
    "# show the plot\n",
    "plt.show()"
   ]
  },
  {
   "cell_type": "code",
   "execution_count": 55,
   "metadata": {},
   "outputs": [
    {
     "name": "stdout",
     "output_type": "stream",
     "text": [
      "Extracting /tmp/data/train-images-idx3-ubyte.gz\n",
      "Extracting /tmp/data/train-labels-idx1-ubyte.gz\n",
      "Extracting /tmp/data/t10k-images-idx3-ubyte.gz\n",
      "Extracting /tmp/data/t10k-labels-idx1-ubyte.gz\n",
      "Extracting /tmp/data/train-images-idx3-ubyte.gz\n",
      "Extracting /tmp/data/train-labels-idx1-ubyte.gz\n",
      "Extracting /tmp/data/t10k-images-idx3-ubyte.gz\n",
      "Extracting /tmp/data/t10k-labels-idx1-ubyte.gz\n"
     ]
    }
   ],
   "source": [
    "import tensorflow as tf\n",
    "from tensorflow.examples.tutorials.mnist import input_data\n",
    "\n",
    "mnist = input_data.read_data_sets(\"/tmp/data/\", one_hot = True)\n",
    "mnist2 = input_data.read_data_sets(\"/tmp/data/\", one_hot = False)"
   ]
  },
  {
   "cell_type": "code",
   "execution_count": 29,
   "metadata": {},
   "outputs": [
    {
     "data": {
      "image/png": "[encoded data removed]",
      "text/plain": [
       "<matplotlib.figure.Figure at 0x1e65b586748>"
      ]
     },
     "metadata": {},
     "output_type": "display_data"
    }
   ],
   "source": [
    "plt.imshow(mnist.train.images[15].reshape(28,28), cmap = plt.get_cmap('gray'), vmin = 0 , vmax = 1)\n",
    "plt.show()\n"
   ]
  },
  {
   "cell_type": "code",
   "execution_count": 433,
   "metadata": {},
   "outputs": [
    {
     "name": "stdout",
     "output_type": "stream",
     "text": [
      "482200.47\n",
      "178712.27\n",
      "178709.52\n",
      "INFO:tensorflow:Restoring parameters from ./tfdeep_lab1.ckpt\n"
     ]
    }
   ],
   "source": [
    "from sklearn.metrics import accuracy_score\n",
    "tf.reset_default_graph()\n",
    "\n",
    "dp_network  = TFDeep(structure=[784, 10])\n",
    "dp_network.train(mnist.train.images, mnist.train.labels, 1001)\n",
    "results = dp_network.eval_data(mnist.test.images)\n",
    "\n"
   ]
  },
  {
   "cell_type": "code",
   "execution_count": 434,
   "metadata": {},
   "outputs": [
    {
     "name": "stdout",
     "output_type": "stream",
     "text": [
      "[[0.11436323 0.04869591 0.08155151 0.11823608 0.10587371 0.14488983\n",
      "  0.08196177 0.08545974 0.14199817 0.07697004]\n",
      " [0.1105601  0.05801322 0.09254739 0.10203248 0.10028712 0.17423433\n",
      "  0.08165255 0.09401918 0.10915918 0.07749449]]\n",
      "[5 5]\n",
      "Accuracy is  0.0894\n"
     ]
    }
   ],
   "source": [
    "print(results[1:3])\n",
    "print(np.argmax(results[1:3], axis=1))\n",
    "y_pred = np.argmax(results, axis=1)\n",
    "# y_pred = [ np.where(r==1)[0][0] for r in results ]\n",
    "y_test = [ np.where(r==1)[0][0] for r in mnist.test.labels ]\n",
    "print(\"Accuracy is \", accuracy_score(y_pred, y_test))"
   ]
  },
  {
   "cell_type": "code",
   "execution_count": 74,
   "metadata": {},
   "outputs": [
    {
     "ename": "UnknownError",
     "evalue": "Failed to rename: ./tfdeep_lab1.ckpt.data-00000-of-00001.tempstate15831777396972764335 to: ./tfdeep_lab1.ckpt.data-00000-of-00001 : Access is denied.\r\n; Input/output error\n\t [[Node: save/SaveV2 = SaveV2[dtypes=[DT_FLOAT, DT_FLOAT, DT_FLOAT, DT_FLOAT], _device=\"/job:localhost/replica:0/task:0/device:CPU:0\"](_arg_save/Const_0_0, save/SaveV2/tensor_names, save/SaveV2/shape_and_slices, hidden1/biases/_7, hidden1/weights/_9, output/biases/_11, output/weights/_13)]]\n\nCaused by op 'save/SaveV2', defined at:\n  File \"c:\\users\\branko\\anaconda3\\lib\\runpy.py\", line 193, in _run_module_as_main\n    \"__main__\", mod_spec)\n  File \"c:\\users\\branko\\anaconda3\\lib\\runpy.py\", line 85, in _run_code\n    exec(code, run_globals)\n  File \"c:\\users\\branko\\anaconda3\\lib\\site-packages\\ipykernel\\__main__.py\", line 3, in <module>\n    app.launch_new_instance()\n  File \"c:\\users\\branko\\anaconda3\\lib\\site-packages\\traitlets\\config\\application.py\", line 658, in launch_instance\n    app.start()\n  File \"c:\\users\\branko\\anaconda3\\lib\\site-packages\\ipykernel\\kernelapp.py\", line 474, in start\n    ioloop.IOLoop.instance().start()\n  File \"c:\\users\\branko\\anaconda3\\lib\\site-packages\\zmq\\eventloop\\ioloop.py\", line 177, in start\n    super(ZMQIOLoop, self).start()\n  File \"c:\\users\\branko\\anaconda3\\lib\\site-packages\\tornado\\ioloop.py\", line 887, in start\n    handler_func(fd_obj, events)\n  File \"c:\\users\\branko\\anaconda3\\lib\\site-packages\\tornado\\stack_context.py\", line 275, in null_wrapper\n    return fn(*args, **kwargs)\n  File \"c:\\users\\branko\\anaconda3\\lib\\site-packages\\zmq\\eventloop\\zmqstream.py\", line 440, in _handle_events\n    self._handle_recv()\n  File \"c:\\users\\branko\\anaconda3\\lib\\site-packages\\zmq\\eventloop\\zmqstream.py\", line 472, in _handle_recv\n    self._run_callback(callback, msg)\n  File \"c:\\users\\branko\\anaconda3\\lib\\site-packages\\zmq\\eventloop\\zmqstream.py\", line 414, in _run_callback\n    callback(*args, **kwargs)\n  File \"c:\\users\\branko\\anaconda3\\lib\\site-packages\\tornado\\stack_context.py\", line 275, in null_wrapper\n    return fn(*args, **kwargs)\n  File \"c:\\users\\branko\\anaconda3\\lib\\site-packages\\ipykernel\\kernelbase.py\", line 276, in dispatcher\n    return self.dispatch_shell(stream, msg)\n  File \"c:\\users\\branko\\anaconda3\\lib\\site-packages\\ipykernel\\kernelbase.py\", line 228, in dispatch_shell\n    handler(stream, idents, msg)\n  File \"c:\\users\\branko\\anaconda3\\lib\\site-packages\\ipykernel\\kernelbase.py\", line 390, in execute_request\n    user_expressions, allow_stdin)\n  File \"c:\\users\\branko\\anaconda3\\lib\\site-packages\\ipykernel\\ipkernel.py\", line 196, in do_execute\n    res = shell.run_cell(code, store_history=store_history, silent=silent)\n  File \"c:\\users\\branko\\anaconda3\\lib\\site-packages\\ipykernel\\zmqshell.py\", line 501, in run_cell\n    return super(ZMQInteractiveShell, self).run_cell(*args, **kwargs)\n  File \"c:\\users\\branko\\anaconda3\\lib\\site-packages\\IPython\\core\\interactiveshell.py\", line 2717, in run_cell\n    interactivity=interactivity, compiler=compiler, result=result)\n  File \"c:\\users\\branko\\anaconda3\\lib\\site-packages\\IPython\\core\\interactiveshell.py\", line 2821, in run_ast_nodes\n    if self.run_code(code, result):\n  File \"c:\\users\\branko\\anaconda3\\lib\\site-packages\\IPython\\core\\interactiveshell.py\", line 2881, in run_code\n    exec(code_obj, self.user_global_ns, self.user_ns)\n  File \"<ipython-input-74-6c45548b22dd>\", line 3, in <module>\n    dp_network  = TFDeep([784, 10])\n  File \"<ipython-input-70-4ef5d9c457be>\", line 59, in __init__\n    self.saver = tf.train.Saver()\n  File \"c:\\users\\branko\\anaconda3\\lib\\site-packages\\tensorflow\\python\\training\\saver.py\", line 1218, in __init__\n    self.build()\n  File \"c:\\users\\branko\\anaconda3\\lib\\site-packages\\tensorflow\\python\\training\\saver.py\", line 1227, in build\n    self._build(self._filename, build_save=True, build_restore=True)\n  File \"c:\\users\\branko\\anaconda3\\lib\\site-packages\\tensorflow\\python\\training\\saver.py\", line 1263, in _build\n    build_save=build_save, build_restore=build_restore)\n  File \"c:\\users\\branko\\anaconda3\\lib\\site-packages\\tensorflow\\python\\training\\saver.py\", line 748, in _build_internal\n    save_tensor = self._AddSaveOps(filename_tensor, saveables)\n  File \"c:\\users\\branko\\anaconda3\\lib\\site-packages\\tensorflow\\python\\training\\saver.py\", line 296, in _AddSaveOps\n    save = self.save_op(filename_tensor, saveables)\n  File \"c:\\users\\branko\\anaconda3\\lib\\site-packages\\tensorflow\\python\\training\\saver.py\", line 239, in save_op\n    tensors)\n  File \"c:\\users\\branko\\anaconda3\\lib\\site-packages\\tensorflow\\python\\ops\\gen_io_ops.py\", line 1162, in save_v2\n    shape_and_slices=shape_and_slices, tensors=tensors, name=name)\n  File \"c:\\users\\branko\\anaconda3\\lib\\site-packages\\tensorflow\\python\\framework\\op_def_library.py\", line 787, in _apply_op_helper\n    op_def=op_def)\n  File \"c:\\users\\branko\\anaconda3\\lib\\site-packages\\tensorflow\\python\\framework\\ops.py\", line 2956, in create_op\n    op_def=op_def)\n  File \"c:\\users\\branko\\anaconda3\\lib\\site-packages\\tensorflow\\python\\framework\\ops.py\", line 1470, in __init__\n    self._traceback = self._graph._extract_stack()  # pylint: disable=protected-access\n\nUnknownError (see above for traceback): Failed to rename: ./tfdeep_lab1.ckpt.data-00000-of-00001.tempstate15831777396972764335 to: ./tfdeep_lab1.ckpt.data-00000-of-00001 : Access is denied.\r\n; Input/output error\n\t [[Node: save/SaveV2 = SaveV2[dtypes=[DT_FLOAT, DT_FLOAT, DT_FLOAT, DT_FLOAT], _device=\"/job:localhost/replica:0/task:0/device:CPU:0\"](_arg_save/Const_0_0, save/SaveV2/tensor_names, save/SaveV2/shape_and_slices, hidden1/biases/_7, hidden1/weights/_9, output/biases/_11, output/weights/_13)]]\n",
     "output_type": "error",
     "traceback": [
      "\u001b[0;31m---------------------------------------------------------------------------\u001b[0m",
      "\u001b[0;31mUnknownError\u001b[0m                              Traceback (most recent call last)",
      "\u001b[0;32mc:\\users\\branko\\anaconda3\\lib\\site-packages\\tensorflow\\python\\client\\session.py\u001b[0m in \u001b[0;36m_do_call\u001b[0;34m(self, fn, *args)\u001b[0m\n\u001b[1;32m   1322\u001b[0m     \u001b[1;32mtry\u001b[0m\u001b[1;33m:\u001b[0m\u001b[1;33m\u001b[0m\u001b[0m\n\u001b[0;32m-> 1323\u001b[0;31m       \u001b[1;32mreturn\u001b[0m \u001b[0mfn\u001b[0m\u001b[1;33m(\u001b[0m\u001b[1;33m*\u001b[0m\u001b[0margs\u001b[0m\u001b[1;33m)\u001b[0m\u001b[1;33m\u001b[0m\u001b[0m\n\u001b[0m\u001b[1;32m   1324\u001b[0m     \u001b[1;32mexcept\u001b[0m \u001b[0merrors\u001b[0m\u001b[1;33m.\u001b[0m\u001b[0mOpError\u001b[0m \u001b[1;32mas\u001b[0m \u001b[0me\u001b[0m\u001b[1;33m:\u001b[0m\u001b[1;33m\u001b[0m\u001b[0m\n",
      "\u001b[0;32mc:\\users\\branko\\anaconda3\\lib\\site-packages\\tensorflow\\python\\client\\session.py\u001b[0m in \u001b[0;36m_run_fn\u001b[0;34m(session, feed_dict, fetch_list, target_list, options, run_metadata)\u001b[0m\n\u001b[1;32m   1301\u001b[0m                                    \u001b[0mfeed_dict\u001b[0m\u001b[1;33m,\u001b[0m \u001b[0mfetch_list\u001b[0m\u001b[1;33m,\u001b[0m \u001b[0mtarget_list\u001b[0m\u001b[1;33m,\u001b[0m\u001b[1;33m\u001b[0m\u001b[0m\n\u001b[0;32m-> 1302\u001b[0;31m                                    status, run_metadata)\n\u001b[0m\u001b[1;32m   1303\u001b[0m \u001b[1;33m\u001b[0m\u001b[0m\n",
      "\u001b[0;32mc:\\users\\branko\\anaconda3\\lib\\site-packages\\tensorflow\\python\\framework\\errors_impl.py\u001b[0m in \u001b[0;36m__exit__\u001b[0;34m(self, type_arg, value_arg, traceback_arg)\u001b[0m\n\u001b[1;32m    472\u001b[0m             \u001b[0mcompat\u001b[0m\u001b[1;33m.\u001b[0m\u001b[0mas_text\u001b[0m\u001b[1;33m(\u001b[0m\u001b[0mc_api\u001b[0m\u001b[1;33m.\u001b[0m\u001b[0mTF_Message\u001b[0m\u001b[1;33m(\u001b[0m\u001b[0mself\u001b[0m\u001b[1;33m.\u001b[0m\u001b[0mstatus\u001b[0m\u001b[1;33m.\u001b[0m\u001b[0mstatus\u001b[0m\u001b[1;33m)\u001b[0m\u001b[1;33m)\u001b[0m\u001b[1;33m,\u001b[0m\u001b[1;33m\u001b[0m\u001b[0m\n\u001b[0;32m--> 473\u001b[0;31m             c_api.TF_GetCode(self.status.status))\n\u001b[0m\u001b[1;32m    474\u001b[0m     \u001b[1;31m# Delete the underlying status object from memory otherwise it stays alive\u001b[0m\u001b[1;33m\u001b[0m\u001b[1;33m\u001b[0m\u001b[0m\n",
      "\u001b[0;31mUnknownError\u001b[0m: Failed to rename: ./tfdeep_lab1.ckpt.data-00000-of-00001.tempstate15831777396972764335 to: ./tfdeep_lab1.ckpt.data-00000-of-00001 : Access is denied.\r\n; Input/output error\n\t [[Node: save/SaveV2 = SaveV2[dtypes=[DT_FLOAT, DT_FLOAT, DT_FLOAT, DT_FLOAT], _device=\"/job:localhost/replica:0/task:0/device:CPU:0\"](_arg_save/Const_0_0, save/SaveV2/tensor_names, save/SaveV2/shape_and_slices, hidden1/biases/_7, hidden1/weights/_9, output/biases/_11, output/weights/_13)]]",
      "\nDuring handling of the above exception, another exception occurred:\n",
      "\u001b[0;31mUnknownError\u001b[0m                              Traceback (most recent call last)",
      "\u001b[0;32m<ipython-input-74-6c45548b22dd>\u001b[0m in \u001b[0;36m<module>\u001b[0;34m()\u001b[0m\n\u001b[1;32m      2\u001b[0m \u001b[0mtf\u001b[0m\u001b[1;33m.\u001b[0m\u001b[0mreset_default_graph\u001b[0m\u001b[1;33m(\u001b[0m\u001b[1;33m)\u001b[0m\u001b[1;33m\u001b[0m\u001b[0m\n\u001b[1;32m      3\u001b[0m \u001b[0mdp_network\u001b[0m  \u001b[1;33m=\u001b[0m \u001b[0mTFDeep\u001b[0m\u001b[1;33m(\u001b[0m\u001b[1;33m[\u001b[0m\u001b[1;36m784\u001b[0m\u001b[1;33m,\u001b[0m \u001b[1;36m10\u001b[0m\u001b[1;33m]\u001b[0m\u001b[1;33m)\u001b[0m\u001b[1;33m\u001b[0m\u001b[0m\n\u001b[0;32m----> 4\u001b[0;31m \u001b[0mvs_weights\u001b[0m \u001b[1;33m=\u001b[0m \u001b[0mdp_network\u001b[0m\u001b[1;33m.\u001b[0m\u001b[0mtrain\u001b[0m\u001b[1;33m(\u001b[0m\u001b[0mmnist\u001b[0m\u001b[1;33m.\u001b[0m\u001b[0mtrain\u001b[0m\u001b[1;33m.\u001b[0m\u001b[0mimages\u001b[0m\u001b[1;33m,\u001b[0m \u001b[0mmnist\u001b[0m\u001b[1;33m.\u001b[0m\u001b[0mtrain\u001b[0m\u001b[1;33m.\u001b[0m\u001b[0mlabels\u001b[0m\u001b[1;33m,\u001b[0m \u001b[1;36m10001\u001b[0m\u001b[1;33m)\u001b[0m\u001b[1;33m\u001b[0m\u001b[0m\n\u001b[0m\u001b[1;32m      5\u001b[0m \u001b[0my_pred\u001b[0m \u001b[1;33m=\u001b[0m \u001b[0mdp_network\u001b[0m\u001b[1;33m.\u001b[0m\u001b[0mclass_data\u001b[0m\u001b[1;33m(\u001b[0m\u001b[0mmnist\u001b[0m\u001b[1;33m.\u001b[0m\u001b[0mtest\u001b[0m\u001b[1;33m.\u001b[0m\u001b[0mimages\u001b[0m\u001b[1;33m)\u001b[0m\u001b[1;33m\u001b[0m\u001b[0m\n\u001b[1;32m      6\u001b[0m \u001b[0my_test\u001b[0m \u001b[1;33m=\u001b[0m \u001b[1;33m[\u001b[0m \u001b[0mnp\u001b[0m\u001b[1;33m.\u001b[0m\u001b[0mwhere\u001b[0m\u001b[1;33m(\u001b[0m\u001b[0mr\u001b[0m\u001b[1;33m==\u001b[0m\u001b[1;36m1\u001b[0m\u001b[1;33m)\u001b[0m\u001b[1;33m[\u001b[0m\u001b[1;36m0\u001b[0m\u001b[1;33m]\u001b[0m\u001b[1;33m[\u001b[0m\u001b[1;36m0\u001b[0m\u001b[1;33m]\u001b[0m \u001b[1;32mfor\u001b[0m \u001b[0mr\u001b[0m \u001b[1;32min\u001b[0m \u001b[0mmnist\u001b[0m\u001b[1;33m.\u001b[0m\u001b[0mtest\u001b[0m\u001b[1;33m.\u001b[0m\u001b[0mlabels\u001b[0m \u001b[1;33m]\u001b[0m\u001b[1;33m\u001b[0m\u001b[0m\n",
      "\u001b[0;32m<ipython-input-70-4ef5d9c457be>\u001b[0m in \u001b[0;36mtrain\u001b[0;34m(self, X, Yoh_, param_niter)\u001b[0m\n\u001b[1;32m     88\u001b[0m                 \u001b[0mtrain\u001b[0m\u001b[1;33m,\u001b[0m \u001b[0mloss\u001b[0m\u001b[1;33m=\u001b[0m \u001b[0msess\u001b[0m\u001b[1;33m.\u001b[0m\u001b[0mrun\u001b[0m\u001b[1;33m(\u001b[0m\u001b[1;33m[\u001b[0m\u001b[0mself\u001b[0m\u001b[1;33m.\u001b[0m\u001b[0mtrain_step\u001b[0m\u001b[1;33m,\u001b[0m \u001b[0mself\u001b[0m\u001b[1;33m.\u001b[0m\u001b[0mloss\u001b[0m \u001b[1;33m]\u001b[0m\u001b[1;33m,\u001b[0m \u001b[0mfeed_dict\u001b[0m\u001b[1;33m=\u001b[0m\u001b[1;33m{\u001b[0m\u001b[0mself\u001b[0m\u001b[1;33m.\u001b[0m\u001b[0mX\u001b[0m\u001b[1;33m:\u001b[0m \u001b[0mX\u001b[0m\u001b[1;33m,\u001b[0m \u001b[0mself\u001b[0m\u001b[1;33m.\u001b[0m\u001b[0mY_\u001b[0m\u001b[1;33m:\u001b[0m \u001b[0mYoh_\u001b[0m\u001b[1;33m,\u001b[0m \u001b[0mself\u001b[0m\u001b[1;33m.\u001b[0m\u001b[0mis_training\u001b[0m\u001b[1;33m:\u001b[0m \u001b[1;32mTrue\u001b[0m\u001b[1;33m}\u001b[0m\u001b[1;33m)\u001b[0m\u001b[1;33m\u001b[0m\u001b[0m\n\u001b[1;32m     89\u001b[0m                 \u001b[1;32mif\u001b[0m \u001b[0mi\u001b[0m \u001b[1;33m%\u001b[0m \u001b[1;36m500\u001b[0m \u001b[1;33m==\u001b[0m \u001b[1;36m0\u001b[0m\u001b[1;33m:\u001b[0m\u001b[1;33m\u001b[0m\u001b[0m\n\u001b[0;32m---> 90\u001b[0;31m                     \u001b[0msave_path\u001b[0m \u001b[1;33m=\u001b[0m \u001b[0mself\u001b[0m\u001b[1;33m.\u001b[0m\u001b[0msaver\u001b[0m\u001b[1;33m.\u001b[0m\u001b[0msave\u001b[0m\u001b[1;33m(\u001b[0m\u001b[0msess\u001b[0m\u001b[1;33m,\u001b[0m \u001b[1;34m\"./tfdeep_lab1.ckpt\"\u001b[0m\u001b[1;33m)\u001b[0m\u001b[1;33m\u001b[0m\u001b[0m\n\u001b[0m\u001b[1;32m     91\u001b[0m                     \u001b[0mprint\u001b[0m\u001b[1;33m(\u001b[0m\u001b[0mloss\u001b[0m\u001b[1;33m)\u001b[0m\u001b[1;33m\u001b[0m\u001b[0m\n\u001b[1;32m     92\u001b[0m             \u001b[1;32mdef\u001b[0m \u001b[0mget_var\u001b[0m\u001b[1;33m(\u001b[0m\u001b[0mname\u001b[0m\u001b[1;33m)\u001b[0m\u001b[1;33m:\u001b[0m\u001b[1;33m\u001b[0m\u001b[0m\n",
      "\u001b[0;32mc:\\users\\branko\\anaconda3\\lib\\site-packages\\tensorflow\\python\\training\\saver.py\u001b[0m in \u001b[0;36msave\u001b[0;34m(self, sess, save_path, global_step, latest_filename, meta_graph_suffix, write_meta_graph, write_state)\u001b[0m\n\u001b[1;32m   1571\u001b[0m           model_checkpoint_path = sess.run(\n\u001b[1;32m   1572\u001b[0m               \u001b[0mself\u001b[0m\u001b[1;33m.\u001b[0m\u001b[0msaver_def\u001b[0m\u001b[1;33m.\u001b[0m\u001b[0msave_tensor_name\u001b[0m\u001b[1;33m,\u001b[0m\u001b[1;33m\u001b[0m\u001b[0m\n\u001b[0;32m-> 1573\u001b[0;31m               {self.saver_def.filename_tensor_name: checkpoint_file})\n\u001b[0m\u001b[1;32m   1574\u001b[0m         \u001b[1;32melse\u001b[0m\u001b[1;33m:\u001b[0m\u001b[1;33m\u001b[0m\u001b[0m\n\u001b[1;32m   1575\u001b[0m           self._build_eager(\n",
      "\u001b[0;32mc:\\users\\branko\\anaconda3\\lib\\site-packages\\tensorflow\\python\\client\\session.py\u001b[0m in \u001b[0;36mrun\u001b[0;34m(self, fetches, feed_dict, options, run_metadata)\u001b[0m\n\u001b[1;32m    887\u001b[0m     \u001b[1;32mtry\u001b[0m\u001b[1;33m:\u001b[0m\u001b[1;33m\u001b[0m\u001b[0m\n\u001b[1;32m    888\u001b[0m       result = self._run(None, fetches, feed_dict, options_ptr,\n\u001b[0;32m--> 889\u001b[0;31m                          run_metadata_ptr)\n\u001b[0m\u001b[1;32m    890\u001b[0m       \u001b[1;32mif\u001b[0m \u001b[0mrun_metadata\u001b[0m\u001b[1;33m:\u001b[0m\u001b[1;33m\u001b[0m\u001b[0m\n\u001b[1;32m    891\u001b[0m         \u001b[0mproto_data\u001b[0m \u001b[1;33m=\u001b[0m \u001b[0mtf_session\u001b[0m\u001b[1;33m.\u001b[0m\u001b[0mTF_GetBuffer\u001b[0m\u001b[1;33m(\u001b[0m\u001b[0mrun_metadata_ptr\u001b[0m\u001b[1;33m)\u001b[0m\u001b[1;33m\u001b[0m\u001b[0m\n",
      "\u001b[0;32mc:\\users\\branko\\anaconda3\\lib\\site-packages\\tensorflow\\python\\client\\session.py\u001b[0m in \u001b[0;36m_run\u001b[0;34m(self, handle, fetches, feed_dict, options, run_metadata)\u001b[0m\n\u001b[1;32m   1118\u001b[0m     \u001b[1;32mif\u001b[0m \u001b[0mfinal_fetches\u001b[0m \u001b[1;32mor\u001b[0m \u001b[0mfinal_targets\u001b[0m \u001b[1;32mor\u001b[0m \u001b[1;33m(\u001b[0m\u001b[0mhandle\u001b[0m \u001b[1;32mand\u001b[0m \u001b[0mfeed_dict_tensor\u001b[0m\u001b[1;33m)\u001b[0m\u001b[1;33m:\u001b[0m\u001b[1;33m\u001b[0m\u001b[0m\n\u001b[1;32m   1119\u001b[0m       results = self._do_run(handle, final_targets, final_fetches,\n\u001b[0;32m-> 1120\u001b[0;31m                              feed_dict_tensor, options, run_metadata)\n\u001b[0m\u001b[1;32m   1121\u001b[0m     \u001b[1;32melse\u001b[0m\u001b[1;33m:\u001b[0m\u001b[1;33m\u001b[0m\u001b[0m\n\u001b[1;32m   1122\u001b[0m       \u001b[0mresults\u001b[0m \u001b[1;33m=\u001b[0m \u001b[1;33m[\u001b[0m\u001b[1;33m]\u001b[0m\u001b[1;33m\u001b[0m\u001b[0m\n",
      "\u001b[0;32mc:\\users\\branko\\anaconda3\\lib\\site-packages\\tensorflow\\python\\client\\session.py\u001b[0m in \u001b[0;36m_do_run\u001b[0;34m(self, handle, target_list, fetch_list, feed_dict, options, run_metadata)\u001b[0m\n\u001b[1;32m   1315\u001b[0m     \u001b[1;32mif\u001b[0m \u001b[0mhandle\u001b[0m \u001b[1;32mis\u001b[0m \u001b[1;32mNone\u001b[0m\u001b[1;33m:\u001b[0m\u001b[1;33m\u001b[0m\u001b[0m\n\u001b[1;32m   1316\u001b[0m       return self._do_call(_run_fn, self._session, feeds, fetches, targets,\n\u001b[0;32m-> 1317\u001b[0;31m                            options, run_metadata)\n\u001b[0m\u001b[1;32m   1318\u001b[0m     \u001b[1;32melse\u001b[0m\u001b[1;33m:\u001b[0m\u001b[1;33m\u001b[0m\u001b[0m\n\u001b[1;32m   1319\u001b[0m       \u001b[1;32mreturn\u001b[0m \u001b[0mself\u001b[0m\u001b[1;33m.\u001b[0m\u001b[0m_do_call\u001b[0m\u001b[1;33m(\u001b[0m\u001b[0m_prun_fn\u001b[0m\u001b[1;33m,\u001b[0m \u001b[0mself\u001b[0m\u001b[1;33m.\u001b[0m\u001b[0m_session\u001b[0m\u001b[1;33m,\u001b[0m \u001b[0mhandle\u001b[0m\u001b[1;33m,\u001b[0m \u001b[0mfeeds\u001b[0m\u001b[1;33m,\u001b[0m \u001b[0mfetches\u001b[0m\u001b[1;33m)\u001b[0m\u001b[1;33m\u001b[0m\u001b[0m\n",
      "\u001b[0;32mc:\\users\\branko\\anaconda3\\lib\\site-packages\\tensorflow\\python\\client\\session.py\u001b[0m in \u001b[0;36m_do_call\u001b[0;34m(self, fn, *args)\u001b[0m\n\u001b[1;32m   1334\u001b[0m         \u001b[1;32mexcept\u001b[0m \u001b[0mKeyError\u001b[0m\u001b[1;33m:\u001b[0m\u001b[1;33m\u001b[0m\u001b[0m\n\u001b[1;32m   1335\u001b[0m           \u001b[1;32mpass\u001b[0m\u001b[1;33m\u001b[0m\u001b[0m\n\u001b[0;32m-> 1336\u001b[0;31m       \u001b[1;32mraise\u001b[0m \u001b[0mtype\u001b[0m\u001b[1;33m(\u001b[0m\u001b[0me\u001b[0m\u001b[1;33m)\u001b[0m\u001b[1;33m(\u001b[0m\u001b[0mnode_def\u001b[0m\u001b[1;33m,\u001b[0m \u001b[0mop\u001b[0m\u001b[1;33m,\u001b[0m \u001b[0mmessage\u001b[0m\u001b[1;33m)\u001b[0m\u001b[1;33m\u001b[0m\u001b[0m\n\u001b[0m\u001b[1;32m   1337\u001b[0m \u001b[1;33m\u001b[0m\u001b[0m\n\u001b[1;32m   1338\u001b[0m   \u001b[1;32mdef\u001b[0m \u001b[0m_extend_graph\u001b[0m\u001b[1;33m(\u001b[0m\u001b[0mself\u001b[0m\u001b[1;33m)\u001b[0m\u001b[1;33m:\u001b[0m\u001b[1;33m\u001b[0m\u001b[0m\n",
      "\u001b[0;31mUnknownError\u001b[0m: Failed to rename: ./tfdeep_lab1.ckpt.data-00000-of-00001.tempstate15831777396972764335 to: ./tfdeep_lab1.ckpt.data-00000-of-00001 : Access is denied.\r\n; Input/output error\n\t [[Node: save/SaveV2 = SaveV2[dtypes=[DT_FLOAT, DT_FLOAT, DT_FLOAT, DT_FLOAT], _device=\"/job:localhost/replica:0/task:0/device:CPU:0\"](_arg_save/Const_0_0, save/SaveV2/tensor_names, save/SaveV2/shape_and_slices, hidden1/biases/_7, hidden1/weights/_9, output/biases/_11, output/weights/_13)]]\n\nCaused by op 'save/SaveV2', defined at:\n  File \"c:\\users\\branko\\anaconda3\\lib\\runpy.py\", line 193, in _run_module_as_main\n    \"__main__\", mod_spec)\n  File \"c:\\users\\branko\\anaconda3\\lib\\runpy.py\", line 85, in _run_code\n    exec(code, run_globals)\n  File \"c:\\users\\branko\\anaconda3\\lib\\site-packages\\ipykernel\\__main__.py\", line 3, in <module>\n    app.launch_new_instance()\n  File \"c:\\users\\branko\\anaconda3\\lib\\site-packages\\traitlets\\config\\application.py\", line 658, in launch_instance\n    app.start()\n  File \"c:\\users\\branko\\anaconda3\\lib\\site-packages\\ipykernel\\kernelapp.py\", line 474, in start\n    ioloop.IOLoop.instance().start()\n  File \"c:\\users\\branko\\anaconda3\\lib\\site-packages\\zmq\\eventloop\\ioloop.py\", line 177, in start\n    super(ZMQIOLoop, self).start()\n  File \"c:\\users\\branko\\anaconda3\\lib\\site-packages\\tornado\\ioloop.py\", line 887, in start\n    handler_func(fd_obj, events)\n  File \"c:\\users\\branko\\anaconda3\\lib\\site-packages\\tornado\\stack_context.py\", line 275, in null_wrapper\n    return fn(*args, **kwargs)\n  File \"c:\\users\\branko\\anaconda3\\lib\\site-packages\\zmq\\eventloop\\zmqstream.py\", line 440, in _handle_events\n    self._handle_recv()\n  File \"c:\\users\\branko\\anaconda3\\lib\\site-packages\\zmq\\eventloop\\zmqstream.py\", line 472, in _handle_recv\n    self._run_callback(callback, msg)\n  File \"c:\\users\\branko\\anaconda3\\lib\\site-packages\\zmq\\eventloop\\zmqstream.py\", line 414, in _run_callback\n    callback(*args, **kwargs)\n  File \"c:\\users\\branko\\anaconda3\\lib\\site-packages\\tornado\\stack_context.py\", line 275, in null_wrapper\n    return fn(*args, **kwargs)\n  File \"c:\\users\\branko\\anaconda3\\lib\\site-packages\\ipykernel\\kernelbase.py\", line 276, in dispatcher\n    return self.dispatch_shell(stream, msg)\n  File \"c:\\users\\branko\\anaconda3\\lib\\site-packages\\ipykernel\\kernelbase.py\", line 228, in dispatch_shell\n    handler(stream, idents, msg)\n  File \"c:\\users\\branko\\anaconda3\\lib\\site-packages\\ipykernel\\kernelbase.py\", line 390, in execute_request\n    user_expressions, allow_stdin)\n  File \"c:\\users\\branko\\anaconda3\\lib\\site-packages\\ipykernel\\ipkernel.py\", line 196, in do_execute\n    res = shell.run_cell(code, store_history=store_history, silent=silent)\n  File \"c:\\users\\branko\\anaconda3\\lib\\site-packages\\ipykernel\\zmqshell.py\", line 501, in run_cell\n    return super(ZMQInteractiveShell, self).run_cell(*args, **kwargs)\n  File \"c:\\users\\branko\\anaconda3\\lib\\site-packages\\IPython\\core\\interactiveshell.py\", line 2717, in run_cell\n    interactivity=interactivity, compiler=compiler, result=result)\n  File \"c:\\users\\branko\\anaconda3\\lib\\site-packages\\IPython\\core\\interactiveshell.py\", line 2821, in run_ast_nodes\n    if self.run_code(code, result):\n  File \"c:\\users\\branko\\anaconda3\\lib\\site-packages\\IPython\\core\\interactiveshell.py\", line 2881, in run_code\n    exec(code_obj, self.user_global_ns, self.user_ns)\n  File \"<ipython-input-74-6c45548b22dd>\", line 3, in <module>\n    dp_network  = TFDeep([784, 10])\n  File \"<ipython-input-70-4ef5d9c457be>\", line 59, in __init__\n    self.saver = tf.train.Saver()\n  File \"c:\\users\\branko\\anaconda3\\lib\\site-packages\\tensorflow\\python\\training\\saver.py\", line 1218, in __init__\n    self.build()\n  File \"c:\\users\\branko\\anaconda3\\lib\\site-packages\\tensorflow\\python\\training\\saver.py\", line 1227, in build\n    self._build(self._filename, build_save=True, build_restore=True)\n  File \"c:\\users\\branko\\anaconda3\\lib\\site-packages\\tensorflow\\python\\training\\saver.py\", line 1263, in _build\n    build_save=build_save, build_restore=build_restore)\n  File \"c:\\users\\branko\\anaconda3\\lib\\site-packages\\tensorflow\\python\\training\\saver.py\", line 748, in _build_internal\n    save_tensor = self._AddSaveOps(filename_tensor, saveables)\n  File \"c:\\users\\branko\\anaconda3\\lib\\site-packages\\tensorflow\\python\\training\\saver.py\", line 296, in _AddSaveOps\n    save = self.save_op(filename_tensor, saveables)\n  File \"c:\\users\\branko\\anaconda3\\lib\\site-packages\\tensorflow\\python\\training\\saver.py\", line 239, in save_op\n    tensors)\n  File \"c:\\users\\branko\\anaconda3\\lib\\site-packages\\tensorflow\\python\\ops\\gen_io_ops.py\", line 1162, in save_v2\n    shape_and_slices=shape_and_slices, tensors=tensors, name=name)\n  File \"c:\\users\\branko\\anaconda3\\lib\\site-packages\\tensorflow\\python\\framework\\op_def_library.py\", line 787, in _apply_op_helper\n    op_def=op_def)\n  File \"c:\\users\\branko\\anaconda3\\lib\\site-packages\\tensorflow\\python\\framework\\ops.py\", line 2956, in create_op\n    op_def=op_def)\n  File \"c:\\users\\branko\\anaconda3\\lib\\site-packages\\tensorflow\\python\\framework\\ops.py\", line 1470, in __init__\n    self._traceback = self._graph._extract_stack()  # pylint: disable=protected-access\n\nUnknownError (see above for traceback): Failed to rename: ./tfdeep_lab1.ckpt.data-00000-of-00001.tempstate15831777396972764335 to: ./tfdeep_lab1.ckpt.data-00000-of-00001 : Access is denied.\r\n; Input/output error\n\t [[Node: save/SaveV2 = SaveV2[dtypes=[DT_FLOAT, DT_FLOAT, DT_FLOAT, DT_FLOAT], _device=\"/job:localhost/replica:0/task:0/device:CPU:0\"](_arg_save/Const_0_0, save/SaveV2/tensor_names, save/SaveV2/shape_and_slices, hidden1/biases/_7, hidden1/weights/_9, output/biases/_11, output/weights/_13)]]\n"
     ]
    }
   ],
   "source": [
    "from sklearn.metrics import confusion_matrix\n",
    "tf.reset_default_graph()\n",
    "dp_network  = TFDeep([784, 10])\n",
    "dp_network.train(mnist.train.images, mnist.train.labels, 10001)\n",
    "y_pred = dp_network.class_data(mnist.test.images)\n",
    "y_test = [ np.where(r==1)[0][0] for r in mnist.test.labels ]\n",
    "\n",
    "print(\"Confusion matrix [784, 10 ]\\n\", confusion_matrix( y_test,y_pred))"
   ]
  },
  {
   "cell_type": "code",
   "execution_count": 441,
   "metadata": {},
   "outputs": [
    {
     "name": "stdout",
     "output_type": "stream",
     "text": [
      "379433.94\n",
      "178714.28\n",
      "178711.55\n",
      "INFO:tensorflow:Restoring parameters from ./tfdeep_lab1.ckpt\n",
      "Confusion matrix [784,100, 10 ]\n",
      " [[   0    0    0    0    0  980    0    0    0    0]\n",
      " [   0    0    0    0    0 1135    0    0    0    0]\n",
      " [   0    0    0    0    0 1032    0    0    0    0]\n",
      " [   0    0    0    0    0 1010    0    0    0    0]\n",
      " [   0    0    0    0    0  982    0    0    0    0]\n",
      " [   0    0    0    0    0  892    0    0    0    0]\n",
      " [   0    0    0    0    0  958    0    0    0    0]\n",
      " [   0    0    0    0    0 1028    0    0    0    0]\n",
      " [   0    0    0    0    0  974    0    0    0    0]\n",
      " [   0    0    0    0    0 1009    0    0    0    0]]\n"
     ]
    }
   ],
   "source": [
    "dp_network  = TFDeep([784,100, 10])\n",
    "dp_network.train(mnist.train.images, mnist.train.labels, 1001)\n",
    "y_pred = dp_network.class_data(mnist.test.images)\n",
    "y_test = [ np.where(r==1)[0][0] for r in mnist.test.labels ]\n",
    "\n",
    "print(\"Confusion matrix [784,100, 10 ]\\n\", confusion_matrix( y_test,y_pred))"
   ]
  },
  {
   "cell_type": "code",
   "execution_count": 442,
   "metadata": {},
   "outputs": [
    {
     "name": "stdout",
     "output_type": "stream",
     "text": [
      "460442.03\n",
      "178712.28\n",
      "178713.17\n",
      "INFO:tensorflow:Restoring parameters from ./tfdeep_lab1.ckpt\n",
      "Confusion matrix [784,100, 100, 10 ]\n",
      " [[   0    0    0    0    0    0  980    0    0    0]\n",
      " [   0    0    0    0    0    0 1135    0    0    0]\n",
      " [   0    0    0    0    0    0 1032    0    0    0]\n",
      " [   0    0    0    0    0    0 1010    0    0    0]\n",
      " [   0    0    0    0    0    0  982    0    0    0]\n",
      " [   0    0    0    0    0    0  892    0    0    0]\n",
      " [   0    0    0    0    0    0  958    0    0    0]\n",
      " [   0    0    0    0    0    0 1028    0    0    0]\n",
      " [   0    0    0    0    0    0  974    0    0    0]\n",
      " [   0    0    0    0    0    0 1009    0    0    0]]\n"
     ]
    }
   ],
   "source": [
    "dp_network  = TFDeep([784, 100,100,10])\n",
    "dp_network.train(mnist.train.images, mnist.train.labels, 1001)\n",
    "y_pred = dp_network.class_data(mnist.test.images)\n",
    "y_test = [ np.where(r==1)[0][0] for r in mnist.test.labels ]\n",
    "\n",
    "print(\"Confusion matrix [784,100, 100, 10 ]\\n\", confusion_matrix( y_test,y_pred))"
   ]
  },
  {
   "cell_type": "code",
   "execution_count": 443,
   "metadata": {},
   "outputs": [
    {
     "name": "stdout",
     "output_type": "stream",
     "text": [
      "423961.1\n",
      "178714.61\n",
      "178716.75\n",
      "INFO:tensorflow:Restoring parameters from ./tfdeep_lab1.ckpt\n"
     ]
    },
    {
     "ename": "ValueError",
     "evalue": "Classification metrics can't handle a mix of multilabel-indicator and continuous-multioutput targets",
     "output_type": "error",
     "traceback": [
      "\u001b[0;31m---------------------------------------------------------------------------\u001b[0m",
      "\u001b[0;31mValueError\u001b[0m                                Traceback (most recent call last)",
      "\u001b[0;32m<ipython-input-443-49cb15423a45>\u001b[0m in \u001b[0;36m<module>\u001b[0;34m()\u001b[0m\n\u001b[1;32m      2\u001b[0m \u001b[0mdp_network\u001b[0m\u001b[1;33m.\u001b[0m\u001b[0mtrain\u001b[0m\u001b[1;33m(\u001b[0m\u001b[0mmnist\u001b[0m\u001b[1;33m.\u001b[0m\u001b[0mtrain\u001b[0m\u001b[1;33m.\u001b[0m\u001b[0mimages\u001b[0m\u001b[1;33m,\u001b[0m \u001b[0mmnist\u001b[0m\u001b[1;33m.\u001b[0m\u001b[0mtrain\u001b[0m\u001b[1;33m.\u001b[0m\u001b[0mlabels\u001b[0m\u001b[1;33m,\u001b[0m \u001b[1;36m1001\u001b[0m\u001b[1;33m)\u001b[0m\u001b[1;33m\u001b[0m\u001b[0m\n\u001b[1;32m      3\u001b[0m \u001b[0mresults\u001b[0m \u001b[1;33m=\u001b[0m \u001b[0mdp_network\u001b[0m\u001b[1;33m.\u001b[0m\u001b[0meval_data\u001b[0m\u001b[1;33m(\u001b[0m\u001b[0mmnist\u001b[0m\u001b[1;33m.\u001b[0m\u001b[0mtest\u001b[0m\u001b[1;33m.\u001b[0m\u001b[0mimages\u001b[0m\u001b[1;33m)\u001b[0m\u001b[1;33m\u001b[0m\u001b[0m\n\u001b[0;32m----> 4\u001b[0;31m \u001b[0mprint\u001b[0m\u001b[1;33m(\u001b[0m\u001b[1;34m\"Confusion matrix [784, 100, 10 ]\\n\"\u001b[0m\u001b[1;33m,\u001b[0m \u001b[0mconfusion_matrix\u001b[0m\u001b[1;33m(\u001b[0m \u001b[0mmnist\u001b[0m\u001b[1;33m.\u001b[0m\u001b[0mtest\u001b[0m\u001b[1;33m.\u001b[0m\u001b[0mlabels\u001b[0m\u001b[1;33m,\u001b[0m\u001b[0mresults\u001b[0m\u001b[1;33m)\u001b[0m\u001b[1;33m)\u001b[0m\u001b[1;33m\u001b[0m\u001b[0m\n\u001b[0m\u001b[1;32m      5\u001b[0m \u001b[1;33m\u001b[0m\u001b[0m\n",
      "\u001b[0;32mc:\\users\\branko\\anaconda3\\lib\\site-packages\\sklearn\\metrics\\classification.py\u001b[0m in \u001b[0;36mconfusion_matrix\u001b[0;34m(y_true, y_pred, labels, sample_weight)\u001b[0m\n\u001b[1;32m    248\u001b[0m \u001b[1;33m\u001b[0m\u001b[0m\n\u001b[1;32m    249\u001b[0m     \"\"\"\n\u001b[0;32m--> 250\u001b[0;31m     \u001b[0my_type\u001b[0m\u001b[1;33m,\u001b[0m \u001b[0my_true\u001b[0m\u001b[1;33m,\u001b[0m \u001b[0my_pred\u001b[0m \u001b[1;33m=\u001b[0m \u001b[0m_check_targets\u001b[0m\u001b[1;33m(\u001b[0m\u001b[0my_true\u001b[0m\u001b[1;33m,\u001b[0m \u001b[0my_pred\u001b[0m\u001b[1;33m)\u001b[0m\u001b[1;33m\u001b[0m\u001b[0m\n\u001b[0m\u001b[1;32m    251\u001b[0m     \u001b[1;32mif\u001b[0m \u001b[0my_type\u001b[0m \u001b[1;32mnot\u001b[0m \u001b[1;32min\u001b[0m \u001b[1;33m(\u001b[0m\u001b[1;34m\"binary\"\u001b[0m\u001b[1;33m,\u001b[0m \u001b[1;34m\"multiclass\"\u001b[0m\u001b[1;33m)\u001b[0m\u001b[1;33m:\u001b[0m\u001b[1;33m\u001b[0m\u001b[0m\n\u001b[1;32m    252\u001b[0m         \u001b[1;32mraise\u001b[0m \u001b[0mValueError\u001b[0m\u001b[1;33m(\u001b[0m\u001b[1;34m\"%s is not supported\"\u001b[0m \u001b[1;33m%\u001b[0m \u001b[0my_type\u001b[0m\u001b[1;33m)\u001b[0m\u001b[1;33m\u001b[0m\u001b[0m\n",
      "\u001b[0;32mc:\\users\\branko\\anaconda3\\lib\\site-packages\\sklearn\\metrics\\classification.py\u001b[0m in \u001b[0;36m_check_targets\u001b[0;34m(y_true, y_pred)\u001b[0m\n\u001b[1;32m     79\u001b[0m     \u001b[1;32mif\u001b[0m \u001b[0mlen\u001b[0m\u001b[1;33m(\u001b[0m\u001b[0my_type\u001b[0m\u001b[1;33m)\u001b[0m \u001b[1;33m>\u001b[0m \u001b[1;36m1\u001b[0m\u001b[1;33m:\u001b[0m\u001b[1;33m\u001b[0m\u001b[0m\n\u001b[1;32m     80\u001b[0m         raise ValueError(\"Classification metrics can't handle a mix of {0} \"\n\u001b[0;32m---> 81\u001b[0;31m                          \"and {1} targets\".format(type_true, type_pred))\n\u001b[0m\u001b[1;32m     82\u001b[0m \u001b[1;33m\u001b[0m\u001b[0m\n\u001b[1;32m     83\u001b[0m     \u001b[1;31m# We can't have more than one value on y_type => The set is no more needed\u001b[0m\u001b[1;33m\u001b[0m\u001b[1;33m\u001b[0m\u001b[0m\n",
      "\u001b[0;31mValueError\u001b[0m: Classification metrics can't handle a mix of multilabel-indicator and continuous-multioutput targets"
     ]
    }
   ],
   "source": [
    "dp_network  = TFDeep([784,100,100, 100, 10])\n",
    "dp_network.train(mnist.train.images, mnist.train.labels, 1001)\n",
    "y_pred = dp_network.class_data(mnist.test.images)\n",
    "y_test = [ np.where(r==1)[0][0] for r in mnist.test.labels ]\n",
    "\n",
    "print(\"Confusion matrix [784,100, 100,100, 10 ]\\n\", confusion_matrix( y_test,y_pred))"
   ]
  },
  {
   "cell_type": "code",
   "execution_count": 33,
   "metadata": {},
   "outputs": [
    {
     "name": "stdout",
     "output_type": "stream",
     "text": [
      "(9, 10)\n"
     ]
    }
   ],
   "source": [
    "print(mnist.train.labels[1:10].shape)"
   ]
  },
  {
   "cell_type": "code",
   "execution_count": 40,
   "metadata": {},
   "outputs": [
    {
     "name": "stdout",
     "output_type": "stream",
     "text": [
      "Loss is 37454.273\n",
      "Loss is 34409.355\n",
      "Loss is 33679.516\n",
      "Loss is 33696.33\n",
      "Loss is 33293.07\n",
      "Loss is 32400.17\n",
      "Loss is 32335.234\n",
      "Loss is 32139.982\n",
      "Loss is 32617.21\n",
      "Loss is 32288.52\n",
      "Loss is 32397.443\n",
      "Loss is 31988.738\n"
     ]
    },
    {
     "ename": "KeyboardInterrupt",
     "evalue": "",
     "output_type": "error",
     "traceback": [
      "\u001b[0;31m---------------------------------------------------------------------------\u001b[0m",
      "\u001b[0;31mKeyboardInterrupt\u001b[0m                         Traceback (most recent call last)",
      "\u001b[0;32m<ipython-input-40-21d06ecfebc6>\u001b[0m in \u001b[0;36m<module>\u001b[0;34m()\u001b[0m\n\u001b[1;32m      1\u001b[0m \u001b[0mdp_network\u001b[0m  \u001b[1;33m=\u001b[0m \u001b[0mTFDeep\u001b[0m\u001b[1;33m(\u001b[0m\u001b[1;33m[\u001b[0m\u001b[1;36m784\u001b[0m\u001b[1;33m,\u001b[0m \u001b[1;36m100\u001b[0m\u001b[1;33m,\u001b[0m\u001b[1;36m100\u001b[0m\u001b[1;33m,\u001b[0m \u001b[1;36m10\u001b[0m\u001b[1;33m]\u001b[0m\u001b[1;33m,\u001b[0m \u001b[0mbatch_flag\u001b[0m\u001b[1;33m=\u001b[0m\u001b[1;32mTrue\u001b[0m\u001b[1;33m)\u001b[0m\u001b[1;33m\u001b[0m\u001b[0m\n\u001b[0;32m----> 2\u001b[0;31m \u001b[0mdp_network\u001b[0m\u001b[1;33m.\u001b[0m\u001b[0mtrain_mb\u001b[0m\u001b[1;33m(\u001b[0m\u001b[0mmnist\u001b[0m\u001b[1;33m.\u001b[0m\u001b[0mtrain\u001b[0m\u001b[1;33m.\u001b[0m\u001b[0mimages\u001b[0m\u001b[1;33m,\u001b[0m \u001b[0mmnist\u001b[0m\u001b[1;33m.\u001b[0m\u001b[0mtrain\u001b[0m\u001b[1;33m.\u001b[0m\u001b[0mlabels\u001b[0m\u001b[1;33m,\u001b[0m\u001b[0mn_epochs\u001b[0m\u001b[1;33m=\u001b[0m\u001b[1;36m500\u001b[0m\u001b[1;33m)\u001b[0m\u001b[1;33m\u001b[0m\u001b[0m\n\u001b[0m\u001b[1;32m      3\u001b[0m \u001b[1;31m# y_pred = dp_network.class_data(mnist.test.images)\u001b[0m\u001b[1;33m\u001b[0m\u001b[1;33m\u001b[0m\u001b[0m\n\u001b[1;32m      4\u001b[0m \u001b[1;31m# y_test = [ np.where(r==1)[0][0] for r in mnist.test.labels ]\u001b[0m\u001b[1;33m\u001b[0m\u001b[1;33m\u001b[0m\u001b[0m\n\u001b[1;32m      5\u001b[0m \u001b[1;33m\u001b[0m\u001b[0m\n",
      "\u001b[0;32m<ipython-input-38-ee3881ff40ee>\u001b[0m in \u001b[0;36mtrain_mb\u001b[0;34m(self, X, Yoh_, n_epochs)\u001b[0m\n\u001b[1;32m    140\u001b[0m                     \u001b[0mX_batch\u001b[0m \u001b[1;33m=\u001b[0m \u001b[0mX\u001b[0m\u001b[1;33m[\u001b[0m\u001b[1;33m(\u001b[0m\u001b[0miteration\u001b[0m\u001b[1;33m-\u001b[0m\u001b[1;36m1\u001b[0m\u001b[1;33m)\u001b[0m\u001b[1;33m*\u001b[0m\u001b[0mbatch_size\u001b[0m \u001b[1;33m:\u001b[0m \u001b[0miteration\u001b[0m\u001b[1;33m*\u001b[0m\u001b[0mbatch_size\u001b[0m\u001b[1;33m]\u001b[0m\u001b[1;33m\u001b[0m\u001b[0m\n\u001b[1;32m    141\u001b[0m                     \u001b[0my_batch\u001b[0m \u001b[1;33m=\u001b[0m \u001b[0mYoh_\u001b[0m\u001b[1;33m[\u001b[0m\u001b[1;33m(\u001b[0m\u001b[0miteration\u001b[0m\u001b[1;33m-\u001b[0m\u001b[1;36m1\u001b[0m\u001b[1;33m)\u001b[0m\u001b[1;33m*\u001b[0m\u001b[0mbatch_size\u001b[0m \u001b[1;33m:\u001b[0m \u001b[0miteration\u001b[0m\u001b[1;33m*\u001b[0m\u001b[0mbatch_size\u001b[0m\u001b[1;33m]\u001b[0m\u001b[1;33m\u001b[0m\u001b[0m\n\u001b[0;32m--> 142\u001b[0;31m                     \u001b[0mtrain\u001b[0m\u001b[1;33m,\u001b[0m \u001b[0mloss\u001b[0m\u001b[1;33m=\u001b[0m \u001b[0msess\u001b[0m\u001b[1;33m.\u001b[0m\u001b[0mrun\u001b[0m\u001b[1;33m(\u001b[0m\u001b[1;33m[\u001b[0m\u001b[0mself\u001b[0m\u001b[1;33m.\u001b[0m\u001b[0mtrain_step\u001b[0m\u001b[1;33m,\u001b[0m \u001b[0mself\u001b[0m\u001b[1;33m.\u001b[0m\u001b[0mloss\u001b[0m \u001b[1;33m]\u001b[0m\u001b[1;33m,\u001b[0m \u001b[0mfeed_dict\u001b[0m\u001b[1;33m=\u001b[0m\u001b[1;33m{\u001b[0m\u001b[0mself\u001b[0m\u001b[1;33m.\u001b[0m\u001b[0mX\u001b[0m\u001b[1;33m:\u001b[0m \u001b[0mX\u001b[0m\u001b[1;33m,\u001b[0m \u001b[0mself\u001b[0m\u001b[1;33m.\u001b[0m\u001b[0mY_\u001b[0m\u001b[1;33m:\u001b[0m \u001b[0mYoh_\u001b[0m\u001b[1;33m,\u001b[0m \u001b[0mself\u001b[0m\u001b[1;33m.\u001b[0m\u001b[0mis_training\u001b[0m\u001b[1;33m:\u001b[0m \u001b[1;32mTrue\u001b[0m\u001b[1;33m}\u001b[0m\u001b[1;33m)\u001b[0m\u001b[1;33m\u001b[0m\u001b[0m\n\u001b[0m\u001b[1;32m    143\u001b[0m                 \u001b[0mprint\u001b[0m\u001b[1;33m(\u001b[0m\u001b[1;34m\"Loss is\"\u001b[0m\u001b[1;33m,\u001b[0m \u001b[0mloss\u001b[0m\u001b[1;33m)\u001b[0m\u001b[1;33m\u001b[0m\u001b[0m\n\u001b[1;32m    144\u001b[0m                 \u001b[1;32mif\u001b[0m \u001b[0mepoch\u001b[0m \u001b[1;33m%\u001b[0m \u001b[1;36m100\u001b[0m \u001b[1;33m==\u001b[0m \u001b[1;36m0\u001b[0m\u001b[1;33m:\u001b[0m\u001b[1;33m\u001b[0m\u001b[0m\n",
      "\u001b[0;32mc:\\users\\branko\\anaconda3\\lib\\site-packages\\tensorflow\\python\\client\\session.py\u001b[0m in \u001b[0;36mrun\u001b[0;34m(self, fetches, feed_dict, options, run_metadata)\u001b[0m\n\u001b[1;32m    887\u001b[0m     \u001b[1;32mtry\u001b[0m\u001b[1;33m:\u001b[0m\u001b[1;33m\u001b[0m\u001b[0m\n\u001b[1;32m    888\u001b[0m       result = self._run(None, fetches, feed_dict, options_ptr,\n\u001b[0;32m--> 889\u001b[0;31m                          run_metadata_ptr)\n\u001b[0m\u001b[1;32m    890\u001b[0m       \u001b[1;32mif\u001b[0m \u001b[0mrun_metadata\u001b[0m\u001b[1;33m:\u001b[0m\u001b[1;33m\u001b[0m\u001b[0m\n\u001b[1;32m    891\u001b[0m         \u001b[0mproto_data\u001b[0m \u001b[1;33m=\u001b[0m \u001b[0mtf_session\u001b[0m\u001b[1;33m.\u001b[0m\u001b[0mTF_GetBuffer\u001b[0m\u001b[1;33m(\u001b[0m\u001b[0mrun_metadata_ptr\u001b[0m\u001b[1;33m)\u001b[0m\u001b[1;33m\u001b[0m\u001b[0m\n",
      "\u001b[0;32mc:\\users\\branko\\anaconda3\\lib\\site-packages\\tensorflow\\python\\client\\session.py\u001b[0m in \u001b[0;36m_run\u001b[0;34m(self, handle, fetches, feed_dict, options, run_metadata)\u001b[0m\n\u001b[1;32m   1118\u001b[0m     \u001b[1;32mif\u001b[0m \u001b[0mfinal_fetches\u001b[0m \u001b[1;32mor\u001b[0m \u001b[0mfinal_targets\u001b[0m \u001b[1;32mor\u001b[0m \u001b[1;33m(\u001b[0m\u001b[0mhandle\u001b[0m \u001b[1;32mand\u001b[0m \u001b[0mfeed_dict_tensor\u001b[0m\u001b[1;33m)\u001b[0m\u001b[1;33m:\u001b[0m\u001b[1;33m\u001b[0m\u001b[0m\n\u001b[1;32m   1119\u001b[0m       results = self._do_run(handle, final_targets, final_fetches,\n\u001b[0;32m-> 1120\u001b[0;31m                              feed_dict_tensor, options, run_metadata)\n\u001b[0m\u001b[1;32m   1121\u001b[0m     \u001b[1;32melse\u001b[0m\u001b[1;33m:\u001b[0m\u001b[1;33m\u001b[0m\u001b[0m\n\u001b[1;32m   1122\u001b[0m       \u001b[0mresults\u001b[0m \u001b[1;33m=\u001b[0m \u001b[1;33m[\u001b[0m\u001b[1;33m]\u001b[0m\u001b[1;33m\u001b[0m\u001b[0m\n",
      "\u001b[0;32mc:\\users\\branko\\anaconda3\\lib\\site-packages\\tensorflow\\python\\client\\session.py\u001b[0m in \u001b[0;36m_do_run\u001b[0;34m(self, handle, target_list, fetch_list, feed_dict, options, run_metadata)\u001b[0m\n\u001b[1;32m   1315\u001b[0m     \u001b[1;32mif\u001b[0m \u001b[0mhandle\u001b[0m \u001b[1;32mis\u001b[0m \u001b[1;32mNone\u001b[0m\u001b[1;33m:\u001b[0m\u001b[1;33m\u001b[0m\u001b[0m\n\u001b[1;32m   1316\u001b[0m       return self._do_call(_run_fn, self._session, feeds, fetches, targets,\n\u001b[0;32m-> 1317\u001b[0;31m                            options, run_metadata)\n\u001b[0m\u001b[1;32m   1318\u001b[0m     \u001b[1;32melse\u001b[0m\u001b[1;33m:\u001b[0m\u001b[1;33m\u001b[0m\u001b[0m\n\u001b[1;32m   1319\u001b[0m       \u001b[1;32mreturn\u001b[0m \u001b[0mself\u001b[0m\u001b[1;33m.\u001b[0m\u001b[0m_do_call\u001b[0m\u001b[1;33m(\u001b[0m\u001b[0m_prun_fn\u001b[0m\u001b[1;33m,\u001b[0m \u001b[0mself\u001b[0m\u001b[1;33m.\u001b[0m\u001b[0m_session\u001b[0m\u001b[1;33m,\u001b[0m \u001b[0mhandle\u001b[0m\u001b[1;33m,\u001b[0m \u001b[0mfeeds\u001b[0m\u001b[1;33m,\u001b[0m \u001b[0mfetches\u001b[0m\u001b[1;33m)\u001b[0m\u001b[1;33m\u001b[0m\u001b[0m\n",
      "\u001b[0;32mc:\\users\\branko\\anaconda3\\lib\\site-packages\\tensorflow\\python\\client\\session.py\u001b[0m in \u001b[0;36m_do_call\u001b[0;34m(self, fn, *args)\u001b[0m\n\u001b[1;32m   1321\u001b[0m   \u001b[1;32mdef\u001b[0m \u001b[0m_do_call\u001b[0m\u001b[1;33m(\u001b[0m\u001b[0mself\u001b[0m\u001b[1;33m,\u001b[0m \u001b[0mfn\u001b[0m\u001b[1;33m,\u001b[0m \u001b[1;33m*\u001b[0m\u001b[0margs\u001b[0m\u001b[1;33m)\u001b[0m\u001b[1;33m:\u001b[0m\u001b[1;33m\u001b[0m\u001b[0m\n\u001b[1;32m   1322\u001b[0m     \u001b[1;32mtry\u001b[0m\u001b[1;33m:\u001b[0m\u001b[1;33m\u001b[0m\u001b[0m\n\u001b[0;32m-> 1323\u001b[0;31m       \u001b[1;32mreturn\u001b[0m \u001b[0mfn\u001b[0m\u001b[1;33m(\u001b[0m\u001b[1;33m*\u001b[0m\u001b[0margs\u001b[0m\u001b[1;33m)\u001b[0m\u001b[1;33m\u001b[0m\u001b[0m\n\u001b[0m\u001b[1;32m   1324\u001b[0m     \u001b[1;32mexcept\u001b[0m \u001b[0merrors\u001b[0m\u001b[1;33m.\u001b[0m\u001b[0mOpError\u001b[0m \u001b[1;32mas\u001b[0m \u001b[0me\u001b[0m\u001b[1;33m:\u001b[0m\u001b[1;33m\u001b[0m\u001b[0m\n\u001b[1;32m   1325\u001b[0m       \u001b[0mmessage\u001b[0m \u001b[1;33m=\u001b[0m \u001b[0mcompat\u001b[0m\u001b[1;33m.\u001b[0m\u001b[0mas_text\u001b[0m\u001b[1;33m(\u001b[0m\u001b[0me\u001b[0m\u001b[1;33m.\u001b[0m\u001b[0mmessage\u001b[0m\u001b[1;33m)\u001b[0m\u001b[1;33m\u001b[0m\u001b[0m\n",
      "\u001b[0;32mc:\\users\\branko\\anaconda3\\lib\\site-packages\\tensorflow\\python\\client\\session.py\u001b[0m in \u001b[0;36m_run_fn\u001b[0;34m(session, feed_dict, fetch_list, target_list, options, run_metadata)\u001b[0m\n\u001b[1;32m   1300\u001b[0m           return tf_session.TF_Run(session, options,\n\u001b[1;32m   1301\u001b[0m                                    \u001b[0mfeed_dict\u001b[0m\u001b[1;33m,\u001b[0m \u001b[0mfetch_list\u001b[0m\u001b[1;33m,\u001b[0m \u001b[0mtarget_list\u001b[0m\u001b[1;33m,\u001b[0m\u001b[1;33m\u001b[0m\u001b[0m\n\u001b[0;32m-> 1302\u001b[0;31m                                    status, run_metadata)\n\u001b[0m\u001b[1;32m   1303\u001b[0m \u001b[1;33m\u001b[0m\u001b[0m\n\u001b[1;32m   1304\u001b[0m     \u001b[1;32mdef\u001b[0m \u001b[0m_prun_fn\u001b[0m\u001b[1;33m(\u001b[0m\u001b[0msession\u001b[0m\u001b[1;33m,\u001b[0m \u001b[0mhandle\u001b[0m\u001b[1;33m,\u001b[0m \u001b[0mfeed_dict\u001b[0m\u001b[1;33m,\u001b[0m \u001b[0mfetch_list\u001b[0m\u001b[1;33m)\u001b[0m\u001b[1;33m:\u001b[0m\u001b[1;33m\u001b[0m\u001b[0m\n",
      "\u001b[0;31mKeyboardInterrupt\u001b[0m: "
     ]
    }
   ],
   "source": [
    "dp_network  = TFDeep([784, 100,100, 10], batch_flag=True)\n",
    "dp_network.train_mb(mnist.train.images, mnist.train.labels,n_epochs=500)\n",
    "# y_pred = dp_network.class_data(mnist.test.images)\n",
    "# y_test = [ np.where(r==1)[0][0] for r in mnist.test.labels ]\n",
    "\n",
    "# print(\"Confusion matrix [784,100, 100, 10 ]\\n\", confusion_matrix( y_test,y_pred))"
   ]
  },
  {
   "cell_type": "code",
   "execution_count": 457,
   "metadata": {},
   "outputs": [
    {
     "name": "stdout",
     "output_type": "stream",
     "text": [
      "[[0. 0. 0. ... 0. 0. 0.]\n",
      " [0. 0. 0. ... 0. 0. 0.]]\n",
      "[[0. 0. 0. ... 0. 0. 0.]\n",
      " [0. 0. 0. ... 0. 0. 0.]]\n",
      "[[0. 0. 0. ... 0. 0. 0.]\n",
      " [0. 0. 0. ... 0. 0. 0.]]\n"
     ]
    }
   ],
   "source": [
    "X = mnist.train.images[0:5]\n",
    "Yoh_ = mnist.train.labels[0:5]\n",
    "batch_size = 2\n",
    "s = np.arange(X.shape[0])\n",
    "N, n = X.shape\n",
    "for epoch in range(3):\n",
    "    np.random.shuffle(s)\n",
    "    X = X[0:2]\n",
    "    print(X)\n",
    "    Yoh_ = Yoh_[s]\n",
    "#                 n_batches = N // batch_size\n",
    "#                 for iteration in range(1,n_batches):\n",
    "#                     X_batch = X[(iteration-1)*batch_size : iteration*batch_size]\n",
    "#                     y_batch = Yoh_[(iteration-1)*batch_size : iteration*batch_size]"
   ]
  },
  {
   "cell_type": "code",
   "execution_count": 56,
   "metadata": {},
   "outputs": [],
   "source": [
    "svm_mnist = KSVMWrap(mnist2.train.images , mnist2.train.labels)\n",
    "pred_mnist_svm = svm_mnist.predict(mnist2.test.images)\n"
   ]
  },
  {
   "cell_type": "code",
   "execution_count": 61,
   "metadata": {},
   "outputs": [
    {
     "name": "stdout",
     "output_type": "stream",
     "text": [
      "Accuracy  9439\n",
      "Precision  0.9439\n",
      "Confusion matrix [[ 967    0    1    0    0    5    5    1    1    0]\n",
      " [   0 1120    2    3    0    1    3    1    5    0]\n",
      " [   8    1  960    9   11    1   14    8   18    2]\n",
      " [   0    1   16  950    1   17    1    9   11    4]\n",
      " [   1    1    7    0  937    0    8    2    2   24]\n",
      " [   7    5    5   32    7  809   11    2    9    5]\n",
      " [   9    3    4    1    6    9  925    0    1    0]\n",
      " [   2   13   22    5    8    0    0  955    3   20]\n",
      " [   4    7    7   14    8   23   10    6  892    3]\n",
      " [   9    7    0   12   33    5    1   13    5  924]]\n"
     ]
    }
   ],
   "source": [
    "from sklearn.metrics import recall_score\n",
    "from sklearn.metrics import accuracy_score\n",
    "from sklearn.metrics import confusion_matrix\n",
    "print(\"Accuracy \", accuracy_score(mnist2.test.labels,pred_mnist_svm, normalize=False))\n",
    "print(\"Precision \", recall_score(mnist2.test.labels,pred_mnist_svm, average='micro') )\n",
    "print(\"Confusion matrix\", confusion_matrix(mnist2.test.labels,pred_mnist_svm,))"
   ]
  },
  {
   "cell_type": "code",
   "execution_count": 63,
   "metadata": {},
   "outputs": [],
   "source": [
    "\n",
    "svm_mnist_linear = KSVMWrap(mnist2.train.images , mnist2.train.labels, kernel_flag='linear')\n",
    "pred_mnist_svm_lr = svm_mnist_linear.predict(mnist2.test.images)"
   ]
  },
  {
   "cell_type": "code",
   "execution_count": 64,
   "metadata": {},
   "outputs": [
    {
     "name": "stdout",
     "output_type": "stream",
     "text": [
      "Accuracy  9393\n",
      "Precision  0.9393\n",
      "Confusion matrix [[ 957    0    4    1    1    7    8    1    1    0]\n",
      " [   0 1121    4    2    0    1    1    1    5    0]\n",
      " [   9    5  968   10    2    3   11    7   16    1]\n",
      " [   2    4   16  943    1   17    1    8   15    3]\n",
      " [   1    1    8    1  943    1    5    3    3   16]\n",
      " [   9    2    3   39    5  808   10    1   12    3]\n",
      " [  12    2   11    1    5   17  908    0    2    0]\n",
      " [   2    6   20   11   10    0    0  956    3   20]\n",
      " [   8    7    6   25    7   25    7    7  876    6]\n",
      " [   6    6    4    9   39    3    0   20    9  913]]\n"
     ]
    }
   ],
   "source": [
    "from sklearn.metrics import recall_score\n",
    "from sklearn.metrics import accuracy_score\n",
    "from sklearn.metrics import confusion_matrix\n",
    "print(\"Accuracy \", accuracy_score(mnist2.test.labels,pred_mnist_svm_lr, normalize=False))\n",
    "print(\"Precision \", recall_score(mnist2.test.labels,pred_mnist_svm_lr, average='micro') )\n",
    "print(\"Confusion matrix\", confusion_matrix(mnist2.test.labels,pred_mnist_svm_lr))"
   ]
  }
 ],
 "metadata": {
  "kernelspec": {
   "display_name": "Python 3",
   "language": "python",
   "name": "python3"
  },
  "language_info": {
   "codemirror_mode": {
    "name": "ipython",
    "version": 3
   },
   "file_extension": ".py",
   "mimetype": "text/x-python",
   "name": "python",
   "nbconvert_exporter": "python",
   "pygments_lexer": "ipython3",
   "version": "3.6.0"
  }
 },
 "nbformat": 4,
 "nbformat_minor": 2
}
